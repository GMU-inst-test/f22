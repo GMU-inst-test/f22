{
 "cells": [
  {
   "cell_type": "code",
   "execution_count": 30,
   "metadata": {},
   "outputs": [
    {
     "name": "stdout",
     "output_type": "stream",
     "text": [
      "Names ['al', 'bo', 'sam', 'de', 'jo']\n",
      "Team []\n"
     ]
    }
   ],
   "source": [
    "names = ['al', 'bo', 'sam', 'de', 'jo']\n",
    "team = []\n",
    "print(\"Names\", names)\n",
    "print(\"Team\", team)"
   ]
  },
  {
   "cell_type": "code",
   "execution_count": 28,
   "metadata": {},
   "outputs": [
    {
     "name": "stdout",
     "output_type": "stream",
     "text": [
      "['de', 'al', 'sam', 'jo']\n",
      "['bo']\n"
     ]
    }
   ],
   "source": [
    "import random\n",
    "import itertools\n",
    "N=4\n",
    "for i in itertools.repeat(None, N):\n",
    "    name_choice = random.choice(names)\n",
    "    names.remove(name_choice)\n",
    "    team.append(name_choice)\n",
    "print(team)\n",
    "print(names)"
   ]
  }
 ],
 "metadata": {
  "kernelspec": {
   "display_name": "Python 3.10.4 64-bit",
   "language": "python",
   "name": "python3"
  },
  "language_info": {
   "codemirror_mode": {
    "name": "ipython",
    "version": 3
   },
   "file_extension": ".py",
   "mimetype": "text/x-python",
   "name": "python",
   "nbconvert_exporter": "python",
   "pygments_lexer": "ipython3",
   "version": "3.10.4"
  },
  "orig_nbformat": 4,
  "vscode": {
   "interpreter": {
    "hash": "51499c2659ed4cb43a548fa4b2b62df0ca021ab0a5abe3bb135c5bc213dbd661"
   }
  }
 },
 "nbformat": 4,
 "nbformat_minor": 2
}
