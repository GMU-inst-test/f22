{
 "cells": [
  {
   "cell_type": "markdown",
   "metadata": {},
   "source": [
    "anagrams, anscombe, attention, brain_networks, car_crashes*, diamonds*, dots, exercise*, flights, fmri, gammas, geyser, iris*, mpg*, penguins*, planets, taxis*, tips*, titanic*"
   ]
  },
  {
   "cell_type": "code",
   "execution_count": 9,
   "metadata": {},
   "outputs": [
    {
     "data": {
      "text/html": [
       "<div>\n",
       "<style scoped>\n",
       "    .dataframe tbody tr th:only-of-type {\n",
       "        vertical-align: middle;\n",
       "    }\n",
       "\n",
       "    .dataframe tbody tr th {\n",
       "        vertical-align: top;\n",
       "    }\n",
       "\n",
       "    .dataframe thead th {\n",
       "        text-align: right;\n",
       "    }\n",
       "</style>\n",
       "<table border=\"1\" class=\"dataframe\">\n",
       "  <thead>\n",
       "    <tr style=\"text-align: right;\">\n",
       "      <th></th>\n",
       "      <th>species</th>\n",
       "      <th>island</th>\n",
       "      <th>bill_length_mm</th>\n",
       "      <th>bill_depth_mm</th>\n",
       "      <th>flipper_length_mm</th>\n",
       "      <th>body_mass_g</th>\n",
       "      <th>sex</th>\n",
       "    </tr>\n",
       "  </thead>\n",
       "  <tbody>\n",
       "    <tr>\n",
       "      <th>0</th>\n",
       "      <td>Adelie</td>\n",
       "      <td>Torgersen</td>\n",
       "      <td>39.1</td>\n",
       "      <td>18.7</td>\n",
       "      <td>181.0</td>\n",
       "      <td>3750.0</td>\n",
       "      <td>Male</td>\n",
       "    </tr>\n",
       "    <tr>\n",
       "      <th>1</th>\n",
       "      <td>Adelie</td>\n",
       "      <td>Torgersen</td>\n",
       "      <td>39.5</td>\n",
       "      <td>17.4</td>\n",
       "      <td>186.0</td>\n",
       "      <td>3800.0</td>\n",
       "      <td>Female</td>\n",
       "    </tr>\n",
       "    <tr>\n",
       "      <th>2</th>\n",
       "      <td>Adelie</td>\n",
       "      <td>Torgersen</td>\n",
       "      <td>40.3</td>\n",
       "      <td>18.0</td>\n",
       "      <td>195.0</td>\n",
       "      <td>3250.0</td>\n",
       "      <td>Female</td>\n",
       "    </tr>\n",
       "    <tr>\n",
       "      <th>3</th>\n",
       "      <td>Adelie</td>\n",
       "      <td>Torgersen</td>\n",
       "      <td>NaN</td>\n",
       "      <td>NaN</td>\n",
       "      <td>NaN</td>\n",
       "      <td>NaN</td>\n",
       "      <td>NaN</td>\n",
       "    </tr>\n",
       "    <tr>\n",
       "      <th>4</th>\n",
       "      <td>Adelie</td>\n",
       "      <td>Torgersen</td>\n",
       "      <td>36.7</td>\n",
       "      <td>19.3</td>\n",
       "      <td>193.0</td>\n",
       "      <td>3450.0</td>\n",
       "      <td>Female</td>\n",
       "    </tr>\n",
       "  </tbody>\n",
       "</table>\n",
       "</div>"
      ],
      "text/plain": [
       "  species     island  bill_length_mm  bill_depth_mm  flipper_length_mm  \\\n",
       "0  Adelie  Torgersen            39.1           18.7              181.0   \n",
       "1  Adelie  Torgersen            39.5           17.4              186.0   \n",
       "2  Adelie  Torgersen            40.3           18.0              195.0   \n",
       "3  Adelie  Torgersen             NaN            NaN                NaN   \n",
       "4  Adelie  Torgersen            36.7           19.3              193.0   \n",
       "\n",
       "   body_mass_g     sex  \n",
       "0       3750.0    Male  \n",
       "1       3800.0  Female  \n",
       "2       3250.0  Female  \n",
       "3          NaN     NaN  \n",
       "4       3450.0  Female  "
      ]
     },
     "metadata": {},
     "output_type": "display_data"
    }
   ],
   "source": [
    "import seaborn as sns\n",
    "import squarify \n",
    "import matplotlib\n",
    "import matplotlib.pyplot as plt\n",
    "import pandas as pd\n",
    "import numpy as np\n",
    "import plotly.graph_objects as go\n",
    "from plotly.subplots import make_subplots\n",
    "data = sns.load_dataset('penguins')\n",
    "display(data.head()) "
   ]
  },
  {
   "cell_type": "code",
   "execution_count": null,
   "metadata": {},
   "outputs": [],
   "source": [
    "data.info()"
   ]
  },
  {
   "cell_type": "code",
   "execution_count": null,
   "metadata": {},
   "outputs": [],
   "source": [
    "data.describe()"
   ]
  },
  {
   "cell_type": "code",
   "execution_count": null,
   "metadata": {},
   "outputs": [],
   "source": [
    "data.isnull().sum()"
   ]
  },
  {
   "cell_type": "code",
   "execution_count": null,
   "metadata": {},
   "outputs": [],
   "source": [
    "data['bill_length_mm'].fillna(data['bill_length_mm'].mean(), inplace=True)\n",
    "data['bill_depth_mm'].fillna(data['bill_depth_mm'].mean(), inplace=True)\n",
    "data['flipper_length_mm'].fillna(data['flipper_length_mm'].mean(), inplace=True)\n",
    "data['body_mass_g'].fillna(data['body_mass_g'].mean(), inplace=True)\n",
    "data['sex'].fillna(data['sex'].value_counts().index[0], inplace=True)\n",
    "data.isnull().sum()\n"
   ]
  },
  {
   "cell_type": "code",
   "execution_count": null,
   "metadata": {},
   "outputs": [],
   "source": [
    "data.head()"
   ]
  },
  {
   "cell_type": "code",
   "execution_count": null,
   "metadata": {},
   "outputs": [],
   "source": [
    "#Options are below for plots using Seaborn. Examples in following blocks.\n",
    "'''\n",
    "(data, kind, x, y, style, col, size, ci, row, hue, palette, order, orient, height, aspect, markers, linestyles, split, inner, col_wrap)\n",
    "viz = sns.relplot(                      #What category of plot (catplot, relplot, displot)\n",
    "    data=data,                          #What is your dataset?\n",
    "    data=data.query(use \" \" and/or),    #Want to slice out any part of it for this viz?     \n",
    "    kind = \"line\",                      #Plot type [relplot (line, scatter), catplot (strip, box, violin, boxen, point, bar, count, swarm)\n",
    "                                        displot (hist, kde, ecdf), lmplot, regplot, residplot, heatmap, clustermap]\n",
    "    x = \"flipper_length_mm\",            #What is your X\n",
    "    y = \"bill_length_mm\",               #What is your Y   \n",
    "    style = ,                           #Similar to hue, set marker style based on category\n",
    "    col = \"species\",                    #Want to break out into small multiples vertically?    \n",
    "    size = ,                            #Automatically normalized into ranges, size of marker or line by value\n",
    "    ci = \"sd\",                          #Confidence interval for line plots [\"none\", \"sd\"]    \n",
    "    row = ,                             #Use row with or instead of col    \n",
    "    hue = \"sex\",                        #Want to color by a 3rd feature? Lineplot shows multiple lines. Or,    \n",
    "    palette = {\" \" : \" \", \" \" : \" \"}    #Want to specify colors for each category?\n",
    "    order = [\" \", \" \"],                 #Order your categories explicitly, or data = data.sort_values(\"feature\")\n",
    "    orient = \"h\",                       #Want to swap x and y?     \n",
    "    height = , aspect = ,               #Want to set the height and width?    \n",
    "    markers = [\"^\", \"o\"],               #Want some cool markers?\n",
    "    linestyles = [\"--\"]                 #Want some cool linestyles? Line plot shows multiple lines.\n",
    "    split = True,                       #Use to split violin plot into two hues\n",
    "    inner = \"stick\"                     #Use to add value markers inside violin plot\n",
    "    col_wrap = 5                        #Wraps values in small multiples of 5 columns, across many values    \n",
    "    )\n",
    "\n",
    "viz.set_axis_labels(\"Flipper length\", \"Bill length\")\n",
    "viz.set(xscale = \"log\")                 #Use to convert x to log scale\n",
    "viz.figure.autofmt_xdate()              #Use when plotting time series, to format date\n",
    "viz2 = sns.type(args, ax = viz.ax)      #Use to add a second type of plot to the same axis\n",
    "'''\n",
    ";"
   ]
  },
  {
   "cell_type": "code",
   "execution_count": null,
   "metadata": {},
   "outputs": [],
   "source": [
    "#PYRAMID BAR - \n",
    "fig, ax = plt.subplots(nrows=1, ncols=2, sharey = True)\n",
    "sns.barplot(x = \"body_mass_g\", y = \"island\", color = \"darkblue\", ax = ax[0], data = data[(data.sex == \"Male\")])\n",
    "sns.barplot(x = \"body_mass_g\", y = \"island\", color = \"darkred\", ax = ax[0], data = data[(data.sex == \"Female\")])\n",
    "#ax[0].invert_xaxis()\n",
    "#ax[1].yaxis.tick_right()\n",
    "ax[0].set_title(\"Male\")\n",
    "#ax[1].set_title(\"Female\")\n",
    "ax[0].set(xlabel=\"body mass\", ylabel=\"island\") \n",
    "#ax[1].set(xlabel=\"body mass\", ylabel=\"\")\n",
    "#fig.suptitle(\"Penguins\")"
   ]
  },
  {
   "cell_type": "code",
   "execution_count": null,
   "metadata": {},
   "outputs": [],
   "source": [
    "#HISTOGRAM comparison- \n",
    "sns.set_theme(style=\"white\", rc={\"axes.spines.right\" : False, \"axes.spines.top\" : False}, font=\"DejaVu Sans\")\n",
    "ax = sns.histplot(x = \"flipper_length_mm\", color = \"gray\", data = data)\n",
    "heights = [p.get_height() for p in ax.patches]\n",
    "highest = sorted(heights)[len(heights)-1]\n",
    "for p in ax.patches:\n",
    "    if  p.get_height() == highest:\n",
    "        p.set_color('darkred')\n",
    "plt.title(\"Flipper Length Histogram\")\n",
    "plt.show()"
   ]
  },
  {
   "cell_type": "code",
   "execution_count": null,
   "metadata": {},
   "outputs": [],
   "source": [
    "#HISTOGRAM comparison- \n",
    "fig, ax = plt.subplots(ncols=2, nrows=1, sharey = True)\n",
    "sns.histplot(y = \"flipper_length_mm\", color = \"darkblue\", ax=ax[0], data = data[(data.sex == \"Male\")])\n",
    "sns.histplot(y = \"flipper_length_mm\", color = \"darkred\", ax=ax[1], data = data[(data.sex == \"Female\")])\n",
    "ax[0].invert_xaxis()\n",
    "ax[0].set_title(\"Male\")\n",
    "ax[1].set_title(\"Female\")\n",
    "ax[0].set(xlabel=\"count\", ylabel=\"flipper length\") \n",
    "ax[1].set(xlabel=\"count\", ylabel=\"\")\n",
    "fig.suptitle(\"Flipper Length\")\n"
   ]
  },
  {
   "cell_type": "code",
   "execution_count": null,
   "metadata": {},
   "outputs": [],
   "source": [
    "#HISTOGRAM comparison- \n",
    "fig, ax = plt.subplots(nrows=1, ncols=2, figsize = (10, 5))\n",
    "sns.histplot(ax = ax[0], x = \"flipper_length_mm\", kde = True, color = \"darkblue\", data = data[(data.sex == \"Male\")])\n",
    "sns.histplot(ax = ax[1], x = \"flipper_length_mm\", kde = True, color = \"darkred\", data = data[(data.sex == \"Female\")])\n",
    "plt.suptitle(\"Flipper Length\")\n",
    "plt.show()"
   ]
  },
  {
   "cell_type": "code",
   "execution_count": null,
   "metadata": {},
   "outputs": [],
   "source": [
    "#BOX comparison-\n",
    "fig, ax = plt.subplots(nrows=1, ncols=2, figsize = (10, 5))\n",
    "#BOX\n",
    "viz_box = sns.boxplot(data = data, x = \"island\", y = \"bill_length_mm\", ax = ax[0])\n",
    "#BOXEN\n",
    "viz_boxen = sns.boxenplot(data = data, x = \"island\", y = \"bill_length_mm\", ax = ax[1])\n",
    "ax[0].set_title(\"Box Plot\")\n",
    "ax[1].set_title(\"Boxen Plot\")\n",
    "plt.suptitle(\"Bill Length Plots\")\n",
    "plt.show()"
   ]
  },
  {
   "cell_type": "code",
   "execution_count": null,
   "metadata": {},
   "outputs": [],
   "source": [
    "#SWARM - STRIP comparison-\n",
    "fig, ax = plt.subplots(nrows=1, ncols=2, figsize = (10, 5))\n",
    "#SWARM\n",
    "viz_swarm = sns.swarmplot(data = data, x = \"island\", y = \"bill_length_mm\",  ax = ax[0])\n",
    "#STRIP\n",
    "viz_strip = sns.stripplot(data = data, x = \"island\", y = \"bill_length_mm\",  ax = ax[1])\n",
    "ax[0].set_title(\"Swarm Plot\")\n",
    "ax[1].set_title(\"Strip Plot\")\n",
    "plt.suptitle(\"Bill Length Plots\")\n",
    "plt.show()"
   ]
  },
  {
   "cell_type": "code",
   "execution_count": null,
   "metadata": {},
   "outputs": [],
   "source": [
    "#VIOLIN\n",
    "viz_violin = sns.violinplot(data = data, x = \"island\", y = \"bill_length_mm\")\n",
    "plt.title(\"Bill Length Violin Plots\")\n",
    "plt.show()"
   ]
  },
  {
   "cell_type": "code",
   "execution_count": null,
   "metadata": {},
   "outputs": [],
   "source": [
    "#RIDGELINE\n",
    "species = ['Adelie', 'Chinstrap', 'Gentoo']\n",
    "df_filtered = data[data['species'].isin(species)]\n",
    "df_filtered\n",
    "sns.set_theme(style=\"white\", rc={\"axes.facecolor\": (0, 0, 0, 0), 'axes.linewidth':2})\n",
    "palette = sns.color_palette(\"Set2\", 12)\n",
    "g = sns.FacetGrid(df_filtered, palette=palette, row=\"species\", hue=\"species\", aspect=7, height=1.2)\n",
    "g.map_dataframe(sns.kdeplot, x=\"flipper_length_mm\", fill=True, alpha=1)\n",
    "g.map_dataframe(sns.kdeplot, x=\"flipper_length_mm\", color='black')\n",
    "def label(x, color, label):\n",
    "    ax = plt.gca()\n",
    "    ax.text(0, .2, label, color='black', fontsize=13,\n",
    "            ha=\"left\", va=\"center\", transform=ax.transAxes)\n",
    "g.map(label, \"species\")\n",
    "g.fig.subplots_adjust(hspace=-.5)\n",
    "g.set_titles(\"\")\n",
    "g.set(yticks=[], xlabel=\"Flipper length (mm)\")\n",
    "g.despine( left=True)\n",
    "plt.suptitle('Flipper Length Ridgeline Plot', y=0.98)"
   ]
  },
  {
   "cell_type": "code",
   "execution_count": null,
   "metadata": {},
   "outputs": [],
   "source": [
    "#SUNBURST\n",
    "import plotly.express as px\n",
    "import plotly.graph_objects as go\n",
    "fig = px.sunburst(data,\n",
    "                  path=[\"sex\", \"island\", \"species\"],\n",
    "                  values='bill_length_mm',\n",
    "                  title=\"Penguin Species by Gender & Island (Plotly Express)\",\n",
    "                  width=450, height=450)\n",
    "fig.show()"
   ]
  },
  {
   "cell_type": "code",
   "execution_count": null,
   "metadata": {},
   "outputs": [],
   "source": [
    "#In case you need to group data for a viz\n",
    "data_group = data.groupby('species').count()\n",
    "data_group = data_group.reset_index()\n",
    "data_group.head()"
   ]
  },
  {
   "cell_type": "code",
   "execution_count": null,
   "metadata": {},
   "outputs": [],
   "source": [
    "#PIEPLOT\n",
    "data_group = data.groupby('species').count()\n",
    "data_group = data_group.reset_index()\n",
    "values = data_group['island']\n",
    "labels = data_group['species']\n",
    "plt.pie(values, labels = labels, radius = 1, startangle = 90, \n",
    "    explode = [0.2, 0.0, 0.0], textprops=dict(color=\"black\"), autopct='%1.1f%%')\n",
    "plt.title(\"Penguin Population Proportion by Species\")\n",
    "plt.show()"
   ]
  },
  {
   "cell_type": "code",
   "execution_count": null,
   "metadata": {},
   "outputs": [],
   "source": [
    "#RAINCLOUD\n",
    "def add_cosmetics(title='Penguin Flipper Length Raincloud Plot', xlabel='Flipper length', ylabel='Species'):\n",
    "    plt.title(title, fontsize=20)\n",
    "    plt.xlabel(xlabel, fontsize=15)\n",
    "    plt.ylabel(ylabel, fontsize=15)\n",
    "    plt.xticks(fontsize=10)\n",
    "    plt.yticks(fontsize=10)\n",
    "    sns.despine()\n",
    "plt.figure(figsize=(7, 4))\n",
    "# Create violin plots without mini-boxplots inside.\n",
    "ax = sns.violinplot(x='flipper_length_mm', y='species', data=data, color='mediumslateblue', cut=0, inner=None)\n",
    "# Clip the lower half of each violin.\n",
    "for item in ax.collections:\n",
    "    x0, y0, width, height = item.get_paths()[0].get_extents().bounds\n",
    "    item.set_clip_path(plt.Rectangle((x0, y0), width, height/2, transform=ax.transData))\n",
    "# Create strip plots with partially transparent points of different colors depending on the group.\n",
    "num_items = len(ax.collections)\n",
    "sns.stripplot(x='flipper_length_mm', y='species', hue='sex', data=data, palette=['orange', 'gray'], alpha=0.4, size=7)\n",
    "# Shift each strip plot strictly below the correponding volin.\n",
    "for item in ax.collections[num_items:]: item.set_offsets(item.get_offsets() + 0.15)\n",
    "# Create narrow boxplots on top of the corresponding violin and strip plots, with thick lines, the mean values, without the outliers.\n",
    "'''\n",
    "sns.boxplot(x='flipper_length_mm', y='species', data=data, width=0.25, showfliers=False, showmeans=True, \n",
    "            meanprops=dict(marker='o', markerfacecolor='darkorange', markersize=10, zorder=3),\n",
    "            boxprops=dict(facecolor=(0,0,0,0), linewidth=3, zorder=3), whiskerprops=dict(linewidth=3), \n",
    "            capprops=dict(linewidth=3), medianprops=dict(linewidth=3))\n",
    "plt.legend(frameon=False, fontsize=15, loc='upper right')\n",
    "add_cosmetics()\n",
    "'''"
   ]
  },
  {
   "cell_type": "code",
   "execution_count": null,
   "metadata": {},
   "outputs": [],
   "source": [
    "#TREEMAP\n",
    "colors=['#fae588','#f79d65','#f9dc5c','#e8ac65','#e76f51','#ef233c','#b7094c'] #color palette\n",
    "data2 = {'labels': [\"A\",\"B\",\"C\",\"D\",\"E\",\"F\",\"G\"],\n",
    "        'values':[10,20,25,35,10,25,45]}\n",
    "df = pd.DataFrame(data2)\n",
    "fig = px.treemap(df, path=['labels'],values='values', width=400, height=200, title = \"Random Treemap: Color = Relative Value\")\n",
    "fig.update_layout(\n",
    "    treemapcolorway = colors, #defines the colors in the treemap\n",
    "    margin = dict(t=25, l=25, r=25, b=25))\n",
    "fig.show()"
   ]
  },
  {
   "cell_type": "code",
   "execution_count": null,
   "metadata": {},
   "outputs": [],
   "source": [
    "sns.jointplot(data=data, x = \"flipper_length_mm\", y = \"bill_length_mm\")\n"
   ]
  },
  {
   "cell_type": "code",
   "execution_count": null,
   "metadata": {},
   "outputs": [],
   "source": [
    "#PAIRPLOT\n",
    "sns.set_theme(style=\"ticks\")\n",
    "df = sns.load_dataset(\"penguins\")\n",
    "sns.pairplot(df, hue=\"species\")"
   ]
  },
  {
   "cell_type": "code",
   "execution_count": null,
   "metadata": {},
   "outputs": [],
   "source": [
    "#KDE PLOT\n",
    "sns.set_theme(style=\"darkgrid\")\n",
    "# Set up the figure\n",
    "f, ax = plt.subplots(figsize=(8, 8))\n",
    "ax.set_aspect(\"equal\")\n",
    "# Draw a contour plot to represent each bivariate density\n",
    "sns.kdeplot(data=data, x=\"flipper_length_mm\", y=\"bill_length_mm\", hue=\"species\", thresh=.1)"
   ]
  }
 ],
 "metadata": {
  "kernelspec": {
   "display_name": "Python 3.10.4 64-bit",
   "language": "python",
   "name": "python3"
  },
  "language_info": {
   "codemirror_mode": {
    "name": "ipython",
    "version": 3
   },
   "file_extension": ".py",
   "mimetype": "text/x-python",
   "name": "python",
   "nbconvert_exporter": "python",
   "pygments_lexer": "ipython3",
   "version": "3.10.4"
  },
  "orig_nbformat": 4,
  "vscode": {
   "interpreter": {
    "hash": "51499c2659ed4cb43a548fa4b2b62df0ca021ab0a5abe3bb135c5bc213dbd661"
   }
  }
 },
 "nbformat": 4,
 "nbformat_minor": 2
}
