{
 "cells": [
  {
   "cell_type": "markdown",
   "metadata": {},
   "source": [
    "Week 5: data import, cleaning, prep, examination, outliers, exploratory data analysis (distribution, etc.), a little PCA"
   ]
  },
  {
   "cell_type": "code",
   "execution_count": 9,
   "metadata": {},
   "outputs": [
    {
     "name": "stdout",
     "output_type": "stream",
     "text": [
      "True\n"
     ]
    }
   ],
   "source": [
    "import warnings\n",
    "warnings.filterwarnings('ignore')  \n",
    "import seaborn as sns\n",
    "\n",
    "from pathlib import Path\n",
    "file_loc = Path(r'C:\\Users\\hruss\\OneDrive\\Documents\\GMU\\Repositories\\CDS303-F22\\data')\n",
    "print(file_loc.is_dir())"
   ]
  },
  {
   "cell_type": "code",
   "execution_count": 10,
   "metadata": {},
   "outputs": [
    {
     "name": "stdout",
     "output_type": "stream",
     "text": [
      "                pickup              dropoff  passengers  distance  fare   tip  \\\n",
      "0  2019-03-23 20:21:09  2019-03-23 20:27:24           1      1.60   7.0  2.15   \n",
      "1  2019-03-04 16:11:55  2019-03-04 16:19:00           1      0.79   5.0  0.00   \n",
      "2  2019-03-27 17:53:01  2019-03-27 18:00:25           1      1.37   7.5  2.36   \n",
      "3  2019-03-10 01:23:59  2019-03-10 01:49:51           1      7.70  27.0  6.15   \n",
      "4  2019-03-30 13:27:42  2019-03-30 13:37:14           3      2.16   9.0  1.10   \n",
      "\n",
      "   tolls  total   color      payment            pickup_zone  \\\n",
      "0    0.0  12.95  yellow  credit card        Lenox Hill West   \n",
      "1    0.0   9.30  yellow         cash  Upper West Side South   \n",
      "2    0.0  14.16  yellow  credit card          Alphabet City   \n",
      "3    0.0  36.95  yellow  credit card              Hudson Sq   \n",
      "4    0.0  13.40  yellow  credit card           Midtown East   \n",
      "\n",
      "            dropoff_zone pickup_borough dropoff_borough  \n",
      "0    UN/Turtle Bay South      Manhattan       Manhattan  \n",
      "1  Upper West Side South      Manhattan       Manhattan  \n",
      "2           West Village      Manhattan       Manhattan  \n",
      "3         Yorkville West      Manhattan       Manhattan  \n",
      "4         Yorkville West      Manhattan       Manhattan  \n"
     ]
    }
   ],
   "source": [
    "df = sns.load_dataset('taxis')\n",
    "print(df.head())"
   ]
  },
  {
   "cell_type": "code",
   "execution_count": 11,
   "metadata": {},
   "outputs": [
    {
     "data": {
      "text/plain": [
       "Index(['pickup', 'dropoff', 'passengers', 'distance', 'fare', 'tip', 'tolls',\n",
       "       'total', 'color', 'payment', 'pickup_zone', 'dropoff_zone',\n",
       "       'pickup_borough', 'dropoff_borough'],\n",
       "      dtype='object')"
      ]
     },
     "execution_count": 11,
     "metadata": {},
     "output_type": "execute_result"
    }
   ],
   "source": [
    "df.columns"
   ]
  },
  {
   "cell_type": "code",
   "execution_count": 12,
   "metadata": {},
   "outputs": [
    {
     "name": "stdout",
     "output_type": "stream",
     "text": [
      "<class 'pandas.core.frame.DataFrame'>\n",
      "RangeIndex: 6433 entries, 0 to 6432\n",
      "Data columns (total 14 columns):\n",
      " #   Column           Non-Null Count  Dtype  \n",
      "---  ------           --------------  -----  \n",
      " 0   pickup           6433 non-null   object \n",
      " 1   dropoff          6433 non-null   object \n",
      " 2   passengers       6433 non-null   int64  \n",
      " 3   distance         6433 non-null   float64\n",
      " 4   fare             6433 non-null   float64\n",
      " 5   tip              6433 non-null   float64\n",
      " 6   tolls            6433 non-null   float64\n",
      " 7   total            6433 non-null   float64\n",
      " 8   color            6433 non-null   object \n",
      " 9   payment          6389 non-null   object \n",
      " 10  pickup_zone      6407 non-null   object \n",
      " 11  dropoff_zone     6388 non-null   object \n",
      " 12  pickup_borough   6407 non-null   object \n",
      " 13  dropoff_borough  6388 non-null   object \n",
      "dtypes: float64(5), int64(1), object(8)\n",
      "memory usage: 703.7+ KB\n"
     ]
    }
   ],
   "source": [
    "df.info()"
   ]
  },
  {
   "cell_type": "code",
   "execution_count": 13,
   "metadata": {},
   "outputs": [
    {
     "data": {
      "text/plain": [
       "pickup              0\n",
       "dropoff             0\n",
       "passengers          0\n",
       "distance            0\n",
       "fare                0\n",
       "tip                 0\n",
       "tolls               0\n",
       "total               0\n",
       "color               0\n",
       "payment            44\n",
       "pickup_zone        26\n",
       "dropoff_zone       45\n",
       "pickup_borough     26\n",
       "dropoff_borough    45\n",
       "dtype: int64"
      ]
     },
     "execution_count": 13,
     "metadata": {},
     "output_type": "execute_result"
    }
   ],
   "source": [
    "#Count nulls, print only features with null values \n",
    "nulls = df.isnull().sum()\n",
    "nulls\n",
    "#print(nulls[nulls >= 1])"
   ]
  },
  {
   "cell_type": "code",
   "execution_count": 14,
   "metadata": {},
   "outputs": [
    {
     "name": "stdout",
     "output_type": "stream",
     "text": [
      "Number of pickup boroughs: 5\n",
      "Number of pickup zones: 195\n"
     ]
    }
   ],
   "source": [
    "#Since locations are very important to us, any row that is missing location information is of no use. What are the counts for \n",
    "#boroughs and zones?\n",
    "print(\"Number of pickup boroughs:\", len(df['pickup_borough'].unique()))\n",
    "print(\"Number of pickup zones:\", len(df['pickup_zone'].unique()))\n"
   ]
  },
  {
   "cell_type": "code",
   "execution_count": 15,
   "metadata": {},
   "outputs": [
    {
     "name": "stdout",
     "output_type": "stream",
     "text": [
      "0\n",
      "0\n"
     ]
    }
   ],
   "source": [
    "#We have a lot more zones than boroughs, safe to say zones are nested in boroughs. \n",
    "#Question: if the row is missing borough, will it also be missing zone?\n",
    "df_not_null_puzone = df[df['pickup_borough'].notnull()]\n",
    "df_not_null_dozone = df[df['dropoff_borough'].notnull()]\n",
    "print(df_not_null_puzone['pickup_zone'].isnull().sum())\n",
    "print(df_not_null_dozone['dropoff_zone'].isnull().sum())"
   ]
  },
  {
   "cell_type": "code",
   "execution_count": 16,
   "metadata": {},
   "outputs": [
    {
     "name": "stdout",
     "output_type": "stream",
     "text": [
      "payment            44\n",
      "pickup_zone         5\n",
      "dropoff_zone       24\n",
      "pickup_borough      5\n",
      "dropoff_borough    24\n",
      "dtype: int64\n"
     ]
    }
   ],
   "source": [
    "#OK, missing pickup boroughs also result in missing pickup zones. Since location is key, then we can drop any rows that are missing both\n",
    "#pickup and dropoff boroughs because there's no chance of filling in the info using zone info. Note, we still might want rows that have \n",
    "#either pickup or dropoff borough, but not rows that are missing both.\n",
    "df2 = df[df['pickup_borough'].notnull() | df['dropoff_borough'].notnull()]\n",
    "nulls2 = df2.isnull().sum()\n",
    "print(nulls2[nulls2 >= 1])"
   ]
  },
  {
   "cell_type": "code",
   "execution_count": 42,
   "metadata": {},
   "outputs": [
    {
     "name": "stdout",
     "output_type": "stream",
     "text": [
      "                pickup              dropoff  passengers  distance  fare   tip  \\\n",
      "0  2019-03-23 20:21:09  2019-03-23 20:27:24           1      1.60   7.0  2.15   \n",
      "1  2019-03-04 16:11:55  2019-03-04 16:19:00           1      0.79   5.0  0.00   \n",
      "2  2019-03-27 17:53:01  2019-03-27 18:00:25           1      1.37   7.5  2.36   \n",
      "3  2019-03-10 01:23:59  2019-03-10 01:49:51           1      7.70  27.0  6.15   \n",
      "4  2019-03-30 13:27:42  2019-03-30 13:37:14           3      2.16   9.0  1.10   \n",
      "\n",
      "   tolls  total   color      payment            pickup_zone  \\\n",
      "0    0.0  12.95  yellow  credit card        Lenox Hill West   \n",
      "1    0.0   9.30  yellow         cash  Upper West Side South   \n",
      "2    0.0  14.16  yellow  credit card          Alphabet City   \n",
      "3    0.0  36.95  yellow  credit card              Hudson Sq   \n",
      "4    0.0  13.40  yellow  credit card           Midtown East   \n",
      "\n",
      "            dropoff_zone pickup_borough dropoff_borough  \n",
      "0    UN/Turtle Bay South      Manhattan       Manhattan  \n",
      "1  Upper West Side South      Manhattan       Manhattan  \n",
      "2           West Village      Manhattan       Manhattan  \n",
      "3         Yorkville West      Manhattan       Manhattan  \n",
      "4         Yorkville West      Manhattan       Manhattan  \n"
     ]
    }
   ],
   "source": [
    "print(df2.head())"
   ]
  },
  {
   "cell_type": "code",
   "execution_count": 18,
   "metadata": {},
   "outputs": [],
   "source": [
    "#Originally, we had 26 missing pickup boroughs, and 45 missing dropoff boroughs, now we're down to 5 and 24 respectively.\n",
    "#We can still use this for studying tips based solely on pickup and dropoff, however we need to be mindful if we want to study\n",
    "#entire trips (which we will at some point.)\n",
    "\n",
    "#Next is payment type. In our case study, we'll determine if we actually need to keep it. Here, we're focused on how to keep and \n",
    "#prepare it in a useful way. We have quite a few missing values here. From here out we're using df2 which has filtered boroughs / zones."
   ]
  },
  {
   "cell_type": "code",
   "execution_count": 19,
   "metadata": {},
   "outputs": [
    {
     "name": "stdout",
     "output_type": "stream",
     "text": [
      "Balance of payment feature overall\n",
      "             payment\n",
      "credit card  0.71608\n",
      "cash         0.28392\n"
     ]
    }
   ],
   "source": [
    "#We can try grouping the data by pickup and/or dropoff locations, then pick the mode (most frequent) value for payment.\n",
    "#We can also take a look at the class balance, and apportion the payment values to maintain the balance. So, if for example the overall\n",
    "#balance of cash / credit is 20 / 80, then we may want to fill in the missing values the same way. Or, instead of looking a the balance across\n",
    "#the overall dataset, we might look by grouping.\n",
    "df2_notnull = df2[df2['payment'].notnull()]\n",
    "print('Balance of payment feature overall')\n",
    "print(df2_notnull['payment'].value_counts(normalize = True).to_frame())\n"
   ]
  },
  {
   "cell_type": "code",
   "execution_count": 46,
   "metadata": {},
   "outputs": [
    {
     "name": "stdout",
     "output_type": "stream",
     "text": [
      "Balance of payment feature by pickup borough\n",
      "                             payment\n",
      "pickup_borough payment              \n",
      "Bronx          credit card  0.747475\n",
      "               cash         0.252525\n",
      "Brooklyn       credit card  0.686842\n",
      "               cash         0.313158\n",
      "Manhattan      credit card  0.733193\n",
      "               cash         0.266807\n",
      "Queens         credit card  0.590139\n",
      "               cash         0.409861\n"
     ]
    }
   ],
   "source": [
    "\n",
    "print('Balance of payment feature by pickup borough')\n",
    "print(df2_notnull.groupby('pickup_borough')['payment'].value_counts(normalize = True).to_frame())\n"
   ]
  },
  {
   "cell_type": "code",
   "execution_count": 45,
   "metadata": {},
   "outputs": [
    {
     "name": "stdout",
     "output_type": "stream",
     "text": [
      "Balance of payment feature by dropoff borough\n",
      "                              payment\n",
      "dropoff_borough payment              \n",
      "Bronx           credit card  0.617647\n",
      "                cash         0.382353\n",
      "Brooklyn        credit card  0.692153\n",
      "                cash         0.307847\n",
      "Manhattan       credit card  0.737056\n",
      "                cash         0.262944\n",
      "Queens          credit card  0.569288\n",
      "                cash         0.430712\n",
      "Staten Island   credit card  1.000000\n"
     ]
    }
   ],
   "source": [
    "\n",
    "print('Balance of payment feature by dropoff borough')\n",
    "print(df2_notnull.groupby('dropoff_borough')['payment'].value_counts(normalize = True).to_frame())\n"
   ]
  },
  {
   "cell_type": "code",
   "execution_count": 22,
   "metadata": {},
   "outputs": [
    {
     "name": "stdout",
     "output_type": "stream",
     "text": [
      "payment    42\n",
      "dtype: int64\n"
     ]
    }
   ],
   "source": [
    "#We can see that some boroughs are closer to the 70/30 split, while others are much further away. Best thing to preserve the class balances\n",
    "#would be to assign values based on the proportions in each borough. There is also a big difference between pickup and dropoff location\n",
    "#proportions. So, which do we choose? Best would be to assign the values by entire trip (from / to). Remember we said we'd need to do \n",
    "#analysis based on entire trip? For this, we'll need to keep only the rows that have both pickup and dropoff locations. Doing this by borough\n",
    "#(not zone) would be fine here.\n",
    "\n",
    "df3 = df2[(df2['pickup_borough'].notnull()) & (df2['dropoff_borough'].notnull())]\n",
    "nulls = df3.isnull().sum()\n",
    "print(nulls[nulls >= 1])"
   ]
  },
  {
   "cell_type": "code",
   "execution_count": 23,
   "metadata": {},
   "outputs": [
    {
     "name": "stdout",
     "output_type": "stream",
     "text": [
      "credit card    0.716922\n",
      "cash           0.283078\n",
      "Name: payment, dtype: float64\n",
      "payment    42\n",
      "dtype: int64\n"
     ]
    }
   ],
   "source": [
    "df3_wasNull = df3\n",
    "print(df3_wasNull['payment'].value_counts(normalize=True))\n",
    "nulls1 = df3_wasNull.isnull().sum()\n",
    "print(nulls1[nulls1 >= 1])"
   ]
  },
  {
   "cell_type": "code",
   "execution_count": 47,
   "metadata": {},
   "outputs": [
    {
     "name": "stdout",
     "output_type": "stream",
     "text": [
      "              payment\n",
      "credit card  0.717374\n",
      "cash         0.282626\n"
     ]
    }
   ],
   "source": [
    "import numpy as np\n",
    "for _, gdf in df3.groupby(['pickup_borough', 'dropoff_borough'])['payment']:\n",
    "    vc = gdf.value_counts(normalize=True)\n",
    "    df3.loc[gdf.loc[gdf.isna()].index, 'payment'] = (\n",
    "        np.random.choice(vc.index, gdf.isna().sum(), p=vc)\n",
    "    )\n",
    "print(df3['payment'].value_counts(normalize=True).to_frame())"
   ]
  },
  {
   "cell_type": "code",
   "execution_count": 25,
   "metadata": {},
   "outputs": [
    {
     "data": {
      "text/plain": [
       "pickup             0\n",
       "dropoff            0\n",
       "passengers         0\n",
       "distance           0\n",
       "fare               0\n",
       "tip                0\n",
       "tolls              0\n",
       "total              0\n",
       "color              0\n",
       "payment            0\n",
       "pickup_zone        0\n",
       "dropoff_zone       0\n",
       "pickup_borough     0\n",
       "dropoff_borough    0\n",
       "dtype: int64"
      ]
     },
     "execution_count": 25,
     "metadata": {},
     "output_type": "execute_result"
    }
   ],
   "source": [
    "df3.isnull().sum()"
   ]
  },
  {
   "cell_type": "code",
   "execution_count": 48,
   "metadata": {},
   "outputs": [
    {
     "name": "stdout",
     "output_type": "stream",
     "text": [
      "        passengers     distance         fare          tip        tolls  \\\n",
      "count  6383.000000  6383.000000  6383.000000  6383.000000  6383.000000   \n",
      "mean      1.540812     2.994479    12.873472     1.959723     0.314526   \n",
      "std       1.205929     3.717136    10.718949     2.359509     1.368289   \n",
      "min       0.000000     0.000000     1.000000     0.000000     0.000000   \n",
      "25%       1.000000     0.990000     6.500000     0.000000     0.000000   \n",
      "50%       1.000000     1.650000     9.500000     1.700000     0.000000   \n",
      "75%       2.000000     3.200000    15.000000     2.790000     0.000000   \n",
      "max       6.000000    36.700000   150.000000    23.190000    24.020000   \n",
      "\n",
      "             total  \n",
      "count  6383.000000  \n",
      "mean     18.281059  \n",
      "std      12.947807  \n",
      "min       1.300000  \n",
      "25%      10.800000  \n",
      "50%      14.160000  \n",
      "75%      20.300000  \n",
      "max     174.820000  \n"
     ]
    }
   ],
   "source": [
    "#Time to look at other aspects of the dataset. \n",
    "print(df3.describe())"
   ]
  },
  {
   "cell_type": "code",
   "execution_count": 27,
   "metadata": {},
   "outputs": [
    {
     "data": {
      "text/plain": [
       "(96, 14)"
      ]
     },
     "execution_count": 27,
     "metadata": {},
     "output_type": "execute_result"
    }
   ],
   "source": [
    "#There are apparently trips with zero passengers that went zero distance. Let's take a look at those.\n",
    "df3[df3['passengers'] == 0].shape"
   ]
  },
  {
   "cell_type": "code",
   "execution_count": 28,
   "metadata": {},
   "outputs": [
    {
     "data": {
      "text/plain": [
       "(36, 14)"
      ]
     },
     "execution_count": 28,
     "metadata": {},
     "output_type": "execute_result"
    }
   ],
   "source": [
    "#Holy cow, 96 rows are missing number of passengers. Is there a chance maybe they are delivering food?\n",
    "#Let's wait on that decision for now. How about the trips with zero distance?\n",
    "df3[df3['distance'] == 0].shape"
   ]
  },
  {
   "cell_type": "code",
   "execution_count": 49,
   "metadata": {},
   "outputs": [
    {
     "name": "stdout",
     "output_type": "stream",
     "text": [
      "pickup_zone                     dropoff_zone                    tip  \n",
      "Astoria                         Astoria                         0.00     2\n",
      "Bushwick South                  Bushwick South                  0.00     1\n",
      "Clinton East                    Clinton East                    12.21    1\n",
      "Cobble Hill                     Cobble Hill                     0.00     1\n",
      "Downtown Brooklyn/MetroTech     Downtown Brooklyn/MetroTech     0.00     1\n",
      "Dyker Heights                   Dyker Heights                   0.00     1\n",
      "East Chelsea                    East Chelsea                    0.00     1\n",
      "Financial District North        World Trade Center              0.00     1\n",
      "Flatbush/Ditmas Park            Flatbush/Ditmas Park            0.01     1\n",
      "Fort Greene                     Fort Greene                     0.00     1\n",
      "Garment District                Garment District                0.00     1\n",
      "Hudson Sq                       Hudson Sq                       0.00     1\n",
      "Hunts Point                     Hunts Point                     0.00     1\n",
      "JFK Airport                     JFK Airport                     0.00     3\n",
      "Lenox Hill East                 Lenox Hill East                 0.00     1\n",
      "                                                                2.86     1\n",
      "Lincoln Square East             Lincoln Square East             16.59    1\n",
      "Long Island City/Hunters Point  Long Island City/Hunters Point  0.00     2\n",
      "Manhattanville                  Manhattanville                  0.00     1\n",
      "Midtown Center                  Midtown Center                  0.00     1\n",
      "Midtown South                   Midtown South                   0.00     1\n",
      "Parkchester                     Flatbush/Ditmas Park            0.00     1\n",
      "Queensbridge/Ravenswood         Queensbridge/Ravenswood         0.00     3\n",
      "                                                                0.01     1\n",
      "Rosedale                        Rosedale                        0.00     1\n",
      "Seaport                         Battery Park City               0.00     1\n",
      "Steinway                        Sunnyside                       0.00     1\n",
      "Times Sq/Theatre District       Times Sq/Theatre District       0.00     1\n",
      "TriBeCa/Civic Center            TriBeCa/Civic Center            13.66    1\n",
      "West Village                    Upper East Side South           0.00     1\n",
      "Name: tip, dtype: int64\n"
     ]
    }
   ],
   "source": [
    "#Fewer trips with zero distance. This is an easy one to fix, too, and unlike number of passengers it is obviously an error.\n",
    "#We can fix this in much the same way as we fixed the payment column: by grouping according to pickup and dropoff.\n",
    "#First, I'd like to make sure that the distances are relatively consistent for trips.\n",
    "#Another thing, I'd like to get a little more granular with the locations, so I'll try to use zones instead of boroughs.\n",
    "df3_zeroDist = df3[df3['distance'] == 0]\n",
    "print(df3_zeroDist.groupby(['pickup_zone', 'dropoff_zone'])['tip'].value_counts())"
   ]
  },
  {
   "cell_type": "code",
   "execution_count": 50,
   "metadata": {},
   "outputs": [
    {
     "name": "stdout",
     "output_type": "stream",
     "text": [
      "pickup_zone               dropoff_zone           tip\n",
      "Financial District North  World Trade Center     0.0    1\n",
      "Parkchester               Flatbush/Ditmas Park   0.0    1\n",
      "Seaport                   Battery Park City      0.0    1\n",
      "Steinway                  Sunnyside              0.0    1\n",
      "West Village              Upper East Side South  0.0    1\n",
      "Name: tip, dtype: int64\n"
     ]
    }
   ],
   "source": [
    "#Odd, some of these trips have big tips, despite being in the same borough for pickup / dropoff. \n",
    "#For now, I might be inclined to drop these, or maybe assign them a 1/2 mile just so they're not zero.\n",
    "#Let's just try one more thing: let's look at all instances where pickup zone does not equal dropoff zone.\n",
    "df3_zeroDist_diffZone = df3_zeroDist[df3_zeroDist['pickup_zone'] != df3_zeroDist['dropoff_zone']]\n",
    "print(df3_zeroDist_diffZone.groupby(['pickup_zone', 'dropoff_zone'])['tip'].value_counts())"
   ]
  },
  {
   "cell_type": "code",
   "execution_count": 51,
   "metadata": {},
   "outputs": [
    {
     "name": "stdout",
     "output_type": "stream",
     "text": [
      "                pickup              dropoff  passengers  distance  fare   tip  \\\n",
      "0  2019-03-23 20:21:09  2019-03-23 20:27:24           1      1.60   7.0  2.15   \n",
      "1  2019-03-04 16:11:55  2019-03-04 16:19:00           1      0.79   5.0  0.00   \n",
      "2  2019-03-27 17:53:01  2019-03-27 18:00:25           1      1.37   7.5  2.36   \n",
      "3  2019-03-10 01:23:59  2019-03-10 01:49:51           1      7.70  27.0  6.15   \n",
      "4  2019-03-30 13:27:42  2019-03-30 13:37:14           3      2.16   9.0  1.10   \n",
      "\n",
      "   tolls  total   color      payment            pickup_zone  \\\n",
      "0    0.0  12.95  yellow  credit card        Lenox Hill West   \n",
      "1    0.0   9.30  yellow         cash  Upper West Side South   \n",
      "2    0.0  14.16  yellow  credit card          Alphabet City   \n",
      "3    0.0  36.95  yellow  credit card              Hudson Sq   \n",
      "4    0.0  13.40  yellow  credit card           Midtown East   \n",
      "\n",
      "            dropoff_zone pickup_borough dropoff_borough  \n",
      "0    UN/Turtle Bay South      Manhattan       Manhattan  \n",
      "1  Upper West Side South      Manhattan       Manhattan  \n",
      "2           West Village      Manhattan       Manhattan  \n",
      "3         Yorkville West      Manhattan       Manhattan  \n",
      "4         Yorkville West      Manhattan       Manhattan  \n"
     ]
    }
   ],
   "source": [
    "#Steinway to Sunnyside is 2.5 miles, Parkchester to Ditmas Park is 20 miles. I think it is best to remove all of the zero\n",
    "#distance occurrences since we cannot know for sure what the distance should be. Easiest way to do this is filter dataset\n",
    "#such that minimum distance is greater than zero.\n",
    "#In addition, we want to break up date and time into month of year, day of week, and hour of day. We do all this below:\n",
    "import datetime as dt\n",
    "from datetime import date\n",
    "import pandas as pd\n",
    "\n",
    "df4 = df3[(df3['distance'] != 0) & (df3['passengers'] != 0)]\n",
    "print(df4.head())"
   ]
  },
  {
   "cell_type": "code",
   "execution_count": 52,
   "metadata": {},
   "outputs": [
    {
     "name": "stdout",
     "output_type": "stream",
     "text": [
      "   passengers  distance  fare   tip  tolls  total   color      payment  \\\n",
      "0           1      1.60   7.0  2.15    0.0  12.95  yellow  credit card   \n",
      "1           1      0.79   5.0  0.00    0.0   9.30  yellow         cash   \n",
      "2           1      1.37   7.5  2.36    0.0  14.16  yellow  credit card   \n",
      "3           1      7.70  27.0  6.15    0.0  36.95  yellow  credit card   \n",
      "4           3      2.16   9.0  1.10    0.0  13.40  yellow  credit card   \n",
      "\n",
      "             pickup_zone           dropoff_zone pickup_borough  \\\n",
      "0        Lenox Hill West    UN/Turtle Bay South      Manhattan   \n",
      "1  Upper West Side South  Upper West Side South      Manhattan   \n",
      "2          Alphabet City           West Village      Manhattan   \n",
      "3              Hudson Sq         Yorkville West      Manhattan   \n",
      "4           Midtown East         Yorkville West      Manhattan   \n",
      "\n",
      "  dropoff_borough  Pday  Pmonth  Pyear  Phour  Dday  Dmonth  Dyear  Dhour  \n",
      "0       Manhattan     5       3   2019     20     5       3   2019     20  \n",
      "1       Manhattan     0       3   2019     16     0       3   2019     16  \n",
      "2       Manhattan     2       3   2019     17     2       3   2019     18  \n",
      "3       Manhattan     6       3   2019      1     6       3   2019      1  \n",
      "4       Manhattan     5       3   2019     13     5       3   2019     13  \n"
     ]
    }
   ],
   "source": [
    "#Now, let's break out the date / time column into day month year hour\n",
    "#Day of week: Monday = 0, Tuesday = 1, Wednesday = 2, etc.\n",
    "df4['pickup'] = pd.to_datetime(df4['pickup'], format = '%Y-%m-%d %H:%M:%S')\n",
    "df4['Pday'] = df4['pickup'].dt.weekday\n",
    "df4['Pmonth'] = df4['pickup'].dt.month\n",
    "df4['Pyear'] = df4['pickup'].dt.year\n",
    "df4['Phour'] = df4['pickup'].dt.hour\n",
    "df4['dropoff'] = pd.to_datetime(df4['dropoff'], format = '%Y-%m-%d %H:%M:%S')\n",
    "df4['Dday'] = df4['dropoff'].dt.weekday\n",
    "df4['Dmonth'] = df4['dropoff'].dt.month\n",
    "df4['Dyear'] = df4['dropoff'].dt.year\n",
    "df4['Dhour'] = df4['dropoff'].dt.hour\n",
    "df4.drop(['pickup', 'dropoff'], inplace = True, axis = 1)\n",
    "\n",
    "print(df4.head())\n"
   ]
  },
  {
   "cell_type": "code",
   "execution_count": 53,
   "metadata": {},
   "outputs": [
    {
     "name": "stdout",
     "output_type": "stream",
     "text": [
      "        passengers     distance         fare          tip        tolls  \\\n",
      "count  6252.000000  6252.000000  6252.000000  6252.000000  6252.000000   \n",
      "mean      1.566219     3.011766    12.875187     1.956750     0.309623   \n",
      "std       1.201209     3.722938    10.656627     2.346348     1.358912   \n",
      "min       1.000000     0.010000     1.000000     0.000000     0.000000   \n",
      "25%       1.000000     1.000000     6.500000     0.000000     0.000000   \n",
      "50%       1.000000     1.660000     9.500000     1.700000     0.000000   \n",
      "75%       2.000000     3.220000    15.000000     2.760000     0.000000   \n",
      "max       6.000000    36.700000   150.000000    23.190000    24.020000   \n",
      "\n",
      "             total         Pday       Pmonth   Pyear        Phour  \\\n",
      "count  6252.000000  6252.000000  6252.000000  6252.0  6252.000000   \n",
      "mean     18.279819     3.164427     2.999840  2019.0    13.881638   \n",
      "std      12.853383     1.912791     0.012647     0.0     6.068853   \n",
      "min       1.300000     0.000000     2.000000  2019.0     0.000000   \n",
      "25%      10.800000     2.000000     3.000000  2019.0    10.000000   \n",
      "50%      14.160000     3.000000     3.000000  2019.0    15.000000   \n",
      "75%      20.300000     5.000000     3.000000  2019.0    19.000000   \n",
      "max     174.820000     6.000000     3.000000  2019.0    23.000000   \n",
      "\n",
      "              Dday       Dmonth   Dyear        Dhour  \n",
      "count  6252.000000  6252.000000  6252.0  6252.000000  \n",
      "mean      3.166827     3.000000  2019.0    13.921465  \n",
      "std       1.915300     0.017887     0.0     6.144561  \n",
      "min       0.000000     2.000000  2019.0     0.000000  \n",
      "25%       2.000000     3.000000  2019.0    10.000000  \n",
      "50%       3.000000     3.000000  2019.0    15.000000  \n",
      "75%       5.000000     3.000000  2019.0    19.000000  \n",
      "max       6.000000     4.000000  2019.0    23.000000  \n"
     ]
    }
   ],
   "source": [
    "#Quick look to make sure everything looks good\n",
    "print(df4.describe())"
   ]
  },
  {
   "cell_type": "code",
   "execution_count": 34,
   "metadata": {},
   "outputs": [
    {
     "data": {
      "text/plain": [
       "''"
      ]
     },
     "execution_count": 34,
     "metadata": {},
     "output_type": "execute_result"
    },
    {
     "data": {
      "image/png": "[encoded data removed]",
      "text/plain": [
       "<Figure size 1440x720 with 6 Axes>"
      ]
     },
     "metadata": {
      "needs_background": "light"
     },
     "output_type": "display_data"
    }
   ],
   "source": [
    "#So, doesn't look too bad except for a couple questions. The max dropoff month is 4, but the max pickup month is 3. Now, this is entirely\n",
    "#possible if, let's say, the person was picked up at 11:59pm March 31 and dropped off 12:00am on April 1. \n",
    "#Another thing to note, we are only working with about two months of data here. Finally, looks like the average time of day\n",
    "#for trips is 1300 or 1:00pm.\n",
    "#Now, let's take a look at the distributions of the data, to see how 'normal' it is. We need to know for a variety of reasons, including\n",
    "#whether or not to scale the data.\n",
    "from matplotlib import pyplot as plt\n",
    "f = plt.figure(figsize=(20,10))\n",
    "f.tight_layout()\n",
    "# Subplot 1\n",
    "plt.subplot(2, 3, 1)\n",
    "feature = 'distance'\n",
    "hist = sns.histplot(data=df4, x=feature, label=feature, kde=True)\n",
    "plt.title(feature, fontsize=8)\n",
    "plt.axis('off')\n",
    "# Subplot 2\n",
    "plt.subplot(2, 3, 2)\n",
    "feature = 'fare'\n",
    "hist = sns.histplot(data=df4, x=feature, label=feature, kde=True)\n",
    "plt.title(feature, fontsize=8)\n",
    "plt.axis('off')\n",
    "# Subplot 3\n",
    "plt.subplot(2, 3, 3)\n",
    "feature = 'tip'\n",
    "hist = sns.histplot(data=df4, x=feature, label=feature, kde=True)\n",
    "plt.title(feature, fontsize=8)\n",
    "plt.axis('off')\n",
    "# Subplot 4\n",
    "plt.subplot(2, 3, 4)\n",
    "feature = 'tolls'\n",
    "hist = sns.histplot(data=df4, x=feature, label=feature, kde=True)\n",
    "plt.title(feature, fontsize=8)\n",
    "plt.axis('off')\n",
    "# Subplot 5\n",
    "plt.subplot(2, 3, 5)\n",
    "feature = 'Phour'\n",
    "hist = sns.histplot(data=df4, x=feature, label=feature, kde=True)\n",
    "plt.title(feature, fontsize=8)\n",
    "plt.axis('off')\n",
    "# Subplot 6\n",
    "plt.subplot(2, 3, 6)\n",
    "feature = 'Dhour'\n",
    "hist = sns.histplot(data=df4, x=feature, label=feature, kde=True)\n",
    "plt.title(feature, fontsize=8)\n",
    "plt.axis('off')\n",
    ";\n"
   ]
  },
  {
   "cell_type": "code",
   "execution_count": 54,
   "metadata": {},
   "outputs": [
    {
     "name": "stdout",
     "output_type": "stream",
     "text": [
      "   passengers  distance  fare   tip  tolls  total   color      payment  \\\n",
      "0           1      1.60   7.0  2.15    0.0  12.95  yellow  credit card   \n",
      "1           1      0.79   5.0  0.00    0.0   9.30  yellow         cash   \n",
      "2           1      1.37   7.5  2.36    0.0  14.16  yellow  credit card   \n",
      "3           1      7.70  27.0  6.15    0.0  36.95  yellow  credit card   \n",
      "4           3      2.16   9.0  1.10    0.0  13.40  yellow  credit card   \n",
      "\n",
      "             pickup_zone           dropoff_zone  ... dropoff_borough Pday  \\\n",
      "0        Lenox Hill West    UN/Turtle Bay South  ...       Manhattan    5   \n",
      "1  Upper West Side South  Upper West Side South  ...       Manhattan    0   \n",
      "2          Alphabet City           West Village  ...       Manhattan    2   \n",
      "3              Hudson Sq         Yorkville West  ...       Manhattan    6   \n",
      "4           Midtown East         Yorkville West  ...       Manhattan    5   \n",
      "\n",
      "   Pmonth  Pyear  Phour  Dday  Dmonth  Dyear  Dhour                trip  \n",
      "0       3   2019     20     5       3   2019     20  ManhattanManhattan  \n",
      "1       3   2019     16     0       3   2019     16  ManhattanManhattan  \n",
      "2       3   2019     17     2       3   2019     18  ManhattanManhattan  \n",
      "3       3   2019      1     6       3   2019      1  ManhattanManhattan  \n",
      "4       3   2019     13     5       3   2019     13  ManhattanManhattan  \n",
      "\n",
      "[5 rows x 21 columns]\n"
     ]
    }
   ],
   "source": [
    "#As we step through the histograms above, most of the features in this dataset are not normally distributed. Due to that, and the\n",
    "#fact that we're comparing features with different scales, we would benefit from normalizing columns.\n",
    "#First, let's create some new columns (concatenate pickup and dropoff boroughs)\n",
    "df4['trip'] = df4['pickup_borough'] + df4['dropoff_borough']\n",
    "print(df4.head())"
   ]
  },
  {
   "cell_type": "code",
   "execution_count": 55,
   "metadata": {},
   "outputs": [
    {
     "name": "stdout",
     "output_type": "stream",
     "text": [
      "   color_yellow  payment_credit card  trip_BronxBronx  trip_BronxBrooklyn  \\\n",
      "0           1.0                  1.0              0.0                 0.0   \n",
      "1           1.0                  0.0              0.0                 0.0   \n",
      "2           1.0                  1.0              0.0                 0.0   \n",
      "3           1.0                  1.0              0.0                 0.0   \n",
      "4           1.0                  1.0              0.0                 0.0   \n",
      "\n",
      "   trip_BronxManhattan  trip_BronxQueens  trip_BrooklynBronx  \\\n",
      "0                  0.0               0.0                 0.0   \n",
      "1                  0.0               0.0                 0.0   \n",
      "2                  0.0               0.0                 0.0   \n",
      "3                  0.0               0.0                 0.0   \n",
      "4                  0.0               0.0                 0.0   \n",
      "\n",
      "   trip_BrooklynBrooklyn  trip_BrooklynManhattan  trip_BrooklynQueens  ...  \\\n",
      "0                    0.0                     0.0                  0.0  ...   \n",
      "1                    0.0                     0.0                  0.0  ...   \n",
      "2                    0.0                     0.0                  0.0  ...   \n",
      "3                    0.0                     0.0                  0.0  ...   \n",
      "4                    0.0                     0.0                  0.0  ...   \n",
      "\n",
      "   tolls  total  Pday  Pmonth  Pyear  Phour  Dday  Dmonth  Dyear  Dhour  \n",
      "0    0.0  12.95     5       3   2019     20     5       3   2019     20  \n",
      "1    0.0   9.30     0       3   2019     16     0       3   2019     16  \n",
      "2    0.0  14.16     2       3   2019     17     2       3   2019     18  \n",
      "3    0.0  36.95     6       3   2019      1     6       3   2019      1  \n",
      "4    0.0  13.40     5       3   2019     13     5       3   2019     13  \n",
      "\n",
      "[5 rows x 42 columns]\n"
     ]
    }
   ],
   "source": [
    "#Now, let's convert the rest of the categorical columns to numnbers (color, payment, pickup/dropoff borough).\n",
    "#Because there are so many zones, we'll skip encoding those for now and just drop them.\n",
    "from sklearn.preprocessing import OneHotEncoder \n",
    "cat_encoder = OneHotEncoder() \n",
    "df4_hot = cat_encoder.fit_transform(df4[['color', 'payment', 'trip', 'pickup_borough', 'dropoff_borough']]) \n",
    "enc_names = cat_encoder.get_feature_names_out()\n",
    "df4_hotdf = pd.DataFrame(df4_hot.todense(), columns = enc_names)\n",
    "df4_tr = pd.merge(df4_hotdf, df4.drop(['color', 'payment', 'pickup_borough', 'dropoff_borough', 'pickup_zone', 'dropoff_zone', 'trip'], axis=1), left_index=True, right_index=True)\n",
    "df4_tr.drop(['payment_cash', 'color_green'], inplace = True, axis = 1)\n",
    "print(df4_tr.head())\n"
   ]
  },
  {
   "cell_type": "code",
   "execution_count": 37,
   "metadata": {},
   "outputs": [
    {
     "data": {
      "text/plain": [
       "Index(['color_yellow', 'payment_credit card', 'trip_BronxBronx',\n",
       "       'trip_BronxBrooklyn', 'trip_BronxManhattan', 'trip_BronxQueens',\n",
       "       'trip_BrooklynBronx', 'trip_BrooklynBrooklyn', 'trip_BrooklynManhattan',\n",
       "       'trip_BrooklynQueens', 'trip_ManhattanBronx', 'trip_ManhattanBrooklyn',\n",
       "       'trip_ManhattanManhattan', 'trip_ManhattanQueens',\n",
       "       'trip_ManhattanStaten Island', 'trip_QueensBronx',\n",
       "       'trip_QueensBrooklyn', 'trip_QueensManhattan', 'trip_QueensQueens',\n",
       "       'pickup_borough_Bronx', 'pickup_borough_Brooklyn',\n",
       "       'pickup_borough_Manhattan', 'pickup_borough_Queens',\n",
       "       'dropoff_borough_Bronx', 'dropoff_borough_Brooklyn',\n",
       "       'dropoff_borough_Manhattan', 'dropoff_borough_Queens',\n",
       "       'dropoff_borough_Staten Island', 'passengers', 'distance', 'fare',\n",
       "       'tip', 'tolls', 'total', 'Pday', 'Pmonth', 'Pyear', 'Phour', 'Dday',\n",
       "       'Dmonth', 'Dyear', 'Dhour'],\n",
       "      dtype='object')"
      ]
     },
     "execution_count": 37,
     "metadata": {},
     "output_type": "execute_result"
    }
   ],
   "source": [
    "#What columns are we left with?\n",
    "df4_tr.columns"
   ]
  },
  {
   "cell_type": "code",
   "execution_count": 38,
   "metadata": {},
   "outputs": [
    {
     "data": {
      "text/plain": [
       "Index(['color_yellow', 'payment_credit card', 'trip_BronxBronx',\n",
       "       'trip_BronxBrooklyn', 'trip_BronxManhattan', 'trip_BronxQueens',\n",
       "       'trip_BrooklynBronx', 'trip_BrooklynBrooklyn', 'trip_BrooklynManhattan',\n",
       "       'trip_BrooklynQueens', 'trip_ManhattanBronx', 'trip_ManhattanBrooklyn',\n",
       "       'trip_ManhattanManhattan', 'trip_ManhattanQueens',\n",
       "       'trip_ManhattanStaten Island', 'trip_QueensBronx',\n",
       "       'trip_QueensBrooklyn', 'trip_QueensManhattan', 'trip_QueensQueens',\n",
       "       'pickup_borough_Bronx', 'pickup_borough_Brooklyn',\n",
       "       'pickup_borough_Manhattan', 'pickup_borough_Queens',\n",
       "       'dropoff_borough_Bronx', 'dropoff_borough_Brooklyn',\n",
       "       'dropoff_borough_Manhattan', 'dropoff_borough_Queens',\n",
       "       'dropoff_borough_Staten Island', 'passengers', 'distance', 'fare',\n",
       "       'tip', 'tolls', 'total', 'Pday', 'Phour'],\n",
       "      dtype='object')"
      ]
     },
     "execution_count": 38,
     "metadata": {},
     "output_type": "execute_result"
    }
   ],
   "source": [
    "#Since our data is from only a couple months in one year, might as well drop month and year completely. In addition, we'll drop\n",
    "#Dropoff_hour because it is correlated with, and less important than, pickup hour.\n",
    "df4_tr.drop(['Pmonth', 'Pyear', 'Dday', 'Dmonth', 'Dyear', 'Dhour'], inplace=True, axis=1)\n",
    "df4_tr.columns"
   ]
  },
  {
   "cell_type": "code",
   "execution_count": 39,
   "metadata": {},
   "outputs": [
    {
     "data": {
      "text/plain": [
       "Index(['c_yellow', 'p_credit', 't_BronBron', 't_BronBroo', 't_BronManh',\n",
       "       't_BronQuee', 't_BrooBron', 't_BrooBroo', 't_BrooManh', 't_BrooQuee',\n",
       "       't_ManhBron', 't_ManhBroo', 't_ManhManh', 't_ManhQuee', 't_ManhStat',\n",
       "       't_QueeBron', 't_QueeBroo', 't_QueeManh', 't_QueeQuee', 'p_Bron',\n",
       "       'p_Broo', 'p_Manh', 'p_Quee', 'd_Bron', 'd_Broo', 'd_Manh', 'd_Quee',\n",
       "       'd_Stat', 'pass', 'dist', 'fare', 'tip', 'tolls', 'total', 'p_day',\n",
       "       'p_hour'],\n",
       "      dtype='object')"
      ]
     },
     "execution_count": 39,
     "metadata": {},
     "output_type": "execute_result"
    }
   ],
   "source": [
    "df4_tr.columns = ['c_yellow', 'p_credit', 't_BronBron', 't_BronBroo', 't_BronManh', 't_BronQuee', 't_BrooBron', 't_BrooBroo', 't_BrooManh', \n",
    "    't_BrooQuee', 't_ManhBron', 't_ManhBroo', 't_ManhManh', 't_ManhQuee', 't_ManhStat', 't_QueeBron', 't_QueeBroo', 't_QueeManh', 't_QueeQuee',\n",
    "    'p_Bron', 'p_Broo', 'p_Manh', 'p_Quee', 'd_Bron', 'd_Broo', 'd_Manh', 'd_Quee', 'd_Stat',\n",
    "    'pass', 'dist', 'fare', 'tip', 'tolls', 'total', 'p_day', 'p_hour']\n",
    "df4_tr.columns"
   ]
  },
  {
   "cell_type": "code",
   "execution_count": 56,
   "metadata": {},
   "outputs": [
    {
     "name": "stdout",
     "output_type": "stream",
     "text": [
      "   color_yellow  payment_credit card  trip_BronxBronx  trip_BronxBrooklyn  \\\n",
      "0           1.0                  1.0              0.0                 0.0   \n",
      "1           1.0                  0.0              0.0                 0.0   \n",
      "2           1.0                  1.0              0.0                 0.0   \n",
      "3           1.0                  1.0              0.0                 0.0   \n",
      "4           1.0                  1.0              0.0                 0.0   \n",
      "\n",
      "   trip_BronxManhattan  trip_BronxQueens  trip_BrooklynBronx  \\\n",
      "0                  0.0               0.0                 0.0   \n",
      "1                  0.0               0.0                 0.0   \n",
      "2                  0.0               0.0                 0.0   \n",
      "3                  0.0               0.0                 0.0   \n",
      "4                  0.0               0.0                 0.0   \n",
      "\n",
      "   trip_BrooklynBrooklyn  trip_BrooklynManhattan  trip_BrooklynQueens  ...  \\\n",
      "0                    0.0                     0.0                  0.0  ...   \n",
      "1                    0.0                     0.0                  0.0  ...   \n",
      "2                    0.0                     0.0                  0.0  ...   \n",
      "3                    0.0                     0.0                  0.0  ...   \n",
      "4                    0.0                     0.0                  0.0  ...   \n",
      "\n",
      "   tolls     total      Pday  Pmonth  Pyear     Phour      Dday  Dmonth  \\\n",
      "0    0.0  0.067139  0.833333     1.0    0.0  0.869565  0.833333     0.5   \n",
      "1    0.0  0.046104  0.000000     1.0    0.0  0.695652  0.000000     0.5   \n",
      "2    0.0  0.074112  0.333333     1.0    0.0  0.739130  0.333333     0.5   \n",
      "3    0.0  0.205452  1.000000     1.0    0.0  0.043478  1.000000     0.5   \n",
      "4    0.0  0.069733  0.833333     1.0    0.0  0.565217  0.833333     0.5   \n",
      "\n",
      "   Dyear     Dhour  \n",
      "0    0.0  0.869565  \n",
      "1    0.0  0.695652  \n",
      "2    0.0  0.782609  \n",
      "3    0.0  0.043478  \n",
      "4    0.0  0.565217  \n",
      "\n",
      "[5 rows x 42 columns]\n"
     ]
    }
   ],
   "source": [
    "#OK, remember that most features in our dataset were skewed. Scaling helps with that. \n",
    "from sklearn.preprocessing import MinMaxScaler\n",
    "scaler = MinMaxScaler()\n",
    "df4_norm = scaler.fit_transform(df4_tr)\n",
    "norm_names = scaler.get_feature_names_out()\n",
    "df4_normdf = pd.DataFrame(df4_norm, columns = norm_names)\n",
    "print(df4_normdf.head())"
   ]
  },
  {
   "cell_type": "code",
   "execution_count": 41,
   "metadata": {},
   "outputs": [],
   "source": [
    "#OK, the basic dataset is ready.\n",
    "df4_normdf.to_csv(file_loc/\"Week5_output.csv\")"
   ]
  }
 ],
 "metadata": {
  "interpreter": {
   "hash": "51499c2659ed4cb43a548fa4b2b62df0ca021ab0a5abe3bb135c5bc213dbd661"
  },
  "kernelspec": {
   "display_name": "Python 3.10.4 64-bit",
   "language": "python",
   "name": "python3"
  },
  "language_info": {
   "codemirror_mode": {
    "name": "ipython",
    "version": 3
   },
   "file_extension": ".py",
   "mimetype": "text/x-python",
   "name": "python",
   "nbconvert_exporter": "python",
   "pygments_lexer": "ipython3",
   "version": "3.10.4"
  },
  "orig_nbformat": 4
 },
 "nbformat": 4,
 "nbformat_minor": 2
}
