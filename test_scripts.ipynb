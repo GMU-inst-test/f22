{
 "cells": [
  {
   "cell_type": "code",
   "execution_count": 7,
   "metadata": {},
   "outputs": [
    {
     "name": "stdout",
     "output_type": "stream",
     "text": [
      "True\n"
     ]
    }
   ],
   "source": [
    "import pandas as pd\n",
    "from pathlib import Path \n",
    "import os\n",
    "import fnmatch\n",
    "# Specify path, use 'r' before path to specify 'raw' path or Python will misread backslashes.\n",
    "folder = Path(r'C:\\Users\\hruss\\OneDrive\\Documents\\GMU\\Repositories\\CDS303-F22\\Data\\textDocs')\n",
    "\n",
    "# Check to see if path is legit\n",
    "print(folder.is_dir())"
   ]
  },
  {
   "cell_type": "code",
   "execution_count": 8,
   "metadata": {},
   "outputs": [],
   "source": [
    "strings = ['flake8', 'graphviz', 'matplotlib', 'numpy', 'openpyxl', 'pathlib',\n",
    "           'pandas', 'pickleshare', 'Pillow', 'scikit-learn', 'seaborn', 'wordcloud',\n",
    "           'sklearn', 'networkx', 'plotly', 'PIL', 'PyPDF', 'dash', 'base64', 'IO', 'IPython'] "
   ]
  },
  {
   "cell_type": "code",
   "execution_count": 12,
   "metadata": {},
   "outputs": [
    {
     "name": "stdout",
     "output_type": "stream",
     "text": [
      "requirements.txt\n",
      "\n",
      "\n",
      "\n",
      "\n",
      "\n",
      "\n",
      "\n",
      "\n",
      "\n",
      "\n",
      "\n"
     ]
    }
   ],
   "source": [
    "files = os.listdir(folder)\n",
    "\n",
    "def str_search(file, content):\n",
    "        if string in content:\n",
    "            result = (\"\")\n",
    "        else:\n",
    "            result = (string, \"is not found\")\n",
    "        print(result)\n",
    "\n",
    "for file in files:\n",
    "    if file.endswith('.txt'):\n",
    "        print(file)\n",
    "        with open((folder/file), 'r', encoding='utf-16') as file:\n",
    "            content = file.read()\n",
    "            for string in strings:\n",
    "                str_search(file, content)\n"
   ]
  }
 ],
 "metadata": {
  "interpreter": {
   "hash": "51499c2659ed4cb43a548fa4b2b62df0ca021ab0a5abe3bb135c5bc213dbd661"
  },
  "kernelspec": {
   "display_name": "Python 3.10.4 64-bit",
   "language": "python",
   "name": "python3"
  },
  "language_info": {
   "codemirror_mode": {
    "name": "ipython",
    "version": 3
   },
   "file_extension": ".py",
   "mimetype": "text/x-python",
   "name": "python",
   "nbconvert_exporter": "python",
   "pygments_lexer": "ipython3",
   "version": "3.10.4"
  },
  "orig_nbformat": 4
 },
 "nbformat": 4,
 "nbformat_minor": 2
}
