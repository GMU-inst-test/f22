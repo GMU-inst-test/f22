{
 "cells": [
  {
   "cell_type": "code",
   "execution_count": 6,
   "metadata": {},
   "outputs": [
    {
     "name": "stdout",
     "output_type": "stream",
     "text": [
      "Collecting PyPDF2\n",
      "  Downloading PyPDF2-2.11.1-py3-none-any.whl (220 kB)\n",
      "     -------------------------------------- 220.4/220.4 KB 6.8 MB/s eta 0:00:00\n",
      "Requirement already satisfied: typing-extensions>=3.10.0.0 in c:\\users\\hruss\\appdata\\local\\packages\\pythonsoftwarefoundation.python.3.9_qbz5n2kfra8p0\\localcache\\local-packages\\python39\\site-packages (from PyPDF2) (4.4.0)\n",
      "Installing collected packages: PyPDF2\n",
      "Successfully installed PyPDF2-2.11.1\n"
     ]
    },
    {
     "name": "stderr",
     "output_type": "stream",
     "text": [
      "WARNING: You are using pip version 22.0.4; however, version 22.2.2 is available.\n",
      "You should consider upgrading via the 'C:\\Users\\hruss\\AppData\\Local\\Microsoft\\WindowsApps\\PythonSoftwareFoundation.Python.3.9_qbz5n2kfra8p0\\python.exe -m pip install --upgrade pip' command.\n"
     ]
    }
   ],
   "source": [
    "! pip install PyPDF2"
   ]
  },
  {
   "cell_type": "code",
   "execution_count": 7,
   "metadata": {},
   "outputs": [],
   "source": [
    "import warnings\n",
    "warnings.filterwarnings('ignore')\n",
    "import matplotlib.pyplot as plt\n",
    "from wordcloud import WordCloud\n",
    "from sklearn.feature_extraction.text import TfidfVectorizer\n",
    "import pandas as pd\n",
    "import PyPDF2 as pyp\n",
    "import numpy as np\n",
    "import random"
   ]
  },
  {
   "cell_type": "code",
   "execution_count": 8,
   "metadata": {},
   "outputs": [
    {
     "ename": "FileNotFoundError",
     "evalue": "[Errno 2] No such file or directory: 'Address_Lincoln.pdf'",
     "output_type": "error",
     "traceback": [
      "\u001b[1;31m---------------------------------------------------------------------------\u001b[0m",
      "\u001b[1;31mFileNotFoundError\u001b[0m                         Traceback (most recent call last)",
      "Cell \u001b[1;32mIn [8], line 2\u001b[0m\n\u001b[0;32m      1\u001b[0m \u001b[39m#Open PDFs so they can be read, 'rb' means read only in binary format\u001b[39;00m\n\u001b[1;32m----> 2\u001b[0m Lincoln_pdf \u001b[39m=\u001b[39m \u001b[39mopen\u001b[39m(\u001b[39m'\u001b[39m\u001b[39mAddress_Lincoln.pdf\u001b[39m\u001b[39m'\u001b[39m, \u001b[39m'\u001b[39m\u001b[39mrb\u001b[39m\u001b[39m'\u001b[39m)\n\u001b[0;32m      3\u001b[0m Washington_pdf \u001b[39m=\u001b[39m \u001b[39mopen\u001b[39m(\u001b[39m'\u001b[39m\u001b[39mAddress_Washington.pdf\u001b[39m\u001b[39m'\u001b[39m, \u001b[39m'\u001b[39m\u001b[39mrb\u001b[39m\u001b[39m'\u001b[39m)\n\u001b[0;32m      4\u001b[0m Reagan_pdf \u001b[39m=\u001b[39m \u001b[39mopen\u001b[39m(\u001b[39m'\u001b[39m\u001b[39mAddress_Reagan.pdf\u001b[39m\u001b[39m'\u001b[39m, \u001b[39m'\u001b[39m\u001b[39mrb\u001b[39m\u001b[39m'\u001b[39m)\n",
      "\u001b[1;31mFileNotFoundError\u001b[0m: [Errno 2] No such file or directory: 'Address_Lincoln.pdf'"
     ]
    }
   ],
   "source": [
    "#Open PDFs so they can be read, 'rb' means read only in binary format\n",
    "Lincoln_pdf = open('Address_Lincoln.pdf', 'rb')\n",
    "Washington_pdf = open('Address_Washington.pdf', 'rb')\n",
    "Reagan_pdf = open('Address_Reagan.pdf', 'rb')\n",
    "JFK_pdf = open('Address_JFK.pdf', 'rb')"
   ]
  },
  {
   "cell_type": "code",
   "execution_count": 17,
   "metadata": {},
   "outputs": [],
   "source": [
    "#Creating a pdf file object using PyPDF.\n",
    "#Extract text from pdfs\n",
    "\n",
    "JFK_read_pdf = pyp.PdfFileReader(JFK_pdf)\n",
    "Lincoln_read_pdf = pyp.PdfFileReader(Lincoln_pdf)\n",
    "Washington_read_pdf = pyp.PdfFileReader(Washington_pdf)\n",
    "Reagan_read_pdf = pyp.PdfFileReader(Reagan_pdf)\n",
    "JFK_data = \"\"\n",
    "Lincoln_data = \"\"\n",
    "Washington_data = \"\"\n",
    "Reagan_data = \"\"\n",
    "\n",
    "Jnum_pages = JFK_read_pdf.numPages\n",
    "for i in range(Jnum_pages) : \n",
    "        Jpage = JFK_read_pdf.getPage(i) \n",
    "        JFK_data = JFK_data + Jpage.extractText()\n",
    "Lnum_pages = Lincoln_read_pdf.numPages\n",
    "for i in range(Lnum_pages) : \n",
    "        Lpage = Lincoln_read_pdf.getPage(i)\n",
    "        Lincoln_data = Lincoln_data + Lpage.extractText()\n",
    "Wnum_pages = Washington_read_pdf.numPages\n",
    "for i in range(Wnum_pages) : \n",
    "        Wpage = Washington_read_pdf.getPage(i)\n",
    "        Washington_data = Washington_data + Wpage.extractText()\n",
    "Rnum_pages = Reagan_read_pdf.numPages\n",
    "for i in range(Rnum_pages) : \n",
    "        Rpage = Reagan_read_pdf.getPage(i)\n",
    "        Reagan_data = Reagan_data + Rpage.extractText()"
   ]
  },
  {
   "cell_type": "code",
   "execution_count": null,
   "metadata": {},
   "outputs": [],
   "source": [
    "#Perform NLP on data to create more meaningful word clouds\n",
    "from sklearn.feature_extraction.text import TfidfVectorizer\n",
    "corpus = [Reagan_data, JFK_data, Washington_data, Lincoln_data]\n",
    "vectorizer = TfidfVectorizer(stop_words='english', ngram_range = (1,1), max_df = .6, min_df = .01)\n",
    "X = vectorizer.fit_transform(corpus)\n",
    "feature_names = vectorizer.get_feature_names_out()\n",
    "dense = X.todense()\n",
    "denselist = dense.tolist()\n",
    "df = pd.DataFrame(denselist, columns=feature_names)\n",
    "data = df.transpose()\n",
    "#Make sure you have these in the same order as your corpus above\n",
    "data.columns = ['Reagan', 'JFK', 'Washington', 'Lincoln']"
   ]
  },
  {
   "cell_type": "code",
   "execution_count": null,
   "metadata": {},
   "outputs": [],
   "source": [
    "data.tail()"
   ]
  },
  {
   "cell_type": "code",
   "execution_count": null,
   "metadata": {},
   "outputs": [],
   "source": [
    "#Show wordclouds\n",
    "colors = \"viridis\"\n",
    "maxwords = 50\n",
    "\n",
    "# Set overall figure size\n",
    "f = plt.figure(figsize=(12,6))\n",
    "f.tight_layout()\n",
    "\n",
    "# Subplot 1\n",
    "plt.subplot(2, 2, 1)\n",
    "Washington_wordcloud = WordCloud(max_words = maxwords, colormap = colors).generate_from_frequencies(data['Washington'])\n",
    "plt.imshow(Washington_wordcloud)\n",
    "plt.axis('off')\n",
    "plt.title('Washington Speech', fontsize=15)\n",
    "# Subplot 2\n",
    "plt.subplot(2, 2, 2)\n",
    "Reagan_wordcloud = WordCloud(max_words = maxwords, colormap = colors).generate_from_frequencies(data['Reagan'])\n",
    "plt.imshow(Reagan_wordcloud)\n",
    "plt.axis('off')\n",
    "plt.title('Reagan Speech', fontsize=15)\n",
    "# Subplot 3\n",
    "plt.subplot(2, 2, 3)\n",
    "Lincoln_wordcloud = WordCloud(max_words = maxwords, colormap = colors).generate_from_frequencies(data['Lincoln'])\n",
    "plt.imshow(Lincoln_wordcloud)\n",
    "plt.axis('off')\n",
    "plt.title('Lincoln Speech', fontsize=15)\n",
    "# Subplot 4\n",
    "plt.subplot(2, 2, 4)\n",
    "JFK_wordcloud = WordCloud(max_words = maxwords, colormap = colors).generate_from_frequencies(data['JFK'])\n",
    "plt.imshow(JFK_wordcloud)\n",
    "plt.axis('off')\n",
    "plt.title('JFK Speech', fontsize=15);\n"
   ]
  },
  {
   "cell_type": "code",
   "execution_count": null,
   "metadata": {},
   "outputs": [],
   "source": []
  },
  {
   "cell_type": "code",
   "execution_count": null,
   "metadata": {},
   "outputs": [],
   "source": [
    "#In case you want to change colors, run this and choose from the output\n",
    "cmaps = {}\n",
    "gradient = np.linspace(0, 1, 256)\n",
    "gradient = np.vstack((gradient, gradient))\n",
    "def plot_color_gradients(category, cmap_list):\n",
    "    # Create figure and adjust figure height to number of colormaps\n",
    "    nrows = len(cmap_list)\n",
    "    figh = 0.35 + 0.15 + (nrows + (nrows - 1) * 0.1) * 0.22\n",
    "    fig, axs = plt.subplots(nrows=nrows + 1, figsize=(6.4, figh))\n",
    "    fig.subplots_adjust(top=1 - 0.35 / figh, bottom=0.15 / figh, left=0.2, right=0.99)\n",
    "    axs[0].set_title(f'{category} colormaps', fontsize=14)\n",
    "\n",
    "    for ax, name in zip(axs, cmap_list):\n",
    "        ax.imshow(gradient, aspect='auto', cmap=plt.get_cmap(name))\n",
    "        ax.text(-0.01, 0.5, name, va='center', ha='right', fontsize=10, transform=ax.transAxes)\n",
    "\n",
    "    # Turn off *all* ticks & spines, not just the ones with colormaps.\n",
    "    for ax in axs:\n",
    "        ax.set_axis_off()\n",
    "\n",
    "    # Save colormap list for later.\n",
    "    cmaps[category] = cmap_list\n",
    "plot_color_gradients('Perceptually Uniform Sequential', ['viridis', 'plasma', 'inferno', 'magma', 'cividis'])\n",
    "plot_color_gradients('Sequential', ['Greys', 'Purples', 'Blues', 'Greens', 'Oranges', 'Reds',\n",
    "                      'YlOrBr', 'YlOrRd', 'OrRd', 'PuRd', 'RdPu', 'BuPu', 'GnBu', 'PuBu', 'YlGnBu', 'PuBuGn', 'BuGn', 'YlGn'])"
   ]
  }
 ],
 "metadata": {
  "kernelspec": {
   "display_name": "Python 3.9.13 64-bit (microsoft store)",
   "language": "python",
   "name": "python3"
  },
  "language_info": {
   "codemirror_mode": {
    "name": "ipython",
    "version": 3
   },
   "file_extension": ".py",
   "mimetype": "text/x-python",
   "name": "python",
   "nbconvert_exporter": "python",
   "pygments_lexer": "ipython3",
   "version": "3.9.13"
  },
  "orig_nbformat": 4,
  "vscode": {
   "interpreter": {
    "hash": "7edd4e905d9b7ca730f7b0e9c082715bdac78ae21b6c7d0ae05faf51bf553083"
   }
  }
 },
 "nbformat": 4,
 "nbformat_minor": 2
}
