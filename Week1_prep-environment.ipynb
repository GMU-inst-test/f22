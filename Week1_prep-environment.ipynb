{
 "cells": [
  {
   "cell_type": "markdown",
   "metadata": {},
   "source": [
    "Week 2: set up environment, GitHub, demo Scikit-Learn, features of VS Code and Jupyter."
   ]
  },
  {
   "cell_type": "markdown",
   "metadata": {},
   "source": [
    "This is a markdown cell\n"
   ]
  },
  {
   "cell_type": "code",
   "execution_count": null,
   "metadata": {},
   "outputs": [],
   "source": [
    "# This is a code cell. If you write text here that is not code, you must comment it.\n",
    "# To install packages from Jupyter, run (! pip install packagename) or ! python -m pip install)\n",
    "print(\"hello world\")"
   ]
  },
  {
   "cell_type": "markdown",
   "metadata": {},
   "source": [
    "General flow of programs:\n",
    "- import libraries (installing libraries may be required)\n",
    "- import data, examine, clean\n",
    "- explore data (distributions, etc.)\n",
    "- transform data as needed\n",
    "- set up model and split datasets into train / test\n",
    "- train model, examine\n",
    "- tune hyperparameters, examine\n",
    "- test model, examine\n",
    "- repeat train / test as needed\n",
    "- visualize results\n",
    "- prepare app for others to use model\n",
    "- output visualizations for final reports"
   ]
  },
  {
   "cell_type": "markdown",
   "metadata": {},
   "source": [
    "Set up your GitHub account\n",
    "\n",
    "Install VS Code (C++ version??)\n",
    "\n",
    "Decide and install primary language (R, Python, Java, other)\n",
    "Python --> python.org: despite specifying that python should be added the environmental path during install, you may still have to do it manually. \n",
    "\n",
    "Some issues you may have to work through:\n",
    "- You'll need to install pip manually if you use this configuration. Download get-pip.py, then run 'python get-pip.py' in the directory it is downloaded to. \n",
    "- Once you do this, you may still not be able to just run 'pip install', instead you may need to call 'python -m pip install <package-name>'.\n",
    "- When you go to install some packages, you may get an error calling for C++. This means that package requires a compiler. You have a couple options. One is to follow the instructions in the pdf I provided in 'doc' folder; this involves installing a visual C++ distribution. Another involves downloading a binary file for wordcloud (or other package) and installing that instead (here: https://www.lfd.uci.edu/~gohlke/pythonlibs/#wordcloud)\n",
    "\n",
    "\n",
    "Install git desktop\n",
    "\n",
    "Install apps. Note: rather than just installing a bunch, sometimes it is best to wait until you get an error message saying an extension needs to be installed. The message will give you the option to install the right version by clicking the button, and that is tbe best approach. There are a ton of extensions to choose from, and it is easy to get confused and install old / deprecated versions or clashing versions. VS code is really user friendly when it comes to error messages.\n",
    "- GitHub Repositories\n",
    "- Remote Repositories\n",
    "- Jupyter\n",
    "- Jupyter Notebook Renderer\n",
    "- Python (or R, or Java, or other, or all of the above if you wish)\n",
    "- Kubernetes (optional)\n",
    "- Docker (optional)\n",
    "- YAML (optional)\n",
    "- NodeJS (optional)\n",
    "\n",
    "Probably best to restart your computer at this point.\n",
    "\n",
    "Connect GitHub to VS Code, look for remote repository\n",
    "\n",
    "Set up GitHub structure, easiest way by far is using VS Code remote connection to your repo. (\n",
    "    Connect using remote repositories\n",
    "    Right click on repo name in VS Code explorer window, select add folder and type in the name.\n",
    "    Boom.\n",
    "    You can right click on any file or folder and select 'reveal in file explorer'\n",
    "    You can use file explorer to build / edit folder structure in repo, just be sure to commit changes to repo\n",
    ")\n",
    "\n",
    "Sometimes VS code has issues with paths, etc."
   ]
  },
  {
   "cell_type": "markdown",
   "metadata": {},
   "source": [
    "Run 'pip list' in the terminal to see what is already installed. If you are missing something, generally you will use 'pip install <module> in the terminal window to install it. If you run into an error installing something, read the error message carefully, then do a Google search on the error. Chances are the 'pip install' command needs to be formatted differently. Note: you can actually install packages in your notebook using \"! python -m pip install <package_name>\" (without the quotes)"
   ]
  },
  {
   "cell_type": "code",
   "execution_count": 2,
   "metadata": {},
   "outputs": [
    {
     "name": "stdout",
     "output_type": "stream",
     "text": [
      "Requirement already satisfied: pandas in c:\\users\\hruss\\appdata\\local\\programs\\python\\python310\\lib\\site-packages (1.4.2)\n",
      "Requirement already satisfied: python-dateutil>=2.8.1 in c:\\users\\hruss\\appdata\\local\\programs\\python\\python310\\lib\\site-packages (from pandas) (2.8.2)\n",
      "Requirement already satisfied: numpy>=1.21.0 in c:\\users\\hruss\\appdata\\local\\programs\\python\\python310\\lib\\site-packages (from pandas) (1.22.3)\n",
      "Requirement already satisfied: pytz>=2020.1 in c:\\users\\hruss\\appdata\\local\\programs\\python\\python310\\lib\\site-packages (from pandas) (2022.1)\n",
      "Requirement already satisfied: six>=1.5 in c:\\users\\hruss\\appdata\\local\\programs\\python\\python310\\lib\\site-packages (from python-dateutil>=2.8.1->pandas) (1.16.0)\n"
     ]
    }
   ],
   "source": [
    "! python -m pip install pandas"
   ]
  },
  {
   "cell_type": "markdown",
   "metadata": {},
   "source": [
    "Key libraries (modules) you will use, with their URLs. These are the primary ones I use. There will likely be others, but get familiar with these main ones. If you get errors come up when trying to do something in VS code, particularly when you first start using it, the error might be linked to a missing library, or missing app in VS code.\n",
    "\n",
    "- Scikit-Learn: https://scikit-learn.org/stable/index.html \n",
    "- Matplotlib: https://matplotlib.org/ \n",
    "- Pandas: https://pandas.pydata.org/ \n",
    "- Numpy: https://numpy.org/ \n",
    "- NLTK: https://www.nltk.org/ \n",
    "- Seaborn: https://seaborn.pydata.org/index.html \n",
    "- Warnings: \n"
   ]
  },
  {
   "cell_type": "code",
   "execution_count": 3,
   "metadata": {},
   "outputs": [
    {
     "name": "stdout",
     "output_type": "stream",
     "text": [
      "Hello world\n"
     ]
    }
   ],
   "source": [
    "#Print your full name, and run it. Save and submit as lab.\n",
    "print(\"Hello world\")"
   ]
  },
  {
   "cell_type": "markdown",
   "metadata": {},
   "source": [
    "When everything is installed, go to your terminal and run the following:\n",
    "\n",
    "python -m pip freeze > requirements.csv"
   ]
  }
 ],
 "metadata": {
  "interpreter": {
   "hash": "51499c2659ed4cb43a548fa4b2b62df0ca021ab0a5abe3bb135c5bc213dbd661"
  },
  "kernelspec": {
   "display_name": "Python 3.10.4 64-bit",
   "language": "python",
   "name": "python3"
  },
  "language_info": {
   "codemirror_mode": {
    "name": "ipython",
    "version": 3
   },
   "file_extension": ".py",
   "mimetype": "text/x-python",
   "name": "python",
   "nbconvert_exporter": "python",
   "pygments_lexer": "ipython3",
   "version": "3.10.4"
  },
  "orig_nbformat": 4
 },
 "nbformat": 4,
 "nbformat_minor": 2
}
