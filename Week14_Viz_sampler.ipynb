{
 "cells": [
  {
   "cell_type": "markdown",
   "metadata": {},
   "source": [
    "Import libraries and data, prep data"
   ]
  },
  {
   "cell_type": "code",
   "execution_count": null,
   "metadata": {},
   "outputs": [],
   "source": [
    "%matplotlib inline \n",
    "import warnings\n",
    "warnings.filterwarnings('ignore')\n",
    "import seaborn as sns\n",
    "import matplotlib as mpl\n",
    "import matplotlib.pyplot as plt\n",
    "import PyPDF2 as pyp\n",
    "import pandas as pd\n",
    "import numpy as np\n",
    "import random \n",
    "import os \n",
    "import matplotlib.image as mpimg \n",
    "import PIL\n",
    "import plotly \n",
    "import plotly.express as px\n",
    "import plotly.graph_objs as pg\n",
    "#To generate graphs offline and view in notebook\n",
    "import plotly.offline as po\n",
    "po.init_notebook_mode(connected = True)\n",
    "import base64, io, IPython\n",
    "from PIL import Image as PILImage\n",
    "from sklearn.feature_extraction.text import TfidfVectorizer\n",
    "import plotly.graph_objects as go\n",
    "from plotly.subplots import make_subplots\n",
    "import dash\n",
    "from dash import dcc\n",
    "from dash import html\n",
    "\n",
    "#NetworkX and WordCloud: You will have difficulty installing both if you are not using\n",
    "#the C++ distribution of Visual Studio. Go to the VS site and download latest version, but\n",
    "#be sure you get the C++ version, not the .Net version.\n",
    "import networkx as nx\n",
    "from wordcloud import WordCloud"
   ]
  },
  {
   "cell_type": "code",
   "execution_count": null,
   "metadata": {},
   "outputs": [],
   "source": [
    "data = sns.load_dataset('penguins')\n",
    "data.head()   "
   ]
  },
  {
   "cell_type": "code",
   "execution_count": null,
   "metadata": {},
   "outputs": [],
   "source": [
    "data['bill_length_mm'].fillna(data['bill_length_mm'].mean(), inplace=True)\n",
    "data['bill_depth_mm'].fillna(data['bill_depth_mm'].mean(), inplace=True)\n",
    "data['flipper_length_mm'].fillna(data['flipper_length_mm'].mean(), inplace=True)\n",
    "data['body_mass_g'].fillna(data['body_mass_g'].mean(), inplace=True)\n",
    "data['sex'].fillna(data['sex'].value_counts().index[0], inplace=True)\n",
    "data.isnull().sum()"
   ]
  },
  {
   "cell_type": "code",
   "execution_count": null,
   "metadata": {},
   "outputs": [],
   "source": [
    "data.head()"
   ]
  },
  {
   "cell_type": "markdown",
   "metadata": {},
   "source": [
    "Plot standard Seaborn plots"
   ]
  },
  {
   "cell_type": "code",
   "execution_count": null,
   "metadata": {},
   "outputs": [],
   "source": [
    "#Options are below for plots using Seaborn. Examples in following blocks.\n",
    "'''\n",
    "(data, kind, x, y, style, col, size, ci, row, hue, palette, order, orient, height, aspect, markers, linestyles, split, inner, col_wrap)\n",
    "viz = sns.relplot(                      #What category of plot (catplot, relplot, displot)\n",
    "    data=data,                          #What is your dataset?\n",
    "    data=data.query(use \" \" and/or),    #Want to slice out any part of it for this viz?     \n",
    "    kind = \"line\",                      #Plot type [relplot (line, scatter), catplot (strip, box, violin, boxen, point, bar, count, swarm)\n",
    "                                        displot (hist, kde, ecdf), lmplot, regplot, residplot, heatmap, clustermap]\n",
    "    x = \"flipper_length_mm\",            #What is your X\n",
    "    y = \"bill_length_mm\",               #What is your Y   \n",
    "    style = ,                           #Similar to hue, set marker style based on category\n",
    "    col = \"species\",                    #Want to break out into small multiples vertically?    \n",
    "    size = ,                            #Automatically normalized into ranges, size of marker or line by value\n",
    "    ci = \"sd\",                          #Confidence interval for line plots [\"none\", \"sd\"]    \n",
    "    row = ,                             #Use row with or instead of col    \n",
    "    hue = \"sex\",                        #Want to color by a 3rd feature? Lineplot shows multiple lines. Or,    \n",
    "    palette = {\" \" : \" \", \" \" : \" \"}    #Want to specify colors for each category?\n",
    "    order = [\" \", \" \"],                 #Order your categories explicitly, or data = data.sort_values(\"feature\")\n",
    "    orient = \"h\",                       #Want to swap x and y?     \n",
    "    height = , aspect = ,               #Want to set the height and width?    \n",
    "    markers = [\"^\", \"o\"],               #Want some cool markers?\n",
    "    linestyles = [\"--\"]                 #Want some cool linestyles? Line plot shows multiple lines.\n",
    "    split = True,                       #Use to split violin plot into two hues\n",
    "    inner = \"stick\"                     #Use to add value markers inside violin plot\n",
    "    col_wrap = 5                        #Wraps values in small multiples of 5 columns, across many values    \n",
    "    )\n",
    "\n",
    "viz.set_axis_labels(\"Flipper length\", \"Bill length\")\n",
    "viz.set(xscale = \"log\")                 #Use to convert x to log scale\n",
    "viz.figure.autofmt_xdate()              #Use when plotting time series, to format date\n",
    "viz2 = sns.type(args, ax = viz.ax)      #Use to add a second type of plot to the same axis\n",
    "''';"
   ]
  },
  {
   "cell_type": "code",
   "execution_count": null,
   "metadata": {},
   "outputs": [],
   "source": [
    "viz = sns.catplot(\n",
    "    kind = \"swarm\",\n",
    "    #kind = \"strip\",\n",
    "    #kind = \"box\",\n",
    "    #kind = \"boxen\"\n",
    "    #kind = \"point\"\n",
    "    #kind = \"bar\", orient = \"h\",\n",
    "    #kind = \"violin\", split = True, inner = \"stick\",\n",
    "    x = \"species\", \n",
    "    y = \"body_mass_g\",\n",
    "    hue = \"island\",\n",
    "    palette = \"hsv\",\n",
    "    data = data.query(\"body_mass_g > 3500\" and \"body_mass_g < 5000\")\n",
    ")"
   ]
  },
  {
   "cell_type": "code",
   "execution_count": null,
   "metadata": {},
   "outputs": [],
   "source": [
    "viz = sns.catplot(   \n",
    "    data=data,       \n",
    "    kind = \"count\",  \n",
    "    y = \"species\",\n",
    "    hue = \"island\",\n",
    "    orient = \"h\",\n",
    "    palette = \"hsv\"\n",
    ")"
   ]
  },
  {
   "cell_type": "code",
   "execution_count": null,
   "metadata": {},
   "outputs": [],
   "source": [
    "viz = sns.displot(\n",
    "    data = data,  \n",
    "    kind = \"hist\",\n",
    "    #kind = \"kde\",\n",
    "    #kind = \"ecdf\"\n",
    "    col = \"island\",\n",
    "    x = \"body_mass_g\",\n",
    "    hue = \"island\",\n",
    "    palette = \"hsv\"\n",
    ")"
   ]
  },
  {
   "cell_type": "code",
   "execution_count": null,
   "metadata": {},
   "outputs": [],
   "source": [
    "viz = sns.regplot(\n",
    "    data = data,\n",
    "    x = \"flipper_length_mm\",\n",
    "    y = \"bill_length_mm\",\n",
    "    ci = 99,\n",
    ")"
   ]
  },
  {
   "cell_type": "markdown",
   "metadata": {},
   "source": [
    "Plot figures with multiple graphs"
   ]
  },
  {
   "cell_type": "code",
   "execution_count": null,
   "metadata": {},
   "outputs": [],
   "source": [
    "#PYRAMID BAR - \n",
    "fig, ax = plt.subplots(nrows=1, ncols=2, sharey = True)\n",
    "sns.barplot(x = \"body_mass_g\", y = \"island\", color = \"darkblue\", ax = ax[0], data = data[(data.sex == \"Male\")])\n",
    "sns.barplot(x = \"body_mass_g\", y = \"island\", color = \"darkred\", ax = ax[0], data = data[(data.sex == \"Female\")])\n",
    "#ax[0].invert_xaxis()\n",
    "#ax[1].yaxis.tick_right()\n",
    "ax[0].set_title(\"Male\")\n",
    "#ax[1].set_title(\"Female\")\n",
    "ax[0].set(xlabel=\"body mass\", ylabel=\"island\") \n",
    "#ax[1].set(xlabel=\"body mass\", ylabel=\"\")\n",
    "#fig.suptitle(\"Penguins\")"
   ]
  },
  {
   "cell_type": "code",
   "execution_count": null,
   "metadata": {},
   "outputs": [],
   "source": [
    "#HISTOGRAM comparison- \n",
    "sns.set_theme(style=\"white\", rc={\"axes.spines.right\" : False, \"axes.spines.top\" : False}, font=\"DejaVu Sans\")\n",
    "ax = sns.histplot(x = \"flipper_length_mm\", color = \"gray\", data = data)\n",
    "heights = [p.get_height() for p in ax.patches]\n",
    "highest = sorted(heights)[len(heights)-1]\n",
    "for p in ax.patches:\n",
    "    if  p.get_height() == highest:\n",
    "        p.set_color('darkred')\n",
    "plt.title(\"Flipper Length Histogram\")\n",
    "plt.show()"
   ]
  },
  {
   "cell_type": "code",
   "execution_count": null,
   "metadata": {},
   "outputs": [],
   "source": [
    "#HISTOGRAM comparison- \n",
    "fig, ax = plt.subplots(ncols=2, nrows=1, sharey = True)\n",
    "sns.histplot(y = \"flipper_length_mm\", color = \"darkblue\", ax=ax[0], data = data[(data.sex == \"Male\")])\n",
    "sns.histplot(y = \"flipper_length_mm\", color = \"darkred\", ax=ax[1], data = data[(data.sex == \"Female\")])\n",
    "ax[0].invert_xaxis()\n",
    "ax[0].set_title(\"Male\")\n",
    "ax[1].set_title(\"Female\")\n",
    "ax[0].set(xlabel=\"count\", ylabel=\"flipper length\") \n",
    "ax[1].set(xlabel=\"count\", ylabel=\"\")\n",
    "fig.suptitle(\"Flipper Length\")\n"
   ]
  },
  {
   "cell_type": "code",
   "execution_count": null,
   "metadata": {},
   "outputs": [],
   "source": [
    "#HISTOGRAM comparison- \n",
    "fig, ax = plt.subplots(nrows=1, ncols=2, figsize = (10, 5))\n",
    "sns.histplot(ax = ax[0], x = \"flipper_length_mm\", kde = True, color = \"darkblue\", data = data[(data.sex == \"Male\")])\n",
    "sns.histplot(ax = ax[1], x = \"flipper_length_mm\", kde = True, color = \"darkred\", data = data[(data.sex == \"Female\")])\n",
    "plt.suptitle(\"Flipper Length\")\n",
    "plt.show()"
   ]
  },
  {
   "cell_type": "code",
   "execution_count": null,
   "metadata": {},
   "outputs": [],
   "source": [
    "#BOX comparison-\n",
    "fig, ax = plt.subplots(nrows=1, ncols=2, figsize = (10, 5))\n",
    "#BOX\n",
    "viz_box = sns.boxplot(data = data, x = \"island\", y = \"bill_length_mm\", ax = ax[0])\n",
    "#BOXEN\n",
    "viz_boxen = sns.boxenplot(data = data, x = \"island\", y = \"bill_length_mm\", ax = ax[1])\n",
    "ax[0].set_title(\"Box Plot\")\n",
    "ax[1].set_title(\"Boxen Plot\")\n",
    "plt.suptitle(\"Bill Length Plots\")\n",
    "plt.show()"
   ]
  },
  {
   "cell_type": "code",
   "execution_count": null,
   "metadata": {},
   "outputs": [],
   "source": [
    "#SWARM - STRIP comparison-\n",
    "fig, ax = plt.subplots(nrows=1, ncols=2, figsize = (10, 5))\n",
    "#SWARM\n",
    "viz_swarm = sns.swarmplot(data = data, x = \"island\", y = \"bill_length_mm\",  ax = ax[0])\n",
    "#STRIP\n",
    "viz_strip = sns.stripplot(data = data, x = \"island\", y = \"bill_length_mm\",  ax = ax[1])\n",
    "ax[0].set_title(\"Swarm Plot\")\n",
    "ax[1].set_title(\"Strip Plot\")\n",
    "plt.suptitle(\"Bill Length Plots\")\n",
    "plt.show()"
   ]
  },
  {
   "cell_type": "code",
   "execution_count": null,
   "metadata": {},
   "outputs": [],
   "source": [
    "sns.jointplot(data=data, x = \"flipper_length_mm\", y = \"bill_length_mm\")"
   ]
  },
  {
   "cell_type": "code",
   "execution_count": null,
   "metadata": {},
   "outputs": [],
   "source": [
    "#PAIRPLOT\n",
    "sns.set_theme(style=\"ticks\")\n",
    "df = sns.load_dataset(\"penguins\")\n",
    "sns.pairplot(df, hue=\"species\")"
   ]
  },
  {
   "cell_type": "code",
   "execution_count": null,
   "metadata": {},
   "outputs": [],
   "source": [
    "#KDE PLOT\n",
    "sns.set_theme(style=\"darkgrid\")\n",
    "# Set up the figure\n",
    "f, ax = plt.subplots(figsize=(8, 8))\n",
    "ax.set_aspect(\"equal\")\n",
    "# Draw a contour plot to represent each bivariate density\n",
    "sns.kdeplot(data=data, x=\"flipper_length_mm\", y=\"bill_length_mm\", hue=\"species\", thresh=.1)"
   ]
  },
  {
   "cell_type": "markdown",
   "metadata": {},
   "source": [
    "Plot more complicated graphs"
   ]
  },
  {
   "cell_type": "code",
   "execution_count": null,
   "metadata": {},
   "outputs": [],
   "source": [
    "#RIDGELINE\n",
    "species = ['Adelie', 'Chinstrap', 'Gentoo']\n",
    "df_filtered = data[data['species'].isin(species)]\n",
    "df_filtered\n",
    "sns.set_theme(style=\"white\", rc={\"axes.facecolor\": (0, 0, 0, 0), 'axes.linewidth':2})\n",
    "palette = sns.color_palette(\"Set2\", 12)\n",
    "g = sns.FacetGrid(df_filtered, palette=palette, row=\"species\", hue=\"species\", aspect=7, height=1.2)\n",
    "g.map_dataframe(sns.kdeplot, x=\"flipper_length_mm\", fill=True, alpha=1)\n",
    "g.map_dataframe(sns.kdeplot, x=\"flipper_length_mm\", color='black')\n",
    "def label(x, color, label):\n",
    "    ax = plt.gca()\n",
    "    ax.text(0, .2, label, color='black', fontsize=13,\n",
    "            ha=\"left\", va=\"center\", transform=ax.transAxes)\n",
    "g.map(label, \"species\")\n",
    "g.fig.subplots_adjust(hspace=-.5)\n",
    "g.set_titles(\"\")\n",
    "g.set(yticks=[], xlabel=\"Flipper length (mm)\")\n",
    "g.despine( left=True)\n",
    "plt.suptitle('Flipper Length Ridgeline Plot', y=0.98)"
   ]
  },
  {
   "cell_type": "code",
   "execution_count": null,
   "metadata": {},
   "outputs": [],
   "source": [
    "#PIEPLOT\n",
    "data_group = data.groupby('species').count()\n",
    "data_group = data_group.reset_index()\n",
    "values = data_group['island']\n",
    "labels = data_group['species']\n",
    "plt.pie(values, labels = labels, radius = 1, startangle = 90, \n",
    "    explode = [0.2, 0.0, 0.0], textprops=dict(color=\"black\"), autopct='%1.1f%%')\n",
    "plt.title(\"Penguin Population Proportion by Species\")\n",
    "plt.show()"
   ]
  },
  {
   "cell_type": "code",
   "execution_count": null,
   "metadata": {},
   "outputs": [],
   "source": [
    "#RAINCLOUD\n",
    "def add_cosmetics(title='Penguin Flipper Length Raincloud Plot', xlabel='Flipper length', ylabel='Species'):\n",
    "    plt.title(title, fontsize=20)\n",
    "    plt.xlabel(xlabel, fontsize=15)\n",
    "    plt.ylabel(ylabel, fontsize=15)\n",
    "    plt.xticks(fontsize=10)\n",
    "    plt.yticks(fontsize=10)\n",
    "    sns.despine()\n",
    "plt.figure(figsize=(7, 4))\n",
    "# Create violin plots without mini-boxplots inside.\n",
    "ax = sns.violinplot(x='flipper_length_mm', y='species', data=data, color='mediumslateblue', cut=0, inner=None)\n",
    "# Clip the lower half of each violin.\n",
    "for item in ax.collections:\n",
    "    x0, y0, width, height = item.get_paths()[0].get_extents().bounds\n",
    "    item.set_clip_path(plt.Rectangle((x0, y0), width, height/2, transform=ax.transData))\n",
    "# Create strip plots with partially transparent points of different colors depending on the group.\n",
    "num_items = len(ax.collections)\n",
    "sns.stripplot(x='flipper_length_mm', y='species', hue='sex', data=data, palette=['orange', 'gray'], alpha=0.4, size=7)\n",
    "# Shift each strip plot strictly below the correponding volin.\n",
    "for item in ax.collections[num_items:]: item.set_offsets(item.get_offsets() + 0.15)\n",
    "# Create narrow boxplots on top of the corresponding violin and strip plots, with thick lines, the mean values, without the outliers.\n",
    "'''\n",
    "sns.boxplot(x='flipper_length_mm', y='species', data=data, width=0.25, showfliers=False, showmeans=True, \n",
    "            meanprops=dict(marker='o', markerfacecolor='darkorange', markersize=10, zorder=3),\n",
    "            boxprops=dict(facecolor=(0,0,0,0), linewidth=3, zorder=3), whiskerprops=dict(linewidth=3), \n",
    "            capprops=dict(linewidth=3), medianprops=dict(linewidth=3))\n",
    "plt.legend(frameon=False, fontsize=15, loc='upper right')\n",
    "add_cosmetics()\n",
    "'''"
   ]
  },
  {
   "cell_type": "code",
   "execution_count": null,
   "metadata": {},
   "outputs": [],
   "source": [
    "#SUNBURST\n",
    "import plotly.express as px\n",
    "import plotly.graph_objects as go\n",
    "fig = px.sunburst(data,\n",
    "                  path=[\"sex\", \"island\", \"species\"],\n",
    "                  values='bill_length_mm',\n",
    "                  title=\"Penguin Species by Gender & Island (Plotly Express)\",\n",
    "                  width=450, height=450)\n",
    "fig.show()"
   ]
  },
  {
   "cell_type": "code",
   "execution_count": null,
   "metadata": {},
   "outputs": [],
   "source": [
    "#TREEMAP\n",
    "colors=['#fae588','#f79d65','#f9dc5c','#e8ac65','#e76f51','#ef233c','#b7094c'] #color palette\n",
    "data2 = {'labels': [\"A\",\"B\",\"C\",\"D\",\"E\",\"F\",\"G\"],\n",
    "        'values':[10,20,25,35,10,25,45]}\n",
    "df = pd.DataFrame(data2)\n",
    "fig = px.treemap(df, path=['labels'],values='values', width=400, height=200, title = \"Random Treemap: Color = Relative Value\")\n",
    "fig.update_layout(\n",
    "    treemapcolorway = colors, #defines the colors in the treemap\n",
    "    margin = dict(t=25, l=25, r=25, b=25))\n",
    "fig.show()"
   ]
  },
  {
   "cell_type": "code",
   "execution_count": null,
   "metadata": {},
   "outputs": [],
   "source": [
    "flights = sns.load_dataset(\"flights\")\n",
    "flights = flights.pivot(\"month\", \"year\", \"passengers\")\n",
    "viz = sns.heatmap(flights)"
   ]
  },
  {
   "cell_type": "markdown",
   "metadata": {},
   "source": [
    "Plot network diagrams"
   ]
  },
  {
   "cell_type": "code",
   "execution_count": null,
   "metadata": {},
   "outputs": [],
   "source": [
    "fig, ax = plt.subplots(figsize=(10,5))\n",
    "\n",
    "relationships = pd.DataFrame({'from': ['A', 'A', 'A', '1', '2'], \n",
    "                              'to':   ['B', 'C', 'D', 'C', 'C']})\n",
    "\n",
    "# Create DF for node characteristics\n",
    "carac = pd.DataFrame({'ID':['A', 'B', 'C', 'D', '1', '2'], \n",
    "                      'type':['Letter','Letter', 'Letter', 'Letter', \n",
    "                      'Number', 'Number']})\n",
    "\n",
    "# Create graph object\n",
    "G = nx.from_pandas_edgelist(relationships, 'from', 'to', create_using=nx.Graph())\n",
    "\n",
    "# Make types into categories\n",
    "carac = carac.set_index('ID')\n",
    "carac = carac.reindex(G.nodes())\n",
    "\n",
    "carac['type'] = pd.Categorical(carac['type'])\n",
    "carac['type'].cat.codes\n",
    "\n",
    "# Specify colors\n",
    "#cmap = mpl.colors.ListedColormap(['C0', 'darkorange'])\n",
    "\n",
    "# Set node sizes\n",
    "#node_sizes = [4000 if entry != 'Letter' else 1000 for entry in carac.type]\n",
    "node_sizes = 1000\n",
    "\n",
    "# Set edge colors\n",
    "#edge_colors = ['blue', 'red', 'green', 'orange', 'blue']\n",
    "edge_colors = 'blue'\n",
    "\n",
    "# Set edge widths\n",
    "#edge_widths = [0.1, 1, 2, 3, 5]\n",
    "edge_widths = 1\n",
    "\n",
    "# Draw graph\n",
    "#nx.draw(G, with_labels=True, node_color=carac['type'].cat.codes, node_size=node_sizes, width=edge_widths, \n",
    "#    edge_color=edge_colors, edgecolors='black', cmap=cmap)\n",
    "nx.draw(G, with_labels=True, node_color='orange', node_size=node_sizes, width=edge_widths, \n",
    "    edge_color=edge_colors, edgecolors='black')\n"
   ]
  },
  {
   "cell_type": "code",
   "execution_count": null,
   "metadata": {},
   "outputs": [],
   "source": [
    "# Set overall figure size\n",
    "f = plt.figure(figsize=(15,12))\n",
    "f.tight_layout()\n",
    "\n",
    "# Specify data and attributes\n",
    "relationships = pd.DataFrame({'from': ['A', 'A', 'A', '1', '2', '3', '1', 'Center', 'Center', \n",
    "                                       'Center', 'Center', 'Center', 'Center', 'Center'], \n",
    "                              'to': ['B', 'C', 'D', 'C', 'C', 'A', '3', '1', '3', '2', 'A', 'B', \n",
    "                                     'C', 'D']})\n",
    "\n",
    "# Create DF for node characteristics\n",
    "carac = pd.DataFrame({'ID':['A', 'B', 'C', 'D', '1', '2', '3', 'Center'], \n",
    "                      'type':['Letter','Letter', 'Letter', 'Letter', 'Number', 'Number', \n",
    "                              'Number', 'Center']})\n",
    "\n",
    "# Create graph object\n",
    "G = nx.from_pandas_edgelist(relationships, 'from', 'to', create_using=nx.Graph())\n",
    "\n",
    "# Make types into categories\n",
    "carac= carac.set_index('ID')\n",
    "carac=carac.reindex(G.nodes())\n",
    "\n",
    "carac['type']=pd.Categorical(carac['type'])\n",
    "carac['type'].cat.codes\n",
    "\n",
    "# Set node colors\n",
    "cmap = mpl.colors.ListedColormap(['dodgerblue', 'lightgray', 'darkorange'])\n",
    "\n",
    "# Set node sizes\n",
    "node_sizes = [1000 if entry != 'Letter' else 500 for entry in carac.type]\n",
    "\n",
    "# Create Layouts\n",
    "\n",
    "# Subplot 1\n",
    "plt.subplot(3, 2, 1)\n",
    "nx.draw(G, with_labels=True, node_color=carac['type'].cat.codes, cmap=cmap, \n",
    "        node_size = node_sizes, edgecolors='gray')\n",
    "plt.title('Spring Layout (Default)', fontsize=10)\n",
    "\n",
    "# Subplot 2\n",
    "plt.subplot(3, 2, 2)\n",
    "nx.draw_random(G, with_labels=True, node_color=carac['type'].cat.codes, cmap=cmap, \n",
    "               node_size = node_sizes, edgecolors='gray')\n",
    "plt.title('Random Layout', fontsize=10)\n",
    "\n",
    "# Subplot 3\n",
    "plt.subplot(3, 2, 3)\n",
    "nx.draw_shell(G, with_labels=True, node_color=carac['type'].cat.codes, cmap=cmap, \n",
    "            node_size = node_sizes, edgecolors='gray')\n",
    "plt.title('Shell Layout', fontsize=10)\n",
    "\n",
    "# Subplot 4\n",
    "plt.subplot(3, 2, 4)\n",
    "nx.draw_planar(G, with_labels=True, node_color=carac['type'].cat.codes, cmap=cmap, \n",
    "            node_size = node_sizes, edgecolors='gray')\n",
    "plt.title('Planar Layout', fontsize=10)\n",
    "\n",
    "# Subplot 5\n",
    "plt.subplot(3, 2, 5)\n",
    "nx.draw_circular(G, with_labels=True, node_color=carac['type'].cat.codes, cmap=cmap, \n",
    "            node_size = node_sizes, edgecolors='gray')\n",
    "plt.title('Circular Layout', fontsize=10)\n",
    "\n",
    "# Subplot 4\n",
    "plt.subplot(3, 2, 6)\n",
    "nx.draw_kamada_kawai(G, with_labels=True, node_color=carac['type'].cat.codes, cmap=cmap, \n",
    "            node_size = node_sizes, edgecolors='gray')\n",
    "plt.title('Kamada Kawai Layout', fontsize=10)\n"
   ]
  },
  {
   "cell_type": "markdown",
   "metadata": {},
   "source": [
    "Plot wordclouds"
   ]
  },
  {
   "cell_type": "code",
   "execution_count": null,
   "metadata": {},
   "outputs": [],
   "source": [
    "from pathlib import Path\n",
    "file_loc = Path(r'C:\\Users\\hruss\\OneDrive\\Documents\\GMU\\Repositories\\CDS303-F22\\data\\textDocs')\n",
    "print(file_loc.is_dir())"
   ]
  },
  {
   "cell_type": "code",
   "execution_count": null,
   "metadata": {},
   "outputs": [],
   "source": [
    "#Open PDFs so they can be read, 'rb' means read only in binary format\n",
    "Washington_pdf = open(file_loc/'Address_Washington.pdf', 'rb')\n",
    "Reagan_pdf = open(file_loc/'Address_Reagan.pdf', 'rb')\n",
    "JFK_pdf = open(file_loc/'Address_JFK.pdf', 'rb')"
   ]
  },
  {
   "cell_type": "code",
   "execution_count": null,
   "metadata": {},
   "outputs": [],
   "source": [
    "#Creating a pdf file object using PyPDF.\n",
    "#Extract text from pdfs\n",
    "\n",
    "JFK_read_pdf = pyp.PdfFileReader(JFK_pdf)\n",
    "Washington_read_pdf = pyp.PdfFileReader(Washington_pdf)\n",
    "Reagan_read_pdf = pyp.PdfFileReader(Reagan_pdf)\n",
    "JFK_data = \"\"\n",
    "Washington_data = \"\"\n",
    "Reagan_data = \"\"\n",
    "\n",
    "Jnum_pages = JFK_read_pdf.numPages\n",
    "for i in range(Jnum_pages) : \n",
    "        Jpage = JFK_read_pdf.getPage(i) \n",
    "        JFK_data = JFK_data + Jpage.extractText()\n",
    "Wnum_pages = Washington_read_pdf.numPages\n",
    "for i in range(Wnum_pages) : \n",
    "        Wpage = Washington_read_pdf.getPage(i)\n",
    "        Washington_data = Washington_data + Wpage.extractText()\n",
    "Rnum_pages = Reagan_read_pdf.numPages\n",
    "for i in range(Rnum_pages) : \n",
    "        Rpage = Reagan_read_pdf.getPage(i)\n",
    "        Reagan_data = Reagan_data + Rpage.extractText()"
   ]
  },
  {
   "cell_type": "code",
   "execution_count": null,
   "metadata": {},
   "outputs": [],
   "source": [
    "#Perform NLP on data to create more meaningful word clouds\n",
    "from sklearn.feature_extraction.text import TfidfVectorizer\n",
    "corpus = [Reagan_data, JFK_data, Washington_data]\n",
    "vectorizer = TfidfVectorizer(stop_words='english', ngram_range = (1,2))\n",
    "X = vectorizer.fit_transform(corpus)\n",
    "feature_names = vectorizer.get_feature_names_out()\n",
    "dense = X.todense()\n",
    "denselist = dense.tolist()\n",
    "df = pd.DataFrame(denselist, columns=feature_names)\n",
    "data = df.transpose()\n",
    "#Make sure you have these in the same order as your corpus above\n",
    "data.columns = ['Reagan', 'JFK', 'Washington']"
   ]
  },
  {
   "cell_type": "code",
   "execution_count": null,
   "metadata": {},
   "outputs": [],
   "source": [
    "data.head()"
   ]
  },
  {
   "cell_type": "code",
   "execution_count": null,
   "metadata": {},
   "outputs": [],
   "source": [
    "#Show wordclouds\n",
    "colors = \"viridis\"\n",
    "maxwords = 50\n",
    "\n",
    "# Set overall figure size\n",
    "f = plt.figure(figsize=(12,6))\n",
    "f.tight_layout()\n",
    "\n",
    "# Subplot 1\n",
    "plt.subplot(2, 2, 1)\n",
    "Washington_wordcloud = WordCloud(max_words = maxwords, colormap = colors).generate_from_frequencies(data['Washington'])\n",
    "plt.imshow(Washington_wordcloud)\n",
    "plt.axis('off')\n",
    "plt.title('Washington Speech', fontsize=15)\n",
    "# Subplot 2\n",
    "plt.subplot(2, 2, 2)\n",
    "Reagan_wordcloud = WordCloud(max_words = maxwords, colormap = colors).generate_from_frequencies(data['Reagan'])\n",
    "plt.imshow(Reagan_wordcloud)\n",
    "plt.axis('off')\n",
    "plt.title('Reagan Speech', fontsize=15)\n",
    "# Subplot 3\n",
    "plt.subplot(2, 2, 3)\n",
    "# Subplot 4\n",
    "plt.subplot(2, 2, 4)\n",
    "JFK_wordcloud = WordCloud(max_words = maxwords, colormap = colors).generate_from_frequencies(data['JFK'])\n",
    "plt.imshow(JFK_wordcloud)\n",
    "plt.axis('off')\n",
    "plt.title('JFK Speech', fontsize=15);\n"
   ]
  },
  {
   "cell_type": "markdown",
   "metadata": {},
   "source": [
    "Import, view and encode images"
   ]
  },
  {
   "cell_type": "code",
   "execution_count": null,
   "metadata": {},
   "outputs": [],
   "source": [
    "#importing and viewing all images from folder\n",
    "img_filenames = sorted(os.listdir(r'C:\\Users\\hruss\\OneDrive\\Documents\\GMU\\Repositories\\CSI703-F22\\images')) \n",
    "imgs = [mpimg.imread(os.path.join(r'C:\\Users\\hruss\\OneDrive\\Documents\\GMU\\Repositories\\CSI703-F22\\images', img_filename)) for img_filename in img_filenames]\n",
    "fig, axes = plt.subplots(1, 4) \n",
    "fig.figsize = (6, 6) \n",
    "fig.dpi = 150 \n",
    "axes = axes.ravel() \n",
    "# Specify labels \n",
    "labels = ['coast', 'beach', 'building', 'city at night'] \n",
    "# Plot images \n",
    "for i in range(len(imgs)): \n",
    "    axes[i].imshow(imgs[i]) \n",
    "    axes[i].set_xticks([]) \n",
    "    axes[i].set_yticks([]) \n",
    "    axes[i].set_xlabel(labels[i], color='white')"
   ]
  },
  {
   "cell_type": "code",
   "execution_count": null,
   "metadata": {},
   "outputs": [],
   "source": [
    "#Converting image to array for analysis purposes\n",
    "img = PIL.Image.open(r'C:\\Users\\hruss\\OneDrive\\Documents\\GMU\\Repositories\\CSI703-F22\\images\\photo-1.jpg').convert(\"L\")\n",
    "imgarr = np.array(img)\n",
    "imgarr"
   ]
  },
  {
   "cell_type": "code",
   "execution_count": null,
   "metadata": {},
   "outputs": [],
   "source": [
    "#Converting image to base64 so image file no longer needs to exist\n",
    "#If sending your code to someone who can't (or doesn't want to) accept images\n",
    "#Here, we covert to base64, then visualize it from that code (not from the file)\n",
    "image = PILImage.open(r\"C:\\Users\\hruss\\OneDrive\\Documents\\GMU\\Repositories\\CSI703-F22\\images\\photo-1.jpg\")\n",
    "output = io.BytesIO()\n",
    "image.save(output, format='PNG')\n",
    "encoded_string = base64.b64encode(output.getvalue()).decode()\n",
    "html = '<img src=\"data:image/png;base64,{}\"/>'.format(encoded_string)\n",
    "IPython.display.HTML(html)"
   ]
  },
  {
   "cell_type": "markdown",
   "metadata": {},
   "source": [
    "Plot data on a map"
   ]
  },
  {
   "cell_type": "code",
   "execution_count": null,
   "metadata": {},
   "outputs": [],
   "source": [
    "#List of Mapbox examples: https://docs.mapbox.com/mapbox-gl-js/example/"
   ]
  },
  {
   "cell_type": "code",
   "execution_count": null,
   "metadata": {},
   "outputs": [],
   "source": [
    "#Import world GDP dataset\n",
    "G_GDP = pd.read_csv(r'C:\\Users\\hruss\\OneDrive\\Documents\\GMU\\Repositories\\CSI703-F22\\GlobalGDP.csv')\n",
    "G_GDP.head()"
   ]
  },
  {
   "cell_type": "code",
   "execution_count": null,
   "metadata": {},
   "outputs": [],
   "source": [
    "#First, determine what data you need, and how you would like to project it on the map\n",
    "#Type = scattergeo, linegeo or choropleth\n",
    "#Example for using color scale for values, note that I reversed the scale so that darker = larger values\n",
    "data = dict(type='choropleth', locations = G_GDP['CODE'], z = G_GDP['GDP (BILLIONS)'], text = G_GDP['COUNTRY'], reversescale = True, autocolorscale = True, colorbar_title = \"GDP\")\n",
    "\n",
    "#Next, we want to determine the projection type. Remember our list includes #Projections =  'equirectangular', 'mercator', 'orthographic', 'natural earth', 'kavrayskiy7', \n",
    "# 'miller', 'robinson', 'eckert4', 'azimuthal equal area', 'azimuthal equidistant', 'conic equal area', 'conic conformal', 'conic equidistant', 'gnomonic', 'stereographic', 'mollweide', 'hammer', 'transverse mercator', \n",
    "# 'albers usa', 'winkel tripel', 'aitoff' and 'sinusoidal'.\n",
    "proj_type = 'robinson'\n",
    "\n",
    "#Here, we put our specifications for data and projection together\n",
    "#Scope = 'world', 'usa', 'europe', 'asia', 'africa', 'north america', 'south america'.\n",
    "# landcolor=\"LightGreen\", showocean=True, oceancolor=\"LightBlue\", showlakes=True, lakecolor=\"Blue\", \n",
    "# showrivers=True, rivercolor=\"Blue\", showcountries=True, countrycolor=\"RebeccaPurple\"\n",
    "layout = dict(title = proj_type, geo = dict( projection = {'type': proj_type}, scope = 'world', showlakes = True, \n",
    "    lakecolor = 'rgb(0,191,255)', lataxis_showgrid=True, lonaxis_showgrid=True,\n",
    "    resolution=50, showcoastlines=True, coastlinecolor=\"RebeccaPurple\", showland=True))\n",
    "\n",
    "#Finally, we plot our figure\n",
    "x = pg.Figure(data = [data], layout = layout)\n",
    "po.iplot(x)\n"
   ]
  },
  {
   "cell_type": "code",
   "execution_count": null,
   "metadata": {},
   "outputs": [],
   "source": [
    "#Example for using scaled symbols instead of colors\n",
    "#Note, I used 'hourglass-open'. You have a huge list of marker types listed here: https://plotly.com/python/marker-style/\n",
    "scale = G_GDP['GDP (BILLIONS)'] / 20\n",
    "data = dict(type='scattergeo', locations = G_GDP['CODE'], marker_size = G_GDP['GDP (BILLIONS)']/scale, marker_symbol = 'hourglass', text = G_GDP['COUNTRY'])\n",
    "\n",
    "#Next, we want to determine the projection type. Remember our list includes #Projections =  'equirectangular', 'mercator', 'orthographic', 'natural earth', 'kavrayskiy7', \n",
    "# 'miller', 'robinson', 'eckert4', 'azimuthal equal area', 'azimuthal equidistant', 'conic equal area', 'conic conformal', 'conic equidistant', 'gnomonic', 'stereographic', 'mollweide', 'hammer', 'transverse mercator', \n",
    "# 'albers usa', 'winkel tripel', 'aitoff' and 'sinusoidal'.\n",
    "proj_type = 'robinson'\n",
    "\n",
    "#Here, we put our specifications for data and projection together\n",
    "#Scope = 'world', 'usa', 'europe', 'asia', 'africa', 'north america', 'south america'.\n",
    "# landcolor=\"LightGreen\", showocean=True, oceancolor=\"LightBlue\", showlakes=True, lakecolor=\"Blue\", \n",
    "# showrivers=True, rivercolor=\"Blue\", showcountries=True, countrycolor=\"RebeccaPurple\"\n",
    "layout = dict(title = proj_type, geo = dict( projection = {'type': proj_type}, scope = 'world', showlakes = True, \n",
    "    lakecolor = 'rgb(0,191,255)', lataxis_showgrid=True, lonaxis_showgrid=True,\n",
    "    resolution=50, showcoastlines=True, coastlinecolor=\"RebeccaPurple\", showland=True))\n",
    "\n",
    "#Finally, we plot our figure\n",
    "x = pg.Figure(data = [data], layout = layout)\n",
    "po.iplot(x)"
   ]
  },
  {
   "cell_type": "markdown",
   "metadata": {},
   "source": [
    "Create colormaps to discover different color combos "
   ]
  },
  {
   "cell_type": "code",
   "execution_count": null,
   "metadata": {},
   "outputs": [],
   "source": [
    "#CREATING COLORMAPS\n",
    "\n",
    "cmaps = {}\n",
    "\n",
    "gradient = np.linspace(0, 1, 256)\n",
    "gradient = np.vstack((gradient, gradient))\n",
    "\n",
    "\n",
    "def plot_color_gradients(category, cmap_list):\n",
    "    # Create figure and adjust figure height to number of colormaps\n",
    "    nrows = len(cmap_list)\n",
    "    figh = 0.35 + 0.15 + (nrows + (nrows - 1) * 0.1) * 0.22\n",
    "    fig, axs = plt.subplots(nrows=nrows + 1, figsize=(6.4, figh))\n",
    "    fig.subplots_adjust(top=1 - 0.35 / figh, bottom=0.15 / figh,\n",
    "                        left=0.2, right=0.99)\n",
    "    axs[0].set_title(f'{category} colormaps', fontsize=14)\n",
    "\n",
    "    for ax, name in zip(axs, cmap_list):\n",
    "        ax.imshow(gradient, aspect='auto', cmap=plt.get_cmap(name))\n",
    "        ax.text(-0.01, 0.5, name, va='center', ha='right', fontsize=10,\n",
    "                transform=ax.transAxes)\n",
    "\n",
    "    # Turn off *all* ticks & spines, not just the ones with colormaps.\n",
    "    for ax in axs:\n",
    "        ax.set_axis_off()\n",
    "\n",
    "    # Save colormap list for later.\n",
    "    cmaps[category] = cmap_list"
   ]
  },
  {
   "cell_type": "code",
   "execution_count": null,
   "metadata": {},
   "outputs": [],
   "source": [
    "plot_color_gradients('Perceptually Uniform Sequential',\n",
    "                     ['viridis', 'plasma', 'inferno', 'magma', 'cividis'])\n",
    "plot_color_gradients('Sequential',\n",
    "                     ['Greys', 'Purples', 'Blues', 'Greens', 'Oranges', 'Reds',\n",
    "                      'YlOrBr', 'YlOrRd', 'OrRd', 'PuRd', 'RdPu', 'BuPu',\n",
    "                      'GnBu', 'PuBu', 'YlGnBu', 'PuBuGn', 'BuGn', 'YlGn'])\n",
    "plot_color_gradients('Sequential (2)',\n",
    "                     ['binary', 'gist_yarg', 'gist_gray', 'gray', 'bone',\n",
    "                      'pink', 'spring', 'summer', 'autumn', 'winter', 'cool',\n",
    "                      'Wistia', 'hot', 'afmhot', 'gist_heat', 'copper'])\n",
    "plot_color_gradients('Diverging',\n",
    "                     ['PiYG', 'PRGn', 'BrBG', 'PuOr', 'RdGy', 'RdBu', 'RdYlBu',\n",
    "                      'RdYlGn', 'Spectral', 'coolwarm', 'bwr', 'seismic'])\n",
    "plot_color_gradients('Cyclic', ['twilight', 'twilight_shifted', 'hsv'])\n",
    "plot_color_gradients('Miscellaneous',\n",
    "                     ['flag', 'prism', 'ocean', 'gist_earth', 'terrain',\n",
    "                      'gist_stern', 'gnuplot', 'gnuplot2', 'CMRmap',\n",
    "                      'cubehelix', 'brg', 'gist_rainbow', 'rainbow', 'jet',\n",
    "                      'turbo', 'nipy_spectral', 'gist_ncar'])"
   ]
  }
 ],
 "metadata": {
  "interpreter": {
   "hash": "51499c2659ed4cb43a548fa4b2b62df0ca021ab0a5abe3bb135c5bc213dbd661"
  },
  "kernelspec": {
   "display_name": "Python 3.10.4 64-bit",
   "language": "python",
   "name": "python3"
  },
  "language_info": {
   "codemirror_mode": {
    "name": "ipython",
    "version": 3
   },
   "file_extension": ".py",
   "mimetype": "text/x-python",
   "name": "python",
   "nbconvert_exporter": "python",
   "pygments_lexer": "ipython3",
   "version": "3.10.4"
  },
  "orig_nbformat": 4
 },
 "nbformat": 4,
 "nbformat_minor": 2
}
