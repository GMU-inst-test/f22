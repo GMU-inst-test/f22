{
 "cells": [
  {
   "cell_type": "code",
   "execution_count": 1,
   "metadata": {},
   "outputs": [
    {
     "name": "stdout",
     "output_type": "stream",
     "text": [
      "True\n"
     ]
    }
   ],
   "source": [
    "#Let's bring in a dataset and look at how we can show comparisons\n",
    "\n",
    "import warnings\n",
    "warnings.filterwarnings('ignore')  \n",
    "import pandas as pd\n",
    "import seaborn as sns\n",
    "from matplotlib import pyplot as plt\n",
    "from pathlib import Path\n",
    "file_loc = Path(r'C:\\Users\\hruss\\OneDrive\\Documents\\GMU\\Repositories\\CDS303-F22\\data')\n",
    "print(file_loc.is_dir())"
   ]
  },
  {
   "cell_type": "code",
   "execution_count": 10,
   "metadata": {},
   "outputs": [
    {
     "data": {
      "text/html": [
       "<div>\n",
       "<style scoped>\n",
       "    .dataframe tbody tr th:only-of-type {\n",
       "        vertical-align: middle;\n",
       "    }\n",
       "\n",
       "    .dataframe tbody tr th {\n",
       "        vertical-align: top;\n",
       "    }\n",
       "\n",
       "    .dataframe thead th {\n",
       "        text-align: right;\n",
       "    }\n",
       "</style>\n",
       "<table border=\"1\" class=\"dataframe\">\n",
       "  <thead>\n",
       "    <tr style=\"text-align: right;\">\n",
       "      <th></th>\n",
       "      <th>pickup</th>\n",
       "      <th>dropoff</th>\n",
       "      <th>passengers</th>\n",
       "      <th>distance</th>\n",
       "      <th>fare</th>\n",
       "      <th>tip</th>\n",
       "      <th>tolls</th>\n",
       "      <th>total</th>\n",
       "      <th>color</th>\n",
       "      <th>payment</th>\n",
       "      <th>pickup_zone</th>\n",
       "      <th>dropoff_zone</th>\n",
       "      <th>pickup_borough</th>\n",
       "      <th>dropoff_borough</th>\n",
       "    </tr>\n",
       "  </thead>\n",
       "  <tbody>\n",
       "    <tr>\n",
       "      <th>0</th>\n",
       "      <td>2019-03-23 20:21:09</td>\n",
       "      <td>2019-03-23 20:27:24</td>\n",
       "      <td>1</td>\n",
       "      <td>1.60</td>\n",
       "      <td>7.0</td>\n",
       "      <td>2.15</td>\n",
       "      <td>0.0</td>\n",
       "      <td>12.95</td>\n",
       "      <td>yellow</td>\n",
       "      <td>credit card</td>\n",
       "      <td>Lenox Hill West</td>\n",
       "      <td>UN/Turtle Bay South</td>\n",
       "      <td>Manhattan</td>\n",
       "      <td>Manhattan</td>\n",
       "    </tr>\n",
       "    <tr>\n",
       "      <th>1</th>\n",
       "      <td>2019-03-04 16:11:55</td>\n",
       "      <td>2019-03-04 16:19:00</td>\n",
       "      <td>1</td>\n",
       "      <td>0.79</td>\n",
       "      <td>5.0</td>\n",
       "      <td>0.00</td>\n",
       "      <td>0.0</td>\n",
       "      <td>9.30</td>\n",
       "      <td>yellow</td>\n",
       "      <td>cash</td>\n",
       "      <td>Upper West Side South</td>\n",
       "      <td>Upper West Side South</td>\n",
       "      <td>Manhattan</td>\n",
       "      <td>Manhattan</td>\n",
       "    </tr>\n",
       "    <tr>\n",
       "      <th>2</th>\n",
       "      <td>2019-03-27 17:53:01</td>\n",
       "      <td>2019-03-27 18:00:25</td>\n",
       "      <td>1</td>\n",
       "      <td>1.37</td>\n",
       "      <td>7.5</td>\n",
       "      <td>2.36</td>\n",
       "      <td>0.0</td>\n",
       "      <td>14.16</td>\n",
       "      <td>yellow</td>\n",
       "      <td>credit card</td>\n",
       "      <td>Alphabet City</td>\n",
       "      <td>West Village</td>\n",
       "      <td>Manhattan</td>\n",
       "      <td>Manhattan</td>\n",
       "    </tr>\n",
       "    <tr>\n",
       "      <th>3</th>\n",
       "      <td>2019-03-10 01:23:59</td>\n",
       "      <td>2019-03-10 01:49:51</td>\n",
       "      <td>1</td>\n",
       "      <td>7.70</td>\n",
       "      <td>27.0</td>\n",
       "      <td>6.15</td>\n",
       "      <td>0.0</td>\n",
       "      <td>36.95</td>\n",
       "      <td>yellow</td>\n",
       "      <td>credit card</td>\n",
       "      <td>Hudson Sq</td>\n",
       "      <td>Yorkville West</td>\n",
       "      <td>Manhattan</td>\n",
       "      <td>Manhattan</td>\n",
       "    </tr>\n",
       "    <tr>\n",
       "      <th>4</th>\n",
       "      <td>2019-03-30 13:27:42</td>\n",
       "      <td>2019-03-30 13:37:14</td>\n",
       "      <td>3</td>\n",
       "      <td>2.16</td>\n",
       "      <td>9.0</td>\n",
       "      <td>1.10</td>\n",
       "      <td>0.0</td>\n",
       "      <td>13.40</td>\n",
       "      <td>yellow</td>\n",
       "      <td>credit card</td>\n",
       "      <td>Midtown East</td>\n",
       "      <td>Yorkville West</td>\n",
       "      <td>Manhattan</td>\n",
       "      <td>Manhattan</td>\n",
       "    </tr>\n",
       "  </tbody>\n",
       "</table>\n",
       "</div>"
      ],
      "text/plain": [
       "               pickup             dropoff  passengers  distance  fare   tip  \\\n",
       "0 2019-03-23 20:21:09 2019-03-23 20:27:24           1      1.60   7.0  2.15   \n",
       "1 2019-03-04 16:11:55 2019-03-04 16:19:00           1      0.79   5.0  0.00   \n",
       "2 2019-03-27 17:53:01 2019-03-27 18:00:25           1      1.37   7.5  2.36   \n",
       "3 2019-03-10 01:23:59 2019-03-10 01:49:51           1      7.70  27.0  6.15   \n",
       "4 2019-03-30 13:27:42 2019-03-30 13:37:14           3      2.16   9.0  1.10   \n",
       "\n",
       "   tolls  total   color      payment            pickup_zone  \\\n",
       "0    0.0  12.95  yellow  credit card        Lenox Hill West   \n",
       "1    0.0   9.30  yellow         cash  Upper West Side South   \n",
       "2    0.0  14.16  yellow  credit card          Alphabet City   \n",
       "3    0.0  36.95  yellow  credit card              Hudson Sq   \n",
       "4    0.0  13.40  yellow  credit card           Midtown East   \n",
       "\n",
       "            dropoff_zone pickup_borough dropoff_borough  \n",
       "0    UN/Turtle Bay South      Manhattan       Manhattan  \n",
       "1  Upper West Side South      Manhattan       Manhattan  \n",
       "2           West Village      Manhattan       Manhattan  \n",
       "3         Yorkville West      Manhattan       Manhattan  \n",
       "4         Yorkville West      Manhattan       Manhattan  "
      ]
     },
     "execution_count": 10,
     "metadata": {},
     "output_type": "execute_result"
    }
   ],
   "source": [
    "#This raw dataset will be better for many of the comparison graphs we'll do.\n",
    "#For now, do not worry about cleaning this one.\n",
    "df_raw = sns.load_dataset('taxis')\n",
    "df_raw.head()"
   ]
  },
  {
   "cell_type": "code",
   "execution_count": 3,
   "metadata": {},
   "outputs": [],
   "source": [
    "#Importing the cleaned dataset as well, just in case.\n",
    "df_clean = pd.read_csv(file_loc/\"Week5_output.csv\")\n",
    "#df_clean.head()"
   ]
  },
  {
   "cell_type": "code",
   "execution_count": 4,
   "metadata": {},
   "outputs": [],
   "source": [
    "#Let's bring in our stylesheet too.\n",
    "#Here's what I need to define my own personal styles. I can save this as a style to call from the matplotlib folder.\n",
    "#That way, instead of all the stuff that is needed for my_rcParams() being in this file, I would just call plt.style.use(my_rcParams)\n",
    "#in the my_styleXY function.\n",
    "axes = {'spines.right' : False,\n",
    "        'spines.left' : False,\n",
    "        'grid' : True,\n",
    "        'grid.axis' : 'y',\n",
    "        'grid.which' : 'major',\n",
    "        'titlesize' : 16,\n",
    "        'titleweight' : 'bold'}\n",
    "lines = {'markerfacecolor' : 'gray'}\n",
    "grid = {'color' : 'black',\n",
    "        'alpha' : 0.1}\n",
    "figure = {'figsize' : (5,3),\n",
    "          'titlesize' : 25}\n",
    "font = {'font.family':'serif',\n",
    "        'font.style':'italic',\n",
    "        'font.weight':800}\n",
    "xtick = {'labelsize' : 5}\n",
    "ytick = {'labelsize' : 10}\n",
    "\n",
    "def my_rcParams():\n",
    "        plt.style.use('default')\n",
    "        plt.rc('axes', **axes),\n",
    "        plt.rc('grid', **grid),\n",
    "        plt.rc('ytick', **ytick),\n",
    "        plt.rc('figure', **figure),\n",
    "        plt.rc('lines', **lines),\n",
    "\n",
    "#You could, in theory, turn this function into a library package, just like any other that you'd install / import.        \n",
    "def my_styleXY(kind, x, y, nrows, ncols, index, xtext, ytext, suptitle, title, source):\n",
    "        my_rcParams()\n",
    "        ax = plt.subplot(nrows, ncols, index)\n",
    "        if kind == 'bar': sns.barplot(x = x, y = y, color = 'gray', ax = ax)\n",
    "        if kind == 'scatter': sns.scatterplot(x = x, y = y, color = 'gray', ax = ax)\n",
    "        if kind == 'violin': sns.violinplot(x = x, y = y, color = 'gray', ax = ax)\n",
    "        if kind == 'line': sns.lineplot(x = x, y = y, color = 'gray', ax = ax)\n",
    "        if kind == 'strip': sns.stripplot(x = x, y = y, color = 'gray', ax = ax)\n",
    "        if kind == 'swarm': sns.swarmplot(x = x, y = y, color = 'gray', ax = ax)\n",
    "        if kind == 'box': sns.boxplot(x = x, y = y, color = 'gray', ax = ax)\n",
    "        if kind == 'boxen': sns.boxenplot(x = x, y = y, color = 'gray', ax = ax)\n",
    "        if kind == 'point': sns.pointplot(x = x, y = y, color = 'gray', ax = ax)\n",
    "        if kind == 'reg': sns.regplot(x = x, y = y, color = 'gray', ax = ax)\n",
    "        ax.xaxis.set_label_text(xtext)\n",
    "        ax.yaxis.set_label_text(ytext)\n",
    "        fig.suptitle(suptitle, x = .15, fontsize = 16, \n",
    "                     fontstyle = 'italic', font = 'times new roman', \n",
    "                     transform = fig.transFigure, clip_on = False)\n",
    "        ax.set_title(title, loc = 'left', fontsize = 12, fontstyle = 'italic', font = 'arial')\n",
    "        ax.text(.04, -.01, source, transform=fig.transFigure, fontsize = 10, alpha = .7)\n",
    "def my_styleX(kind, x, nrows, ncols, index, xtext, ytext, suptitle, title, source):\n",
    "        my_rcParams()\n",
    "        ax = plt.subplot(nrows, ncols, index)\n",
    "        if kind == 'hist': sns.histplot(x = x, color = 'gray', ax = ax)\n",
    "        if kind == 'kde': sns.kdeplot(x = x, color = 'gray', ax = ax)\n",
    "        if kind == 'ecdf': sns.ecdfplot(x = x, color = 'gray', ax = ax)\n",
    "        if kind == 'rug': sns.rugplot(x = x, color = 'gray', ax = ax)\n",
    "        if kind == 'count': sns.countplot(x = x, color = 'gray', ax = ax)\n",
    "        ax.xaxis.set_label_text(xtext)\n",
    "        ax.yaxis.set_label_text(ytext)\n",
    "        fig.suptitle(suptitle, x = .15, fontsize = 16, \n",
    "                     fontstyle = 'italic', font = 'times new roman', \n",
    "                     transform = fig.transFigure, clip_on = False)\n",
    "        ax.set_title(title, loc = 'left', fontsize = 12, fontstyle = 'italic', font = 'arial')\n",
    "        ax.text(.04, -.01, source, transform=fig.transFigure, fontsize = 10, alpha = .7)\n",
    "\n",
    "        #plus: ridge, small multiples, sparklines, heatmap\n"
   ]
  },
  {
   "cell_type": "code",
   "execution_count": 5,
   "metadata": {},
   "outputs": [],
   "source": [
    "#Let's see what columns we have in the raw file\n",
    "#print(df_raw.info())"
   ]
  },
  {
   "cell_type": "code",
   "execution_count": 6,
   "metadata": {},
   "outputs": [],
   "source": [
    "'''\n",
    "Most basically, we compare different categories by their numeric value in this module. In reality, all of\n",
    "our graphs will be comparing something, but here we're focusing on comparisons across categories.\n",
    "We can see the categories (labeled 'object'): pickup, dropoff, color, payment, pickup_zone, dropoff_zone,\n",
    "pickup_borough and dropoff_borough. Actually, pickup and dropoff are dates, not necessarily categories.\n",
    "Remember we created categories (month, day of week) from the date: we can perform that again on the raw file.\n",
    "Also, remember that pickup_zone and dropoff_zone had a lot of values, while pickup_borough and dropoff_borough had \n",
    "many fewer.\n",
    "'''\n",
    "import datetime as dt\n",
    "from datetime import date\n",
    "#Now, let's break out the date / time column into day month year hour\n",
    "#Day of week: Monday = 0, Tuesday = 1, Wednesday = 2, etc.\n",
    "df_raw['pickup'] = pd.to_datetime(df_raw['pickup'], format = '%Y-%m-%d %H:%M:%S')\n",
    "df_raw['Pday'] = df_raw['pickup'].dt.weekday\n",
    "df_raw['Pmonth'] = df_raw['pickup'].dt.month\n",
    "df_raw['Pyear'] = df_raw['pickup'].dt.year\n",
    "df_raw['Phour'] = df_raw['pickup'].dt.hour\n",
    "df_raw['dropoff'] = pd.to_datetime(df_raw['dropoff'], format = '%Y-%m-%d %H:%M:%S')\n",
    "df_raw['Dday'] = df_raw['dropoff'].dt.weekday\n",
    "df_raw['Dmonth'] = df_raw['dropoff'].dt.month\n",
    "df_raw['Dyear'] = df_raw['dropoff'].dt.year\n",
    "df_raw['Dhour'] = df_raw['dropoff'].dt.hour\n",
    "df_raw.drop(['pickup', 'dropoff'], inplace = True, axis = 1)\n",
    "\n",
    "#df_raw.head()"
   ]
  },
  {
   "cell_type": "code",
   "execution_count": 7,
   "metadata": {},
   "outputs": [
    {
     "data": {
      "text/plain": [
       "Index(['passengers', 'distance', 'fare', 'tip', 'tolls', 'total', 'color',\n",
       "       'payment', 'pickup_zone', 'dropoff_zone', 'pickup_borough',\n",
       "       'dropoff_borough', 'Pday', 'Pmonth', 'Pyear', 'Phour', 'Dday', 'Dmonth',\n",
       "       'Dyear', 'Dhour'],\n",
       "      dtype='object')"
      ]
     },
     "execution_count": 7,
     "metadata": {},
     "output_type": "execute_result"
    }
   ],
   "source": [
    "df_raw.columns"
   ]
  },
  {
   "cell_type": "code",
   "execution_count": 8,
   "metadata": {},
   "outputs": [
    {
     "data": {
      "text/plain": [
       "\"\\nLet's focus on numeric values passengers, distance, fare, tip\\nAnd categorical values payment, pickup_zone, dropoff_zone, pday, phour, dday, dhour\\n\""
      ]
     },
     "execution_count": 8,
     "metadata": {},
     "output_type": "execute_result"
    }
   ],
   "source": [
    "'''\n",
    "Let's focus on numeric values passengers, distance, fare, tip\n",
    "And categorical values payment, pickup_zone, dropoff_zone, pday, phour, dday, dhour\n",
    "'''"
   ]
  },
  {
   "cell_type": "code",
   "execution_count": 9,
   "metadata": {},
   "outputs": [
    {
     "data": {
      "image/png": "[encoded data removed]",
      "text/plain": [
       "<Figure size 800x400 with 1 Axes>"
      ]
     },
     "metadata": {},
     "output_type": "display_data"
    }
   ],
   "source": [
    "fig = plt.figure(figsize=(8,4))\n",
    "\n",
    "# We define my_styleXY as follows: (kind (can be bar, scatter, violin), x, y, nrows (in figure), ncols (in figure), index (of subplot in figure), \n",
    "# xtext (x axis label), ytext (y axis label), suptitle (overall figure title), title (subplot title), source (where you got the data))\n",
    "#Let's start with the chart we showed in the demo on stylesheets\n",
    "\n",
    "my_styleXY('bar', df_raw['pickup_borough'], df_raw['tip'], 1, 1, 1, \"Pickup borough\",\n",
    "               \"Total bill\",\"Different plots of tips\",'Queens has the best tips',\n",
    "               \"Source: This dataset is on taxis from Seaborn\")"
   ]
  }
 ],
 "metadata": {
  "kernelspec": {
   "display_name": "Python 3.9.13 64-bit (microsoft store)",
   "language": "python",
   "name": "python3"
  },
  "language_info": {
   "codemirror_mode": {
    "name": "ipython",
    "version": 3
   },
   "file_extension": ".py",
   "mimetype": "text/x-python",
   "name": "python",
   "nbconvert_exporter": "python",
   "pygments_lexer": "ipython3",
   "version": "3.9.13"
  },
  "orig_nbformat": 4,
  "vscode": {
   "interpreter": {
    "hash": "7edd4e905d9b7ca730f7b0e9c082715bdac78ae21b6c7d0ae05faf51bf553083"
   }
  }
 },
 "nbformat": 4,
 "nbformat_minor": 2
}
