{
 "cells": [
  {
   "cell_type": "code",
   "execution_count": 11,
   "metadata": {},
   "outputs": [
    {
     "name": "stdout",
     "output_type": "stream",
     "text": [
      "True\n"
     ]
    }
   ],
   "source": [
    "#Let's bring in a dataset and look at how we can show comparisons\n",
    "\n",
    "import warnings\n",
    "warnings.filterwarnings('ignore')  \n",
    "import pandas as pd\n",
    "import seaborn as sns\n",
    "from matplotlib import pyplot as plt\n",
    "from pathlib import Path\n",
    "file_loc = Path(r'C:\\Users\\hruss\\OneDrive\\Documents\\GMU\\Repositories\\CDS303-F22\\data')\n",
    "print(file_loc.is_dir())"
   ]
  },
  {
   "cell_type": "code",
   "execution_count": 12,
   "metadata": {},
   "outputs": [],
   "source": [
    "#This raw dataset will be better for many of the comparison graphs we'll do.\n",
    "#For now, do not worry about cleaning this one.\n",
    "df_raw = sns.load_dataset('taxis')\n",
    "#df_raw.head()"
   ]
  },
  {
   "cell_type": "code",
   "execution_count": 13,
   "metadata": {},
   "outputs": [],
   "source": [
    "#Importing the cleaned dataset as well, just in case.\n",
    "df_clean = pd.read_csv(file_loc/\"Week5_output.csv\")\n",
    "#df_clean.head()"
   ]
  },
  {
   "cell_type": "code",
   "execution_count": 14,
   "metadata": {},
   "outputs": [],
   "source": [
    "#Let's bring in our stylesheet too.\n",
    "#Here's what I need to define my own personal styles. I can save this as a style to call from the matplotlib folder.\n",
    "#That way, instead of all the stuff that is needed for my_rcParams() being in this file, I would just call plt.style.use(my_rcParams)\n",
    "#in the my_styleXY function.\n",
    "axes = {'spines.right' : False,\n",
    "        'spines.left' : False,\n",
    "        'grid' : True,\n",
    "        'grid.axis' : 'y',\n",
    "        'grid.which' : 'major',\n",
    "        'titlesize' : 16,\n",
    "        'titleweight' : 'bold'}\n",
    "lines = {'markerfacecolor' : 'gray'}\n",
    "grid = {'color' : 'black',\n",
    "        'alpha' : 0.1}\n",
    "figure = {'figsize' : (5,3),\n",
    "          'titlesize' : 25}\n",
    "font = {'font.family':'serif',\n",
    "        'font.style':'italic',\n",
    "        'font.weight':800}\n",
    "xtick = {'labelsize' : 5}\n",
    "ytick = {'labelsize' : 10}\n",
    "\n",
    "def my_rcParams():\n",
    "        plt.style.use('default')\n",
    "        plt.rc('axes', **axes),\n",
    "        plt.rc('grid', **grid),\n",
    "        plt.rc('ytick', **ytick),\n",
    "        plt.rc('figure', **figure),\n",
    "        plt.rc('lines', **lines),\n",
    "\n",
    "#You could, in theory, turn this function into a library package, just like any other that you'd install / import.        \n",
    "def my_styleXY(kind, x, y, nrows, ncols, index, xtext, ytext, suptitle, title, source):\n",
    "        my_rcParams()\n",
    "        ax = plt.subplot(nrows, ncols, index)\n",
    "        if kind == 'bar': sns.barplot(x = x, y = y, color = 'gray', ax = ax)\n",
    "        if kind == 'scatter': sns.scatterplot(x = x, y = y, color = 'gray', ax = ax)\n",
    "        if kind == 'violin': sns.violinplot(x = x, y = y, color = 'gray', ax = ax)\n",
    "        if kind == 'line': sns.lineplot(x = x, y = y, color = 'gray', ax = ax)\n",
    "        if kind == 'strip': sns.stripplot(x = x, y = y, color = 'gray', ax = ax)\n",
    "        if kind == 'swarm': sns.swarmplot(x = x, y = y, color = 'gray', ax = ax)\n",
    "        if kind == 'box': sns.boxplot(x = x, y = y, color = 'gray', ax = ax)\n",
    "        if kind == 'boxen': sns.boxenplot(x = x, y = y, color = 'gray', ax = ax)\n",
    "        if kind == 'point': sns.pointplot(x = x, y = y, color = 'gray', ax = ax)\n",
    "        if kind == 'reg': sns.regplot(x = x, y = y, color = 'gray', ax = ax)\n",
    "        ax.xaxis.set_label_text(xtext)\n",
    "        ax.yaxis.set_label_text(ytext)\n",
    "        fig.suptitle(suptitle, x = .15, fontsize = 16, \n",
    "                     fontstyle = 'italic', font = 'times new roman', \n",
    "                     transform = fig.transFigure, clip_on = False)\n",
    "        ax.set_title(title, loc = 'left', fontsize = 12, fontstyle = 'italic', font = 'arial')\n",
    "        ax.text(.04, -.01, source, transform=fig.transFigure, fontsize = 10, alpha = .7)\n",
    "def my_styleX(kind, x, nrows, ncols, index, xtext, ytext, suptitle, title, source):\n",
    "        my_rcParams()\n",
    "        ax = plt.subplot(nrows, ncols, index)\n",
    "        if kind == 'hist': sns.histplot(x = x, color = 'gray', ax = ax)\n",
    "        if kind == 'kde': sns.kdeplot(x = x, color = 'gray', ax = ax)\n",
    "        if kind == 'ecdf': sns.ecdfplot(x = x, color = 'gray', ax = ax)\n",
    "        if kind == 'rug': sns.rugplot(x = x, color = 'gray', ax = ax)\n",
    "        if kind == 'count': sns.countplot(x = x, color = 'gray', ax = ax)\n",
    "        ax.xaxis.set_label_text(xtext)\n",
    "        ax.yaxis.set_label_text(ytext)\n",
    "        fig.suptitle(suptitle, x = .15, fontsize = 16, \n",
    "                     fontstyle = 'italic', font = 'times new roman', \n",
    "                     transform = fig.transFigure, clip_on = False)\n",
    "        ax.set_title(title, loc = 'left', fontsize = 12, fontstyle = 'italic', font = 'arial')\n",
    "        ax.text(.04, -.01, source, transform=fig.transFigure, fontsize = 10, alpha = .7)\n",
    "\n",
    "        #plus: ridge, small multiples, sparklines, heatmap\n"
   ]
  },
  {
   "cell_type": "code",
   "execution_count": 17,
   "metadata": {},
   "outputs": [],
   "source": [
    "#Let's see what columns we have in the raw file\n",
    "#print(df_raw.info())"
   ]
  },
  {
   "cell_type": "code",
   "execution_count": 16,
   "metadata": {},
   "outputs": [],
   "source": [
    "'''\n",
    "Most basically, we compare different categories by their numeric value in this module. In reality, all of\n",
    "our graphs will be comparing something, but here we're focusing on comparisons across categories.\n",
    "We can see the categories (labeled 'object'): pickup, dropoff, color, payment, pickup_zone, dropoff_zone,\n",
    "pickup_borough and dropoff_borough. Actually, pickup and dropoff are dates, not necessarily categories.\n",
    "Remember we created categories (month, day of week) from the date: we can perform that again on the raw file.\n",
    "Also, remember that pickup_zone and dropoff_zone had a lot of values, while pickup_borough and dropoff_borough had \n",
    "many fewer.\n",
    "'''\n",
    "import datetime as dt\n",
    "from datetime import date\n",
    "#Now, let's break out the date / time column into day month year hour\n",
    "#Day of week: Monday = 0, Tuesday = 1, Wednesday = 2, etc.\n",
    "df_raw['pickup'] = pd.to_datetime(df_raw['pickup'], format = '%Y-%m-%d %H:%M:%S')\n",
    "df_raw['Pday'] = df_raw['pickup'].dt.weekday\n",
    "df_raw['Pmonth'] = df_raw['pickup'].dt.month\n",
    "df_raw['Pyear'] = df_raw['pickup'].dt.year\n",
    "df_raw['Phour'] = df_raw['pickup'].dt.hour\n",
    "df_raw['dropoff'] = pd.to_datetime(df_raw['dropoff'], format = '%Y-%m-%d %H:%M:%S')\n",
    "df_raw['Dday'] = df_raw['dropoff'].dt.weekday\n",
    "df_raw['Dmonth'] = df_raw['dropoff'].dt.month\n",
    "df_raw['Dyear'] = df_raw['dropoff'].dt.year\n",
    "df_raw['Dhour'] = df_raw['dropoff'].dt.hour\n",
    "df_raw.drop(['pickup', 'dropoff'], inplace = True, axis = 1)\n",
    "\n",
    "#df_raw.head()"
   ]
  },
  {
   "cell_type": "code",
   "execution_count": 18,
   "metadata": {},
   "outputs": [
    {
     "data": {
      "text/plain": [
       "Index(['passengers', 'distance', 'fare', 'tip', 'tolls', 'total', 'color',\n",
       "       'payment', 'pickup_zone', 'dropoff_zone', 'pickup_borough',\n",
       "       'dropoff_borough', 'Pday', 'Pmonth', 'Pyear', 'Phour', 'Dday', 'Dmonth',\n",
       "       'Dyear', 'Dhour'],\n",
       "      dtype='object')"
      ]
     },
     "execution_count": 18,
     "metadata": {},
     "output_type": "execute_result"
    }
   ],
   "source": [
    "df_raw.columns"
   ]
  },
  {
   "cell_type": "code",
   "execution_count": null,
   "metadata": {},
   "outputs": [],
   "source": [
    "'''\n",
    "Let's focus on numeric values passengers, distance, fare, tip\n",
    "And categorical values payment, pickup_zone, dropoff_zone, pday, phour, dday, dhour\n",
    "'''"
   ]
  },
  {
   "cell_type": "code",
   "execution_count": 19,
   "metadata": {},
   "outputs": [
    {
     "data": {
      "image/png": "[encoded data removed]",
      "text/plain": [
       "<Figure size 800x400 with 1 Axes>"
      ]
     },
     "metadata": {},
     "output_type": "display_data"
    }
   ],
   "source": [
    "fig = plt.figure(figsize=(8,4))\n",
    "\n",
    "# We define my_styleXY as follows: (kind (can be bar, scatter, violin), x, y, nrows (in figure), ncols (in figure), index (of subplot in figure), \n",
    "# xtext (x axis label), ytext (y axis label), suptitle (overall figure title), title (subplot title), source (where you got the data))\n",
    "#Let's start with the chart we showed in the demo on stylesheets\n",
    "\n",
    "my_styleXY('bar', df_raw['pickup_borough'], df_raw['tip'], 1, 1, 1, \"Pickup borough\",\n",
    "               \"Total bill\",\"Different plots of tips\",'Queens has the best tips',\n",
    "               \"Source: This dataset is on taxis from Seaborn\")"
   ]
  }
 ],
 "metadata": {
  "interpreter": {
   "hash": "51499c2659ed4cb43a548fa4b2b62df0ca021ab0a5abe3bb135c5bc213dbd661"
  },
  "kernelspec": {
   "display_name": "Python 3.10.4 64-bit",
   "language": "python",
   "name": "python3"
  },
  "language_info": {
   "codemirror_mode": {
    "name": "ipython",
    "version": 3
   },
   "file_extension": ".py",
   "mimetype": "text/x-python",
   "name": "python",
   "nbconvert_exporter": "python",
   "pygments_lexer": "ipython3",
   "version": "3.10.4"
  },
  "orig_nbformat": 4
 },
 "nbformat": 4,
 "nbformat_minor": 2
}
