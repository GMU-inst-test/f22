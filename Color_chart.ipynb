{
 "cells": [
  {
   "cell_type": "code",
   "execution_count": null,
   "metadata": {},
   "outputs": [],
   "source": [
    "import sys\n",
    "from termcolor import colored, cprint\n",
    "\n",
    "text = colored('Hello, World!', 'red', attrs=['reverse', 'blink'])\n",
    "#print(text)\n",
    "cprint('Hello, World!', 'green', 'on_red')\n",
    "\n",
    "print_red_on_cyan = lambda x: cprint(x, 'red', 'on_cyan')\n",
    "print_red_on_cyan('Hello, World!')\n",
    "print_red_on_cyan('Hello, Universe!')\n",
    "\n",
    "for i in range(10):\n",
    "    cprint(i, 'magenta', end=' ')\n",
    "\n",
    "cprint(\"Attention!\", 'red', attrs=['bold'], file=sys.stderr)\n"
   ]
  },
  {
   "cell_type": "code",
   "execution_count": 99,
   "metadata": {},
   "outputs": [
    {
     "name": "stdout",
     "output_type": "stream",
     "text": [
      "String1 \u001b[42m\u001b[32m \u001b[0m\u001b[44m\u001b[34m \u001b[0m\u001b[42m\u001b[32m \u001b[0m\u001b[42m\u001b[32m \u001b[0m\u001b[44m\u001b[34m \u001b[0m\u001b[42m\u001b[32m \u001b[0m\u001b[44m\u001b[34m \u001b[0m\u001b[44m\u001b[34m \u001b[0m\u001b[44m\u001b[34m \u001b[0m\u001b[44m\u001b[34m \u001b[0m\u001b[44m\u001b[34m \u001b[0m\u001b[44m\u001b[34m \u001b[0m\u001b[44m\u001b[34m \u001b[0m\u001b[42m\u001b[32m \u001b[0m\u001b[44m\u001b[34m \u001b[0m\u001b[44m\u001b[34m \u001b[0m\u001b[42m\u001b[32m \u001b[0m\u001b[44m\u001b[34m \u001b[0m\u001b[42m\u001b[32m \u001b[0m\n",
      "String2 \u001b[42m\u001b[32m \u001b[0m\u001b[42m\u001b[32m \u001b[0m\u001b[42m\u001b[32m \u001b[0m\u001b[42m\u001b[32m \u001b[0m\u001b[42m\u001b[32m \u001b[0m\u001b[44m\u001b[34m \u001b[0m\u001b[42m\u001b[32m \u001b[0m\u001b[42m\u001b[32m \u001b[0m\u001b[42m\u001b[32m \u001b[0m\u001b[42m\u001b[32m \u001b[0m\u001b[42m\u001b[32m \u001b[0m\u001b[42m\u001b[32m \u001b[0m\u001b[42m\u001b[32m \u001b[0m\u001b[42m\u001b[32m \u001b[0m\u001b[42m\u001b[32m \u001b[0m\u001b[42m\u001b[32m \u001b[0m\u001b[42m\u001b[32m \u001b[0m\u001b[44m\u001b[34m \u001b[0m\u001b[42m\u001b[32m \u001b[0m\u001b[42m\u001b[32m \u001b[0m\u001b[42m\u001b[32m \u001b[0m\u001b[42m\u001b[32m \u001b[0m\u001b[44m\u001b[34m \u001b[0m\u001b[42m\u001b[32m \u001b[0m\u001b[42m\u001b[32m \u001b[0m\u001b[42m\u001b[32m \u001b[0m\u001b[42m\u001b[32m \u001b[0m\u001b[42m\u001b[32m \u001b[0m\u001b[42m\u001b[32m \u001b[0m\u001b[44m\u001b[34m \u001b[0m\u001b[42m\u001b[32m \u001b[0m\u001b[42m\u001b[32m \u001b[0m\u001b[44m\u001b[34m \u001b[0m\u001b[42m\u001b[32m \u001b[0m\u001b[42m\u001b[32m \u001b[0m\u001b[42m\u001b[32m \u001b[0m\u001b[44m\u001b[34m \u001b[0m\u001b[42m\u001b[32m \u001b[0m\u001b[42m\u001b[32m \u001b[0m\n"
     ]
    }
   ],
   "source": [
    "from termcolor import colored, cprint\n",
    "string1 = \"KDKKDKDDDDDDDKDDKDK\"\n",
    "string1 = string1.replace('K', colored(' ', 'green', 'on_green'))\n",
    "string1 = string1.replace('D', colored(' ', 'blue', 'on_blue'))\n",
    "string2 = \"KKKKKDKKKKKKKKKKKDKKKKDKKKKKKDKKDKKKDKK\"\n",
    "string2 = string2.replace('K', colored(' ', 'green', 'on_green'))\n",
    "string2 = string2.replace('D', colored(' ', 'blue', 'on_blue'))\n",
    "print(\"String1\", string1)\n",
    "print(\"String2\", string2)\n"
   ]
  },
  {
   "cell_type": "code",
   "execution_count": null,
   "metadata": {},
   "outputs": [],
   "source": [
    "\n",
    "fig, axes = plt.subplots(2, 1) \n",
    "fig.figsize = (6, 3) \n",
    "fig.dpi = 150 \n",
    "axes = axes.ravel() \n",
    "# Specify labels \n",
    "labels = ['Brian Chase', 'Solar Eclipse'] \n",
    "# Plot images \n",
    "axes[0].plot(string1) \n",
    "axes[0].set_xticks([]) \n",
    "axes[0].set_yticks([]) \n",
    "axes[0].set_xlabel(labels[0], color='white')\n",
    "axes[1].plot(string2) \n",
    "axes[1].set_xticks([]) \n",
    "axes[1].set_yticks([]) \n",
    "axes[1].set_xlabel(labels[1], color='white')\n",
    "\n",
    "#print('Brian Chase', string)\n",
    "#print('Solar Eclipse', string2)"
   ]
  },
  {
   "cell_type": "code",
   "execution_count": null,
   "metadata": {},
   "outputs": [],
   "source": [
    "import matplotlib.pyplot as plt\n",
    "from matplotlib import colors as mcolors\n",
    "\n",
    "\n",
    "colors = dict(mcolors.BASE_COLORS, **mcolors.CSS4_COLORS)\n",
    "\n",
    "# Sort colors by hue, saturation, value and name.\n",
    "by_hsv = sorted((tuple(mcolors.rgb_to_hsv(mcolors.to_rgba(color)[:3])), name)\n",
    "                for name, color in colors.items())\n",
    "sorted_names = [name for hsv, name in by_hsv]\n",
    "\n",
    "n = len(sorted_names)\n",
    "ncols = 4\n",
    "nrows = n // ncols\n",
    "\n",
    "fig, ax = plt.subplots(figsize=(12, 10))\n",
    "\n",
    "# Get height and width\n",
    "X, Y = fig.get_dpi() * fig.get_size_inches()\n",
    "h = Y / (nrows + 1)\n",
    "w = X / ncols\n",
    "\n",
    "for i, name in enumerate(sorted_names):\n",
    "    row = i % nrows\n",
    "    col = i // nrows\n",
    "    y = Y - (row * h) - h\n",
    "\n",
    "    xi_line = w * (col + 0.05)\n",
    "    xf_line = w * (col + 0.25)\n",
    "    xi_text = w * (col + 0.3)\n",
    "\n",
    "    ax.text(xi_text, y, name, fontsize=(h * 0.8),\n",
    "            horizontalalignment='left',\n",
    "            verticalalignment='center')\n",
    "\n",
    "    ax.hlines(y + h * 0.1, xi_line, xf_line,\n",
    "              color=colors[name], linewidth=(h * 0.8))\n",
    "\n",
    "ax.set_xlim(0, X)\n",
    "ax.set_ylim(0, Y)\n",
    "ax.set_axis_off()\n",
    "\n",
    "fig.subplots_adjust(left=0, right=1,\n",
    "                    top=1, bottom=0,\n",
    "                    hspace=0, wspace=0)\n",
    "plt.show()"
   ]
  }
 ],
 "metadata": {
  "interpreter": {
   "hash": "fa8389db6f61e5dc26802b98450781d4885c26e11e644f4edc4fdb3b4e26e41f"
  },
  "kernelspec": {
   "display_name": "Python 3.10.1 64-bit",
   "language": "python",
   "name": "python3"
  },
  "language_info": {
   "codemirror_mode": {
    "name": "ipython",
    "version": 3
   },
   "file_extension": ".py",
   "mimetype": "text/x-python",
   "name": "python",
   "nbconvert_exporter": "python",
   "pygments_lexer": "ipython3",
   "version": "3.10.1"
  },
  "orig_nbformat": 4
 },
 "nbformat": 4,
 "nbformat_minor": 2
}
