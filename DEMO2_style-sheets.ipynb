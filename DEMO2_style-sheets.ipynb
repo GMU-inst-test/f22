{
 "cells": [
  {
   "cell_type": "code",
   "execution_count": null,
   "metadata": {},
   "outputs": [],
   "source": [
    "#Let's bring in a dataset and try different styles and different libraries\n",
    "import seaborn as sns\n",
    "import warnings                         #We do this to keep from seeing lots of info junk printing out\n",
    "warnings.filterwarnings('ignore')\n",
    "import plotly\n",
    "df = sns.load_dataset('taxis');\n",
    "print(df.head())"
   ]
  },
  {
   "cell_type": "markdown",
   "metadata": {},
   "source": [
    "Week 2: set up style sheet to demonstrate fundamental principles"
   ]
  },
  {
   "cell_type": "code",
   "execution_count": null,
   "metadata": {},
   "outputs": [],
   "source": [
    "from matplotlib import pyplot as plt"
   ]
  },
  {
   "cell_type": "markdown",
   "metadata": {},
   "source": [
    "We will mostly use the Seaborn library for visualization in Python. Seaborn is built on Matplotlib, so a lot of your code may use a combo of Seaborn (sns) and Matplotlib Pyplot (plt) functions. Matplotlib has a built-in style library (plt.style.use()), as does Seaborn (sns.set_style()).   \n",
    "\n",
    "Here, we'll start out manually defining a style. Once we have one we like, we can drop the code into a mplstyle file and save it where the other style files are, so we can call it in the same way. "
   ]
  },
  {
   "cell_type": "code",
   "execution_count": null,
   "metadata": {},
   "outputs": [],
   "source": [
    "sns.axes_style()"
   ]
  },
  {
   "cell_type": "code",
   "execution_count": null,
   "metadata": {},
   "outputs": [],
   "source": [
    "#To see visual examples of matplotlib styles, go to https://matplotlib.org/stable/gallery/style_sheets/style_sheets_reference.html\n",
    "#To see what style adustments can be made with Matplotlib, do:\n",
    "plt.style.available"
   ]
  },
  {
   "cell_type": "code",
   "execution_count": null,
   "metadata": {},
   "outputs": [],
   "source": [
    "#Now, let's try some of those to see how the aesthetics change. First, let's look at the default plot.\n",
    "fig, ax = plt.subplots(nrows = 1, ncols = 2, figsize=(20,5))\n",
    "sns.barplot(df['pickup_borough'],df['total'], ax = ax[0])\n",
    "sns.histplot(df['total'], ax = ax[1])"
   ]
  },
  {
   "cell_type": "code",
   "execution_count": null,
   "metadata": {},
   "outputs": [],
   "source": [
    "#Here's what I need to define my own personal styles. I can save this as a style to call from the matplotlib folder.\n",
    "#That way, instead of all the stuff that is needed for my_rcParams() being in this file, I would just call plt.style.use(my_rcParams)\n",
    "#in the my_styleXY function.\n",
    "axes = {'spines.right' : False,\n",
    "        'spines.left' : False,\n",
    "        'grid' : True,\n",
    "        'grid.axis' : 'y',\n",
    "        'grid.which' : 'major',\n",
    "        'titlesize' : 16,\n",
    "        'titleweight' : 'bold'}\n",
    "lines = {'markerfacecolor' : 'gray'}\n",
    "grid = {'color' : 'black',\n",
    "        'alpha' : 0.1}\n",
    "figure = {'figsize' : (10,5),\n",
    "          'titlesize' : 25}\n",
    "font = {'font.family':'serif',\n",
    "        'font.style':'italic',\n",
    "        'font.weight':800}\n",
    "xtick = {'labelsize' : 5}\n",
    "ytick = {'labelsize' : 10}\n",
    "\n",
    "def my_rcParams():\n",
    "        plt.style.use('default')\n",
    "        plt.rc('axes', **axes),\n",
    "        plt.rc('grid', **grid),\n",
    "        plt.rc('ytick', **ytick),\n",
    "        plt.rc('figure', **figure),\n",
    "        plt.rc('lines', **lines),\n",
    "\n",
    "#You could, in theory, turn this function into a library package, just like any other that you'd install / import.        \n",
    "def my_styleXY(kind, x, y, nrows, ncols, index, xtext, ytext, suptitle, title, source, highlight):\n",
    "        my_rcParams()\n",
    "        ax = plt.subplot(nrows, ncols, index)\n",
    "        if kind == 'bar': sns.barplot(x = x, y = y, color = 'gray', ax = ax)\n",
    "        if kind == 'scatter': sns.scatterplot(x = x, y = y, color = 'gray', ax = ax)\n",
    "        if kind == 'violin': sns.violinplot(x = x, y = y, color = 'gray', ax = ax)\n",
    "        ax.xaxis.set_label_text(xtext)\n",
    "        ax.yaxis.set_label_text(ytext)\n",
    "        heights = [p.get_height() for p in ax.patches]\n",
    "        highest = sorted(heights)[len(heights)-1]\n",
    "        for p in ax.patches:\n",
    "                if p.get_height() == highest:\n",
    "                        if highlight == \"TRUE\":\n",
    "                                p.set_color('darkred')\n",
    "        print(heights)\n",
    "        fig.suptitle(suptitle, x = .15, fontsize = 16, \n",
    "                     fontstyle = 'italic', font = 'times new roman', \n",
    "                     transform = fig.transFigure, clip_on = False)\n",
    "        ax.set_title(title, loc = 'left', fontsize = 12, fontstyle = 'italic', font = 'arial')\n",
    "        ax.text(.04, -.01, source, transform=fig.transFigure, fontsize = 10, alpha = .7)\n"
   ]
  },
  {
   "cell_type": "code",
   "execution_count": null,
   "metadata": {},
   "outputs": [],
   "source": [
    "#Once my style is developed, this is all I need to do to create consistently styled graphs\n",
    "\n",
    "fig = plt.figure()\n",
    "\n",
    "# We define my_styleXY as follows: (kind (can be bar, scatter, violin), x, y, nrows (in figure), ncols (in figure), index (of subplot in figure), \n",
    "# xtext (x axis label), ytext (y axis label), suptitle (overall figure title), title (subplot title), source (where you got the data))\n",
    "\n",
    "my_styleXY('bar', df['pickup_borough'], df['total'], 1, 1, 1, \"Pickup borough\",\n",
    "               \"Total bill\",\"Different plots of tips\",'Queens has the best tips',\n",
    "               \"Source: This dataset is on taxis from Seaborn\", 'FALSE')"
   ]
  },
  {
   "cell_type": "markdown",
   "metadata": {},
   "source": [
    "The graph above uses several principles we discussed as fundamental:\n",
    "\n",
    "- start with gray\n",
    "- readable axes labels\n",
    "- main takeaway title / subtitle\n",
    "- source is cited\n",
    "- no lie factor\n",
    "- minimal chart junk\n",
    "- aligned objects (if we had stacked bars instead, we would have misaligned 'y' values)\n",
    "\n",
    "Still, we could do better with this graph. It's a bit boring. For instance, how would you draw attention to the most notable element? How would you lead the viewer through the graph? How would you tell the story? What question does this answer?"
   ]
  },
  {
   "cell_type": "code",
   "execution_count": null,
   "metadata": {},
   "outputs": [],
   "source": [
    "fig = plt.figure()\n",
    "# We define my_styleXY as follows: (kind (can be bar, scatter, violin), x, y, nrows (in figure), ncols (in figure), index (of subplot in figure), \n",
    "# xtext (x axis label), ytext (y axis label), suptitle (overall figure title), title (subplot title), source (where you got the data))\n",
    "my_styleXY('bar', df['pickup_borough'], df['total'], 1, 1, 1, \"Pickup borough\",\n",
    "               \"Total bill\",\"Different plots of tips\",'Queens has the best tips',\n",
    "               \"Source: This dataset is on taxis from Seaborn\", \"TRUE\")\n",
    "plt.show()\n",
    "\n"
   ]
  },
  {
   "cell_type": "code",
   "execution_count": null,
   "metadata": {},
   "outputs": [],
   "source": [
    "\n",
    "highest = sorted(heights)[len(heights)-1]\n",
    "for p in ax.patches:\n",
    "    if  p.get_height() == highest:\n",
    "        p.set_color('darkred')\n",
    "plt.title(\"tips\")\n",
    "plt.show()"
   ]
  },
  {
   "cell_type": "code",
   "execution_count": null,
   "metadata": {},
   "outputs": [],
   "source": [
    "#Options are below for plots using Seaborn. Examples in following blocks.\n",
    "\n",
    "'''\n",
    "(data, kind, x, y, style, col, size, ci, row, hue, palette, order, orient, height, aspect, markers, linestyles, split, inner, col_wrap)\n",
    "viz = sns.relplot(                      #What category of plot (catplot, relplot, displot)\n",
    "    data=data,                          #What is your dataset?\n",
    "    data=data.query(use \" \" and/or),    #Want to slice out any part of it for this viz?     \n",
    "    kind = \"line\",                      #Plot type [relplot (line, scatter), catplot (strip, box, violin, boxen, point, bar, count, swarm)\n",
    "                                        displot (hist, kde, ecdf), lmplot, regplot, residplot, heatmap, clustermap]\n",
    "    x = \"flipper_length_mm\",            #What is your X\n",
    "    y = \"bill_length_mm\",               #What is your Y   \n",
    "    style = ,                           #Similar to hue, set marker style based on category\n",
    "    col = \"species\",                    #Want to break out into small multiples vertically?    \n",
    "    size = ,                            #Automatically normalized into ranges, size of marker or line by value\n",
    "    ci = \"sd\",                          #Confidence interval for line plots [\"none\", \"sd\"]    \n",
    "    row = ,                             #Use row with or instead of col    \n",
    "    hue = \"sex\",                        #Want to color by a 3rd feature? Lineplot shows multiple lines. Or,    \n",
    "    palette = {\" \" : \" \", \" \" : \" \"}    #Want to specify colors for each category?\n",
    "    order = [\" \", \" \"],                 #Order your categories explicitly, or data = data.sort_values(\"feature\")\n",
    "    orient = \"h\",                       #Want to swap x and y?     \n",
    "    height = , aspect = ,               #Want to set the height and width?    \n",
    "    markers = [\"^\", \"o\"],               #Want some cool markers?\n",
    "    linestyles = [\"--\"]                 #Want some cool linestyles? Line plot shows multiple lines.\n",
    "    split = True,                       #Use to split violin plot into two hues\n",
    "    inner = \"stick\"                     #Use to add value markers inside violin plot\n",
    "    col_wrap = 5                        #Wraps values in small multiples of 5 columns, across many values    \n",
    "    )\n",
    "\n",
    "viz.set_axis_labels(\"Flipper length\", \"Bill length\")\n",
    "viz.set(xscale = \"log\")                 #Use to convert x to log scale\n",
    "viz.figure.autofmt_xdate()              #Use when plotting time series, to format date\n",
    "viz2 = sns.type(args, ax = viz.ax)      #Use to add a second type of plot to the same axis\n",
    "'''"
   ]
  }
 ],
 "metadata": {
  "interpreter": {
   "hash": "51499c2659ed4cb43a548fa4b2b62df0ca021ab0a5abe3bb135c5bc213dbd661"
  },
  "kernelspec": {
   "display_name": "Python 3.10.4 64-bit",
   "language": "python",
   "name": "python3"
  },
  "language_info": {
   "codemirror_mode": {
    "name": "ipython",
    "version": 3
   },
   "file_extension": ".py",
   "mimetype": "text/x-python",
   "name": "python",
   "nbconvert_exporter": "python",
   "pygments_lexer": "ipython3",
   "version": "3.10.4"
  },
  "orig_nbformat": 4
 },
 "nbformat": 4,
 "nbformat_minor": 2
}
