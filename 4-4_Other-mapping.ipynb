{
 "cells": [
  {
   "cell_type": "code",
   "execution_count": null,
   "metadata": {},
   "outputs": [],
   "source": [
    "#Here, we're using plotly express, with a dataset built into it.\n",
    "%matplotlib inline\n",
    "import plotly.express as px\n",
    "import pandas as pd\n",
    "import plotly.graph_objs as pg\n",
    "import matplotlib.pyplot as plt\n",
    "#import chart_studio.plotly as py\n",
    "#To generate graphs offline and view in notebook\n",
    "import plotly.offline as po\n",
    "po.init_notebook_mode(connected = True)"
   ]
  },
  {
   "cell_type": "code",
   "execution_count": null,
   "metadata": {},
   "outputs": [],
   "source": [
    "#List of Mapbox examples: https://docs.mapbox.com/mapbox-gl-js/example/"
   ]
  },
  {
   "cell_type": "code",
   "execution_count": null,
   "metadata": {},
   "outputs": [],
   "source": [
    "#Import world GDP dataset\n",
    "G_GDP = pd.read_csv('GlobalGDP.csv')\n",
    "G_GDP.head()"
   ]
  },
  {
   "cell_type": "code",
   "execution_count": null,
   "metadata": {},
   "outputs": [],
   "source": [
    "#First, determine what data you need, and how you would like to project it on the map\n",
    "#Type = scattergeo, linegeo or choropleth\n",
    "#Example for using color scale for values, note that I reversed the scale so that darker = larger values\n",
    "data = dict(type='choropleth', locations = G_GDP['CODE'], z = G_GDP['GDP (BILLIONS)'], text = G_GDP['COUNTRY'], reversescale = True, autocolorscale = True, colorbar_title = \"GDP\")\n",
    "\n",
    "#Next, we want to determine the projection type. Remember our list includes #Projections =  'equirectangular', 'mercator', 'orthographic', 'natural earth', 'kavrayskiy7', \n",
    "# 'miller', 'robinson', 'eckert4', 'azimuthal equal area', 'azimuthal equidistant', 'conic equal area', 'conic conformal', 'conic equidistant', 'gnomonic', 'stereographic', 'mollweide', 'hammer', 'transverse mercator', \n",
    "# 'albers usa', 'winkel tripel', 'aitoff' and 'sinusoidal'.\n",
    "proj_type = 'robinson'\n",
    "\n",
    "#Here, we put our specifications for data and projection together\n",
    "#Scope = 'world', 'usa', 'europe', 'asia', 'africa', 'north america', 'south america'.\n",
    "# landcolor=\"LightGreen\", showocean=True, oceancolor=\"LightBlue\", showlakes=True, lakecolor=\"Blue\", \n",
    "# showrivers=True, rivercolor=\"Blue\", showcountries=True, countrycolor=\"RebeccaPurple\"\n",
    "layout = dict(title = proj_type, geo = dict( projection = {'type': proj_type}, scope = 'world', showlakes = True, \n",
    "    lakecolor = 'rgb(0,191,255)', lataxis_showgrid=True, lonaxis_showgrid=True,\n",
    "    resolution=50, showcoastlines=True, coastlinecolor=\"RebeccaPurple\", showland=True))\n",
    "\n",
    "#Finally, we plot our figure\n",
    "x = pg.Figure(data = [data], layout = layout)\n",
    "po.iplot(x)\n"
   ]
  },
  {
   "cell_type": "code",
   "execution_count": null,
   "metadata": {},
   "outputs": [],
   "source": [
    "\n",
    "\n",
    "\n",
    "\n",
    "#Example for using scaled symbols instead of colors\n",
    "#Note, I used 'hourglass-open'. You have a huge list of marker types listed here: https://plotly.com/python/marker-style/\n",
    "scale = G_GDP['GDP (BILLIONS)'] / 20\n",
    "data = dict(type='scattergeo', locations = G_GDP['CODE'], marker_size = G_GDP['GDP (BILLIONS)']/scale, marker_symbol = 'hourglass', text = G_GDP['COUNTRY'])\n",
    "\n",
    "#Next, we want to determine the projection type. Remember our list includes #Projections =  'equirectangular', 'mercator', 'orthographic', 'natural earth', 'kavrayskiy7', \n",
    "# 'miller', 'robinson', 'eckert4', 'azimuthal equal area', 'azimuthal equidistant', 'conic equal area', 'conic conformal', 'conic equidistant', 'gnomonic', 'stereographic', 'mollweide', 'hammer', 'transverse mercator', \n",
    "# 'albers usa', 'winkel tripel', 'aitoff' and 'sinusoidal'.\n",
    "proj_type = 'robinson'\n",
    "\n",
    "#Here, we put our specifications for data and projection together\n",
    "#Scope = 'world', 'usa', 'europe', 'asia', 'africa', 'north america', 'south america'.\n",
    "# landcolor=\"LightGreen\", showocean=True, oceancolor=\"LightBlue\", showlakes=True, lakecolor=\"Blue\", \n",
    "# showrivers=True, rivercolor=\"Blue\", showcountries=True, countrycolor=\"RebeccaPurple\"\n",
    "layout = dict(title = proj_type, geo = dict( projection = {'type': proj_type}, scope = 'world', showlakes = True, \n",
    "    lakecolor = 'rgb(0,191,255)', lataxis_showgrid=True, lonaxis_showgrid=True,\n",
    "    resolution=50, showcoastlines=True, coastlinecolor=\"RebeccaPurple\", showland=True))\n",
    "\n",
    "#Finally, we plot our figure\n",
    "x = pg.Figure(data = [data], layout = layout)\n",
    "po.iplot(x)"
   ]
  },
  {
   "cell_type": "code",
   "execution_count": null,
   "metadata": {},
   "outputs": [],
   "source": [
    "import dash\n",
    "from dash import dcc\n",
    "from dash import html\n",
    "\n",
    "app = dash.Dash()\n",
    "app.layout = html.Div([dcc.Graph(figure=x)])\n",
    "\n",
    "app.run_server(debug=True, use_reloader=False)  # Turn off reloader if inside Jupyter"
   ]
  }
 ],
 "metadata": {
  "interpreter": {
   "hash": "fa8389db6f61e5dc26802b98450781d4885c26e11e644f4edc4fdb3b4e26e41f"
  },
  "kernelspec": {
   "display_name": "Python 3.10.1 64-bit",
   "language": "python",
   "name": "python3"
  },
  "language_info": {
   "codemirror_mode": {
    "name": "ipython",
    "version": 3
   },
   "file_extension": ".py",
   "mimetype": "text/x-python",
   "name": "python",
   "nbconvert_exporter": "python",
   "pygments_lexer": "ipython3",
   "version": "3.8.5"
  },
  "orig_nbformat": 4
 },
 "nbformat": 4,
 "nbformat_minor": 2
}
