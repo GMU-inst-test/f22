{
 "cells": [
  {
   "cell_type": "code",
   "execution_count": 2,
   "metadata": {},
   "outputs": [],
   "source": [
    "import pandas as pd\n"
   ]
  },
  {
   "cell_type": "code",
   "execution_count": 3,
   "metadata": {},
   "outputs": [
    {
     "data": {
      "text/plain": [
       "['Solarize_Light2',\n",
       " '_classic_test_patch',\n",
       " '_mpl-gallery',\n",
       " '_mpl-gallery-nogrid',\n",
       " 'bmh',\n",
       " 'classic',\n",
       " 'dark_background',\n",
       " 'fast',\n",
       " 'fivethirtyeight',\n",
       " 'ggplot',\n",
       " 'grayscale',\n",
       " 'seaborn',\n",
       " 'seaborn-bright',\n",
       " 'seaborn-colorblind',\n",
       " 'seaborn-dark',\n",
       " 'seaborn-dark-palette',\n",
       " 'seaborn-darkgrid',\n",
       " 'seaborn-deep',\n",
       " 'seaborn-muted',\n",
       " 'seaborn-notebook',\n",
       " 'seaborn-paper',\n",
       " 'seaborn-pastel',\n",
       " 'seaborn-poster',\n",
       " 'seaborn-talk',\n",
       " 'seaborn-ticks',\n",
       " 'seaborn-white',\n",
       " 'seaborn-whitegrid',\n",
       " 'tableau-colorblind10']"
      ]
     },
     "execution_count": 3,
     "metadata": {},
     "output_type": "execute_result"
    }
   ],
   "source": [
    "import matplotlib.style as style\n",
    "style.available"
   ]
  },
  {
   "cell_type": "code",
   "execution_count": null,
   "metadata": {},
   "outputs": [],
   "source": [
    "#\n",
    "# The previous code\n",
    "# Colorblind-friendly colors\n",
    "colors = [[0,0,0], [230/255,159/255,0], [86/255,180/255,233/255], [0,158/255,115/255],\n",
    "          [213/255,94/255,0], [0,114/255,178/255]]\n",
    "\n",
    "# The previous code we modify\n",
    "fte_graph = plotname.plot(x = '', y = indexname.index, figsize = (12,8), color = colors, legend = False)\n",
    "fte_graph.tick_params(axis = 'both', which = '', labelsize = 18)\n",
    "fte_graph.set_yticklabels(labels = [-10, '0   ', '10   ', '20   ', '30   ', '40   ', '50%'])\n",
    "\n",
    "# Generate a bolded horizontal line at y = 0\n",
    "fte_graph.axhline(y = 0, color = 'black', linewidth = 1.3, alpha = .7)\n",
    "# Add an extra vertical line by tweaking the range of the x-axis\n",
    "fte_graph.set_xlim(left = 1969, right = 2011)\n",
    "\n",
    "# Add colored labels\n",
    "fte_graph.text(x = 1994, y = 44, s = '', color = colors[0], weight = 'bold', rotation = 33,\n",
    "              backgroundcolor = '#f0f0f0')\n",
    "fte_graph.text(x = 1985, y = 42.2, s = '', color = colors[1], weight = 'bold', rotation = 18,\n",
    "              backgroundcolor = '#f0f0f0')\n",
    "fte_graph.text(x = 2004, y = 51, s = '', color = colors[2], weight = 'bold', rotation = -5,\n",
    "               backgroundcolor = '#f0f0f0')\n",
    "fte_graph.text(x = 2001, y = 30, s = ' ', color = colors[3], weight = 'bold', rotation = -42.5,\n",
    "              backgroundcolor = '#f0f0f0')\n",
    "fte_graph.text(x = 1987, y = 11.5, s = '', color = colors[4], weight = 'bold',\n",
    "              backgroundcolor = '#f0f0f0')\n",
    "fte_graph.text(x = 1976, y = 25, s = '', color = colors[5], weight = 'bold', rotation = 27,\n",
    "              backgroundcolor = '#f0f0f0')\n"
   ]
  },
  {
   "cell_type": "code",
   "execution_count": null,
   "metadata": {},
   "outputs": [],
   "source": [
    "# Remove the label of the x-axis\n",
    "fte_graph.xaxis.label.set_visible(False)\n",
    "\n",
    "# The signature bar\n",
    "fte_graph.text(x = 1965.8, y = -7,\n",
    "    s = 'Source: ',fontsize = 14, color = '#f0f0f0', backgroundcolor = 'grey')"
   ]
  },
  {
   "cell_type": "code",
   "execution_count": null,
   "metadata": {},
   "outputs": [],
   "source": [
    "# Adding a title and a subtitle\n",
    "fte_graph.text(x = 1966.65, y = 62.7, s = \"title\",\n",
    "               fontsize = 26, weight = 'bold', alpha = .75)\n",
    "fte_graph.text(x = 1966.65, y = 57,\n",
    "               s = 'subtitle',\n",
    "              fontsize = 19, alpha = .85)"
   ]
  }
 ],
 "metadata": {
  "interpreter": {
   "hash": "51499c2659ed4cb43a548fa4b2b62df0ca021ab0a5abe3bb135c5bc213dbd661"
  },
  "kernelspec": {
   "display_name": "Python 3.10.4 64-bit",
   "language": "python",
   "name": "python3"
  },
  "language_info": {
   "codemirror_mode": {
    "name": "ipython",
    "version": 3
   },
   "file_extension": ".py",
   "mimetype": "text/x-python",
   "name": "python",
   "nbconvert_exporter": "python",
   "pygments_lexer": "ipython3",
   "version": "3.10.4"
  },
  "orig_nbformat": 4
 },
 "nbformat": 4,
 "nbformat_minor": 2
}
