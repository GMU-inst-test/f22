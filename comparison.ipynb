{
 "cells": [
  {
   "cell_type": "markdown",
   "metadata": {},
   "source": [
    "anagrams, anscombe, attention, brain_networks, car_crashes*, diamonds*, dots, exercise*, flights, fmri, gammas, geyser, iris*, mpg*, penguins*, planets, taxis*, tips*, titanic*"
   ]
  },
  {
   "cell_type": "code",
   "execution_count": null,
   "metadata": {},
   "outputs": [],
   "source": [
    "import seaborn as sns\n",
    "import squarify \n",
    "import matplotlib\n",
    "import matplotlib.pyplot as plt\n",
    "import pandas as pd\n",
    "import numpy as np\n",
    "from pywaffle import Waffle\n",
    "import plotly.graph_objects as go\n",
    "from plotly.subplots import make_subplots\n",
    "data = sns.load_dataset('penguins')\n",
    "data.head() "
   ]
  },
  {
   "cell_type": "code",
   "execution_count": null,
   "metadata": {},
   "outputs": [],
   "source": [
    "data.info()"
   ]
  },
  {
   "cell_type": "code",
   "execution_count": null,
   "metadata": {},
   "outputs": [],
   "source": [
    "data.describe()"
   ]
  },
  {
   "cell_type": "code",
   "execution_count": null,
   "metadata": {},
   "outputs": [],
   "source": [
    "data.isnull().sum()"
   ]
  },
  {
   "cell_type": "code",
   "execution_count": null,
   "metadata": {},
   "outputs": [],
   "source": [
    "data['bill_length_mm'].fillna(data['bill_length_mm'].mean(), inplace=True)\n",
    "data['bill_depth_mm'].fillna(data['bill_depth_mm'].mean(), inplace=True)\n",
    "data['flipper_length_mm'].fillna(data['flipper_length_mm'].mean(), inplace=True)\n",
    "data['body_mass_g'].fillna(data['body_mass_g'].mean(), inplace=True)\n",
    "data['sex'].fillna(data['sex'].value_counts().index[0], inplace=True)\n",
    "data.isnull().sum()\n"
   ]
  },
  {
   "cell_type": "code",
   "execution_count": null,
   "metadata": {},
   "outputs": [],
   "source": [
    "data.head()"
   ]
  },
  {
   "cell_type": "code",
   "execution_count": null,
   "metadata": {},
   "outputs": [],
   "source": [
    "#Options are below for plots using Seaborn. Examples in following blocks.\n",
    "'''\n",
    "(data, kind, x, y, style, col, size, ci, row, hue, palette, order, orient, height, aspect, markers, linestyles, split, inner, col_wrap)\n",
    "viz = sns.relplot(                      #What category of plot (catplot, relplot, displot)\n",
    "    data=data,                          #What is your dataset?\n",
    "    data=data.query(use \" \" and/or),    #Want to slice out any part of it for this viz?     \n",
    "    kind = \"line\",                      #Plot type [relplot (line, scatter), catplot (strip, box, violin, boxen, point, bar, count, swarm)\n",
    "                                        displot (hist, kde, ecdf), lmplot, regplot, residplot, heatmap, clustermap]\n",
    "    x = \"flipper_length_mm\",            #What is your X\n",
    "    y = \"bill_length_mm\",               #What is your Y   \n",
    "    style = ,                           #Similar to hue, set marker style based on category\n",
    "    col = \"species\",                    #Want to break out into small multiples vertically?    \n",
    "    size = ,                            #Automatically normalized into ranges, size of marker or line by value\n",
    "    ci = \"sd\",                          #Confidence interval for line plots [\"none\", \"sd\"]    \n",
    "    row = ,                             #Use row with or instead of col    \n",
    "    hue = \"sex\",                        #Want to color by a 3rd feature? Lineplot shows multiple lines. Or,    \n",
    "    palette = {\" \" : \" \", \" \" : \" \"}    #Want to specify colors for each category?\n",
    "    order = [\" \", \" \"],                 #Order your categories explicitly, or data = data.sort_values(\"feature\")\n",
    "    orient = \"h\",                       #Want to swap x and y?     \n",
    "    height = , aspect = ,               #Want to set the height and width?    \n",
    "    markers = [\"^\", \"o\"],               #Want some cool markers?\n",
    "    linestyles = [\"--\"]                 #Want some cool linestyles? Line plot shows multiple lines.\n",
    "    split = True,                       #Use to split violin plot into two hues\n",
    "    inner = \"stick\"                     #Use to add value markers inside violin plot\n",
    "    col_wrap = 5                        #Wraps values in small multiples of 5 columns, across many values    \n",
    "    )\n",
    "\n",
    "viz.set_axis_labels(\"Flipper length\", \"Bill length\")\n",
    "viz.set(xscale = \"log\")                 #Use to convert x to log scale\n",
    "viz.figure.autofmt_xdate()              #Use when plotting time series, to format date\n",
    "viz2 = sns.type(args, ax = viz.ax)      #Use to add a second type of plot to the same axis\n",
    "'''"
   ]
  },
  {
   "cell_type": "code",
   "execution_count": null,
   "metadata": {},
   "outputs": [],
   "source": [
    "#viz = sns.<typeplot>(data, kind, x, y, style, col, size, ci, row, hue, \n",
    "# palette, order, orient, height, aspect, markers, linestyles, split, inner, col_wrap)\n",
    "viz = sns.catplot(\n",
    "    x = \"species\", y = \"body_mass_g\",\n",
    "    kind = \"swarm\",\n",
    "    hue = \"island\",\n",
    "    palette = \"hsv\",\n",
    "    data = data.query(\"body_mass_g > 3500\" and \"body_mass_g < 5000\")\n",
    ")"
   ]
  },
  {
   "cell_type": "code",
   "execution_count": null,
   "metadata": {},
   "outputs": [],
   "source": [
    "#viz = sns.<typeplot>(data, kind, x, y, style, col, size, ci, row, hue, \n",
    "# palette, order, orient, height, aspect, markers, linestyles, split, inner, col_wrap)\n",
    "\n",
    "viz = sns.catplot(                      #What category of plot (catplot, relplot, displot)\n",
    "    data=data,                          #What is your dataset?\n",
    "    kind = \"strip\",                      #Plot type [catplot (strip, box, violin, boxen, point, bar, count, swarm)\n",
    "    x = \"species\",\n",
    "    y = \"body_mass_g\",\n",
    "    hue = \"island\",\n",
    "    palette = \"hsv\"\n",
    ")"
   ]
  },
  {
   "cell_type": "code",
   "execution_count": null,
   "metadata": {},
   "outputs": [],
   "source": [
    "#viz = sns.<typeplot>(data, kind, x, y, style, col, size, ci, row, hue, \n",
    "# palette, order, orient, height, aspect, markers, linestyles, split, inner, col_wrap)\n",
    "\n",
    "viz = sns.catplot(                      #What category of plot (catplot, relplot, displot)\n",
    "    data=data,                          #What is your dataset?\n",
    "    kind = \"box\",                      #Plot type [catplot (strip, box, violin, boxen, point, bar, count, swarm)\n",
    "    x = \"species\",\n",
    "    y = \"body_mass_g\",\n",
    "    hue = \"island\",\n",
    "    palette = \"hsv\"\n",
    ")"
   ]
  },
  {
   "cell_type": "code",
   "execution_count": null,
   "metadata": {},
   "outputs": [],
   "source": [
    "#viz = sns.<typeplot>(data, kind, x, y, style, col, size, ci, row, hue, \n",
    "# palette, order, orient, height, aspect, markers, linestyles, split, inner, col_wrap)\n",
    "\n",
    "viz = sns.catplot(                      #What category of plot (catplot, relplot, displot)\n",
    "    data=data,                          #What is your dataset?\n",
    "    kind = \"violin\",                    #Plot type [catplot (strip, box, violin, boxen, point, bar, count, swarm)\n",
    "    x = \"species\",\n",
    "    y = \"body_mass_g\",\n",
    "    hue = \"sex\",\n",
    "    split = True,\n",
    "    inner = \"stick\",\n",
    "    palette = \"hsv\"\n",
    ")"
   ]
  },
  {
   "cell_type": "code",
   "execution_count": null,
   "metadata": {},
   "outputs": [],
   "source": [
    "#viz = sns.<typeplot>(data, kind, x, y, style, col, size, ci, row, hue, \n",
    "# palette, order, orient, height, aspect, markers, linestyles, split, inner, col_wrap)\n",
    "\n",
    "viz = sns.catplot(                      #What category of plot (catplot, relplot, displot)\n",
    "    data=data,                          #What is your dataset?\n",
    "    kind = \"boxen\",                      #Plot type [catplot (strip, box, violin, boxen, point, bar, count, swarm)\n",
    "    x = \"species\",\n",
    "    y = \"body_mass_g\",\n",
    "    hue = \"island\",\n",
    "    palette = \"hsv\"\n",
    ")"
   ]
  },
  {
   "cell_type": "code",
   "execution_count": null,
   "metadata": {},
   "outputs": [],
   "source": [
    "#viz = sns.<typeplot>(data, kind, x, y, style, col, size, ci, row, hue, \n",
    "# palette, order, orient, height, aspect, markers, linestyles, split, inner, col_wrap)\n",
    "\n",
    "viz = sns.catplot(                      #What category of plot (catplot, relplot, displot)\n",
    "    data=data,                          #What is your dataset?\n",
    "    kind = \"point\",                      #Plot type [catplot (strip, box, violin, boxen, point, bar, count, swarm)\n",
    "    x = \"species\",\n",
    "    y = \"body_mass_g\",\n",
    "    col = \"island\",\n",
    "    palette = \"hsv\"\n",
    ")"
   ]
  },
  {
   "cell_type": "code",
   "execution_count": null,
   "metadata": {},
   "outputs": [],
   "source": [
    "#viz = sns.<typeplot>(data, kind, x, y, style, col, size, ci, row, hue, \n",
    "# palette, order, orient, height, aspect, markers, linestyles, split, inner, col_wrap)\n",
    "\n",
    "viz = sns.catplot(                      #What category of plot (catplot, relplot, displot)\n",
    "    data=data,                          #What is your dataset?\n",
    "    kind = \"bar\",                      #Plot type [catplot (strip, box, violin, boxen, point, bar, count, swarm)\n",
    "    x = \"body_mass_g\",\n",
    "    y = \"species\",\n",
    "    hue = \"island\",\n",
    "    orient = \"h\",\n",
    "    palette = \"hsv\"\n",
    ")"
   ]
  },
  {
   "cell_type": "code",
   "execution_count": null,
   "metadata": {},
   "outputs": [],
   "source": [
    "#viz = sns.<typeplot>(data, kind, x, y, style, col, size, ci, row, hue, \n",
    "# palette, order, orient, height, aspect, markers, linestyles, split, inner, col_wrap)\n",
    "\n",
    "viz = sns.catplot(                      #What category of plot (catplot, relplot, displot)\n",
    "    data=data,                          #What is your dataset?\n",
    "    kind = \"count\",                     #Plot type [catplot (strip, box, violin, boxen, point, bar, count, swarm)\n",
    "    y = \"species\",\n",
    "    #y = \"body_mass_g\",\n",
    "    hue = \"island\",\n",
    "    orient = \"h\",\n",
    "    palette = \"hsv\"\n",
    ")"
   ]
  },
  {
   "cell_type": "code",
   "execution_count": null,
   "metadata": {},
   "outputs": [],
   "source": [
    "#viz = sns.<typeplot>(data, kind, x, y, style, col, size, ci, row, hue, \n",
    "# palette, order, orient, height, aspect, markers, linestyles, split, inner, col_wrap)\n",
    "\n",
    "viz = sns.catplot(                      #What category of plot (catplot, relplot, displot)\n",
    "    data=data,                          #What is your dataset?\n",
    "    kind = \"boxen\",                      #Plot type [catplot (strip, box, violin, boxen, point, bar, count, swarm)\n",
    "    x = \"species\",\n",
    "    y = \"body_mass_g\",\n",
    "    hue = \"island\",\n",
    "    palette = \"hsv\"\n",
    ")"
   ]
  },
  {
   "cell_type": "code",
   "execution_count": null,
   "metadata": {},
   "outputs": [],
   "source": [
    "#(data, kind, x, y, style, col, size, ci, row, hue, palette, order, orient, height, \n",
    "# aspect, markers, linestyles, split, inner, col_wrap)\n",
    "\n",
    "viz = sns.displot(                      #What category of plot (catplot, relplot, displot)\n",
    "    data = data,                          #What is your dataset?\n",
    "    kind = \"hist\",                     #Plot type [displot (hist, kde, ecdf)]\n",
    "    #x = \"species\",\n",
    "    col = \"island\",\n",
    "    x = \"body_mass_g\",                  #To make graphs horizontal, simply change x to y\n",
    "    hue = \"island\",\n",
    "    palette = \"hsv\"\n",
    ")"
   ]
  },
  {
   "cell_type": "code",
   "execution_count": null,
   "metadata": {},
   "outputs": [],
   "source": [
    "#(data, kind, x, y, style, col, size, ci, row, hue, palette, order, orient, height, \n",
    "# aspect, markers, linestyles, split, inner, col_wrap)\n",
    "\n",
    "viz = sns.displot(                      #What category of plot (catplot, relplot, displot)\n",
    "    data = data,                          #What is your dataset?\n",
    "    kind = \"kde\",                     #Plot type [displot (hist, kde, ecdf)]\n",
    "    #x = \"species\",\n",
    "    x = \"body_mass_g\",                  #To make graphs horizontal, simply change x to y\n",
    "    hue = \"island\",\n",
    "    palette = \"hsv\"\n",
    ")"
   ]
  },
  {
   "cell_type": "code",
   "execution_count": null,
   "metadata": {},
   "outputs": [],
   "source": [
    "#(data, kind, x, y, style, col, size, ci, row, hue, palette, order, orient, height, \n",
    "# aspect, markers, linestyles, split, inner, col_wrap)\n",
    "\n",
    "viz = sns.displot(                      #What category of plot (catplot, relplot, displot)\n",
    "    data = data,                          #What is your dataset?\n",
    "    kind = \"ecdf\",                     #Plot type [displot (hist, kde, ecdf)]\n",
    "    #x = \"species\",\n",
    "    x = \"body_mass_g\",                  \n",
    "    hue = \"island\",\n",
    "    palette = \"hsv\"\n",
    ")"
   ]
  },
  {
   "cell_type": "code",
   "execution_count": null,
   "metadata": {},
   "outputs": [],
   "source": [
    "#(data, kind, x, y, style, col, size, ci, row, hue, palette, order, orient, height, \n",
    "# aspect, markers, linestyles, split, inner, col_wrap)\n",
    "#bill length and depth, flipper length, body mass\n",
    "\n",
    "viz = sns.clustermap(\n",
    "    data = data.drop([\"species\", \"island\", \"sex\", \"body_mass_g\", \"flipper_length_mm\"], axis = 1)\n",
    ")"
   ]
  },
  {
   "cell_type": "code",
   "execution_count": null,
   "metadata": {},
   "outputs": [],
   "source": [
    "#This type of plot does not use the Seaborn arguments like \"hue\"\n",
    "#Consult Seaborn site for this type of plot\n",
    "\n",
    "viz = sns.regplot(\n",
    "    data = data,\n",
    "    x = \"flipper_length_mm\",\n",
    "    y = \"bill_length_mm\",\n",
    "    ci = 99,\n",
    ")"
   ]
  },
  {
   "cell_type": "code",
   "execution_count": null,
   "metadata": {},
   "outputs": [],
   "source": [
    "flights = sns.load_dataset(\"flights\")\n",
    "flights = flights.pivot(\"month\", \"year\", \"passengers\")\n",
    "ax = sns.heatmap(flights)\n"
   ]
  },
  {
   "cell_type": "code",
   "execution_count": null,
   "metadata": {},
   "outputs": [],
   "source": [
    "#Create groups to compare across. There are approaches that don't require pre-grouping, but some do (eg. treemap).\n",
    "#Bill length by species, island and sex\n",
    "#Bill depth by species, island and sex \n",
    "#Body mass by species, island and sex\n",
    "#Flipper length by species, island and sex\n",
    "species_count = data.groupby('species')[['species']].count()\n",
    "sex_count = data.groupby('sex')[['sex']].count()\n",
    "island_count = data.groupby('island')[['island']].count()\n",
    "species_billlen = data.groupby('species')[['bill_length_mm']].mean()\n",
    "species_billdep = data.groupby('species')[['bill_depth_mm']].mean()\n",
    "species_flipperlen = data.groupby('species')[['flipper_length_mm']].mean()\n",
    "species_bodymass = data.groupby('species')[['body_mass_g']].mean()\n",
    "island_billlen = data.groupby('island')[['bill_length_mm']].mean()\n",
    "island_billdep = data.groupby('island')[['bill_depth_mm']].mean()\n",
    "island_flipperlen = data.groupby('island')[['flipper_length_mm']].mean()\n",
    "island_bodymass = data.groupby('island')[['body_mass_g']].mean()\n",
    "sex_billlen = data.groupby('sex')[['bill_length_mm']].mean()\n",
    "sex_billdep = data.groupby('sex')[['bill_depth_mm']].mean()\n",
    "sex_flipperlen = data.groupby('sex')[['flipper_length_mm']].mean()\n",
    "sex_bodymass = data.groupby('sex')[['body_mass_g']].mean()\n",
    "print(island_bodymass)\n"
   ]
  },
  {
   "cell_type": "code",
   "execution_count": null,
   "metadata": {},
   "outputs": [],
   "source": [
    "# Creating Treemap subplots\n",
    "fig, ax = plt.subplots(nrows=4, ncols=1, figsize=(15, 8))\n",
    "\n",
    "squarify.plot(sizes=species_billlen.values, label=species_billlen.index, pad=True, ax = ax[0])\n",
    "squarify.plot(sizes=species_billdep.values, label=species_billdep.index, pad=True, ax = ax[1])\n",
    "squarify.plot(sizes=species_flipperlen.values, label=species_flipperlen.index, pad=True, ax = ax[2])\n",
    "squarify.plot(sizes=species_bodymass.values, label=species_bodymass.index, pad=True, ax = ax[3])\n",
    "\n",
    "ax[0].axis('off')\n",
    "ax[1].axis('off')\n",
    "ax[2].axis('off')\n",
    "ax[3].axis('off')\n",
    "ax[0].set_title(\"bill length\")\n",
    "ax[1].set_title(\"bill depth\")\n",
    "ax[2].set_title(\"flipper length\")\n",
    "ax[3].set_title(\"body mass\")\n",
    "\n",
    "# Displaying the plot\n",
    "plt.show()"
   ]
  },
  {
   "cell_type": "code",
   "execution_count": null,
   "metadata": {},
   "outputs": [],
   "source": [
    "#CREATING COLORMAPS\n",
    "\n",
    "cmaps = {}\n",
    "\n",
    "gradient = np.linspace(0, 1, 256)\n",
    "gradient = np.vstack((gradient, gradient))\n",
    "\n",
    "\n",
    "def plot_color_gradients(category, cmap_list):\n",
    "    # Create figure and adjust figure height to number of colormaps\n",
    "    nrows = len(cmap_list)\n",
    "    figh = 0.35 + 0.15 + (nrows + (nrows - 1) * 0.1) * 0.22\n",
    "    fig, axs = plt.subplots(nrows=nrows + 1, figsize=(6.4, figh))\n",
    "    fig.subplots_adjust(top=1 - 0.35 / figh, bottom=0.15 / figh,\n",
    "                        left=0.2, right=0.99)\n",
    "    axs[0].set_title(f'{category} colormaps', fontsize=14)\n",
    "\n",
    "    for ax, name in zip(axs, cmap_list):\n",
    "        ax.imshow(gradient, aspect='auto', cmap=plt.get_cmap(name))\n",
    "        ax.text(-0.01, 0.5, name, va='center', ha='right', fontsize=10,\n",
    "                transform=ax.transAxes)\n",
    "\n",
    "    # Turn off *all* ticks & spines, not just the ones with colormaps.\n",
    "    for ax in axs:\n",
    "        ax.set_axis_off()\n",
    "\n",
    "    # Save colormap list for later.\n",
    "    cmaps[category] = cmap_list"
   ]
  },
  {
   "cell_type": "code",
   "execution_count": null,
   "metadata": {},
   "outputs": [],
   "source": [
    "plot_color_gradients('Perceptually Uniform Sequential',\n",
    "                     ['viridis', 'plasma', 'inferno', 'magma', 'cividis'])"
   ]
  },
  {
   "cell_type": "code",
   "execution_count": null,
   "metadata": {},
   "outputs": [],
   "source": [
    "plot_color_gradients('Sequential',\n",
    "                     ['Greys', 'Purples', 'Blues', 'Greens', 'Oranges', 'Reds',\n",
    "                      'YlOrBr', 'YlOrRd', 'OrRd', 'PuRd', 'RdPu', 'BuPu',\n",
    "                      'GnBu', 'PuBu', 'YlGnBu', 'PuBuGn', 'BuGn', 'YlGn'])"
   ]
  },
  {
   "cell_type": "code",
   "execution_count": null,
   "metadata": {},
   "outputs": [],
   "source": [
    "plot_color_gradients('Sequential (2)',\n",
    "                     ['binary', 'gist_yarg', 'gist_gray', 'gray', 'bone',\n",
    "                      'pink', 'spring', 'summer', 'autumn', 'winter', 'cool',\n",
    "                      'Wistia', 'hot', 'afmhot', 'gist_heat', 'copper'])"
   ]
  },
  {
   "cell_type": "code",
   "execution_count": null,
   "metadata": {},
   "outputs": [],
   "source": [
    "plot_color_gradients('Diverging',\n",
    "                     ['PiYG', 'PRGn', 'BrBG', 'PuOr', 'RdGy', 'RdBu', 'RdYlBu',\n",
    "                      'RdYlGn', 'Spectral', 'coolwarm', 'bwr', 'seismic'])"
   ]
  },
  {
   "cell_type": "code",
   "execution_count": null,
   "metadata": {},
   "outputs": [],
   "source": [
    "plot_color_gradients('Cyclic', ['twilight', 'twilight_shifted', 'hsv'])"
   ]
  },
  {
   "cell_type": "code",
   "execution_count": null,
   "metadata": {},
   "outputs": [],
   "source": [
    "plot_color_gradients('Miscellaneous',\n",
    "                     ['flag', 'prism', 'ocean', 'gist_earth', 'terrain',\n",
    "                      'gist_stern', 'gnuplot', 'gnuplot2', 'CMRmap',\n",
    "                      'cubehelix', 'brg', 'gist_rainbow', 'rainbow', 'jet',\n",
    "                      'turbo', 'nipy_spectral', 'gist_ncar'])\n",
    "\n",
    "plt.show()\n"
   ]
  },
  {
   "cell_type": "code",
   "execution_count": null,
   "metadata": {},
   "outputs": [],
   "source": []
  },
  {
   "cell_type": "code",
   "execution_count": null,
   "metadata": {},
   "outputs": [],
   "source": []
  },
  {
   "cell_type": "code",
   "execution_count": null,
   "metadata": {},
   "outputs": [],
   "source": []
  },
  {
   "cell_type": "code",
   "execution_count": null,
   "metadata": {},
   "outputs": [],
   "source": []
  }
 ],
 "metadata": {
  "interpreter": {
   "hash": "fa8389db6f61e5dc26802b98450781d4885c26e11e644f4edc4fdb3b4e26e41f"
  },
  "kernelspec": {
   "display_name": "Python 3.10.1 64-bit",
   "language": "python",
   "name": "python3"
  },
  "language_info": {
   "codemirror_mode": {
    "name": "ipython",
    "version": 3
   },
   "file_extension": ".py",
   "mimetype": "text/x-python",
   "name": "python",
   "nbconvert_exporter": "python",
   "pygments_lexer": "ipython3",
   "version": "3.10.1"
  },
  "orig_nbformat": 4
 },
 "nbformat": 4,
 "nbformat_minor": 2
}
